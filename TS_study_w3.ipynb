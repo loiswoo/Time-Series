{
  "nbformat": 4,
  "nbformat_minor": 0,
  "metadata": {
    "colab": {
      "provenance": [],
      "toc_visible": true,
      "include_colab_link": true
    },
    "kernelspec": {
      "name": "python3",
      "display_name": "Python 3"
    },
    "language_info": {
      "name": "python"
    }
  },
  "cells": [
    {
      "cell_type": "markdown",
      "metadata": {
        "id": "view-in-github",
        "colab_type": "text"
      },
      "source": [
        "<a href=\"https://colab.research.google.com/github/loiswoo/Time-Series/blob/main/TS_study_w3.ipynb\" target=\"_parent\"><img src=\"https://colab.research.google.com/assets/colab-badge.svg\" alt=\"Open In Colab\"/></a>"
      ]
    },
    {
      "cell_type": "markdown",
      "source": [
        "# S&P 500 Stocks Prediction using ARIMA\n",
        "\n",
        "\n",
        "https://www.kaggle.com/code/yassinesfaihi/arima-time-series-forecasting-s-p-500-stock/notebook"
      ],
      "metadata": {
        "id": "8r8TCATmUqDf"
      }
    },
    {
      "cell_type": "markdown",
      "source": [
        "참고한 자료들: 3주차  baseline, \n",
        "삼성 주가 예측 코드\n"
      ],
      "metadata": {
        "id": "8py28yP1UM2w"
      }
    },
    {
      "cell_type": "code",
      "execution_count": 2,
      "metadata": {
        "id": "LikINbwLgaYf"
      },
      "outputs": [],
      "source": [
        "import numpy as np\n",
        "import pandas as pd\n",
        "import matplotlib.pyplot as plt\n",
        "%matplotlib inline\n",
        "import seaborn as sns\n",
        "from datetime import datetime\n",
        "pd.options.display.float_format = '{:.2f}'.format\n",
        "from tqdm import tqdm\n",
        "import warnings\n",
        "warnings.filterwarnings('ignore')\n",
        "import pickle\n",
        "\n",
        "from itertools import combinations\n",
        "from statsmodels.tsa.stattools import adfuller\n",
        "from statsmodels.tsa.stattools import acf, pacf\n",
        "from statsmodels.tsa.arima.model import ARIMA as ARIMA\n",
        "import statsmodels.api as sm\n",
        "import statsmodels.tsa.api as smt\n",
        "from sklearn.metrics import r2_score"
      ]
    },
    {
      "cell_type": "code",
      "source": [
        "!pip install sklearn.metrics"
      ],
      "metadata": {
        "colab": {
          "base_uri": "https://localhost:8080/"
        },
        "id": "xopkLt8hfDfL",
        "outputId": "2f527044-8ed1-40de-9b44-a572a40e3243"
      },
      "execution_count": 35,
      "outputs": [
        {
          "output_type": "stream",
          "name": "stdout",
          "text": [
            "Looking in indexes: https://pypi.org/simple, https://us-python.pkg.dev/colab-wheels/public/simple/\n",
            "\u001b[31mERROR: Could not find a version that satisfies the requirement sklearn.metrics (from versions: none)\u001b[0m\u001b[31m\n",
            "\u001b[0m\u001b[31mERROR: No matching distribution found for sklearn.metrics\u001b[0m\u001b[31m\n",
            "\u001b[0m"
          ]
        }
      ]
    },
    {
      "cell_type": "code",
      "source": [
        "from sklearn.metrics import mean_squared_error\n",
        "from sklearn.metrics import mean_absolute_error\n",
        "from sklearn.metrics import mean_absolute_percentage_error"
      ],
      "metadata": {
        "id": "Ix-ff6vvb513"
      },
      "execution_count": 37,
      "outputs": []
    },
    {
      "cell_type": "code",
      "source": [
        "!pip install pmdarima"
      ],
      "metadata": {
        "colab": {
          "base_uri": "https://localhost:8080/"
        },
        "id": "-xymYfoaTPiW",
        "outputId": "1fb1091e-65ab-43b5-deff-d4426d2af8ed"
      },
      "execution_count": 32,
      "outputs": [
        {
          "output_type": "stream",
          "name": "stdout",
          "text": [
            "Looking in indexes: https://pypi.org/simple, https://us-python.pkg.dev/colab-wheels/public/simple/\n",
            "Collecting pmdarima\n",
            "  Downloading pmdarima-2.0.3-cp39-cp39-manylinux_2_17_x86_64.manylinux2014_x86_64.manylinux_2_28_x86_64.whl (1.9 MB)\n",
            "\u001b[2K     \u001b[90m━━━━━━━━━━━━━━━━━━━━━━━━━━━━━━━━━━━━━━━━\u001b[0m \u001b[32m1.9/1.9 MB\u001b[0m \u001b[31m19.8 MB/s\u001b[0m eta \u001b[36m0:00:00\u001b[0m\n",
            "\u001b[?25hRequirement already satisfied: numpy>=1.21.2 in /usr/local/lib/python3.9/dist-packages (from pmdarima) (1.22.4)\n",
            "Requirement already satisfied: urllib3 in /usr/local/lib/python3.9/dist-packages (from pmdarima) (1.26.15)\n",
            "Requirement already satisfied: setuptools!=50.0.0,>=38.6.0 in /usr/local/lib/python3.9/dist-packages (from pmdarima) (63.4.3)\n",
            "Requirement already satisfied: joblib>=0.11 in /usr/local/lib/python3.9/dist-packages (from pmdarima) (1.1.1)\n",
            "Requirement already satisfied: pandas>=0.19 in /usr/local/lib/python3.9/dist-packages (from pmdarima) (1.4.4)\n",
            "Requirement already satisfied: scipy>=1.3.2 in /usr/local/lib/python3.9/dist-packages (from pmdarima) (1.10.1)\n",
            "Requirement already satisfied: Cython!=0.29.18,!=0.29.31,>=0.29 in /usr/local/lib/python3.9/dist-packages (from pmdarima) (0.29.33)\n",
            "Requirement already satisfied: scikit-learn>=0.22 in /usr/local/lib/python3.9/dist-packages (from pmdarima) (1.2.2)\n",
            "Requirement already satisfied: statsmodels>=0.13.2 in /usr/local/lib/python3.9/dist-packages (from pmdarima) (0.13.5)\n",
            "Requirement already satisfied: pytz>=2020.1 in /usr/local/lib/python3.9/dist-packages (from pandas>=0.19->pmdarima) (2022.7.1)\n",
            "Requirement already satisfied: python-dateutil>=2.8.1 in /usr/local/lib/python3.9/dist-packages (from pandas>=0.19->pmdarima) (2.8.2)\n",
            "Requirement already satisfied: threadpoolctl>=2.0.0 in /usr/local/lib/python3.9/dist-packages (from scikit-learn>=0.22->pmdarima) (3.1.0)\n",
            "Requirement already satisfied: packaging>=21.3 in /usr/local/lib/python3.9/dist-packages (from statsmodels>=0.13.2->pmdarima) (23.0)\n",
            "Requirement already satisfied: patsy>=0.5.2 in /usr/local/lib/python3.9/dist-packages (from statsmodels>=0.13.2->pmdarima) (0.5.3)\n",
            "Requirement already satisfied: six in /usr/local/lib/python3.9/dist-packages (from patsy>=0.5.2->statsmodels>=0.13.2->pmdarima) (1.16.0)\n",
            "Installing collected packages: pmdarima\n",
            "Successfully installed pmdarima-2.0.3\n"
          ]
        }
      ]
    },
    {
      "cell_type": "code",
      "source": [
        "from statsmodels.tsa.statespace.sarimax import SARIMAX\n",
        "from pmdarima.arima import auto_arima"
      ],
      "metadata": {
        "id": "YhDVjBm9SxpT"
      },
      "execution_count": 3,
      "outputs": []
    },
    {
      "cell_type": "code",
      "source": [
        "df = pd.read_csv(\"/content/all_stocks_5yr.csv\")"
      ],
      "metadata": {
        "id": "GdTQe1rwgfrK"
      },
      "execution_count": 4,
      "outputs": []
    },
    {
      "cell_type": "code",
      "source": [
        "df.info()"
      ],
      "metadata": {
        "colab": {
          "base_uri": "https://localhost:8080/"
        },
        "id": "37K3H7ROggBG",
        "outputId": "5c426dd5-1907-43d1-e6a7-9f263d0174b7"
      },
      "execution_count": null,
      "outputs": [
        {
          "output_type": "stream",
          "name": "stdout",
          "text": [
            "<class 'pandas.core.frame.DataFrame'>\n",
            "RangeIndex: 169676 entries, 0 to 169675\n",
            "Data columns (total 7 columns):\n",
            " #   Column  Non-Null Count   Dtype  \n",
            "---  ------  --------------   -----  \n",
            " 0   Date    169676 non-null  object \n",
            " 1   Open    169569 non-null  float64\n",
            " 2   High    169619 non-null  float64\n",
            " 3   Low     169613 non-null  float64\n",
            " 4   Close   169675 non-null  float64\n",
            " 5   Volume  169269 non-null  float64\n",
            " 6   Name    169675 non-null  object \n",
            "dtypes: float64(5), object(2)\n",
            "memory usage: 9.1+ MB\n"
          ]
        }
      ]
    },
    {
      "cell_type": "code",
      "source": [
        "df = df.dropna()"
      ],
      "metadata": {
        "id": "EXS31oaGgii0"
      },
      "execution_count": 5,
      "outputs": []
    },
    {
      "cell_type": "code",
      "source": [
        "df['Date'] = pd.to_datetime(df.Date)\n",
        "\n",
        "df = df.set_index(df.Date)\n",
        "df.drop('Date', axis = 1, inplace = True)"
      ],
      "metadata": {
        "id": "1CZ9bwL5glut"
      },
      "execution_count": 6,
      "outputs": []
    },
    {
      "cell_type": "code",
      "source": [
        "df.shape"
      ],
      "metadata": {
        "colab": {
          "base_uri": "https://localhost:8080/"
        },
        "id": "ye3xaVnZGk4y",
        "outputId": "c110be18-d631-420e-d054-f0d397148f57"
      },
      "execution_count": null,
      "outputs": [
        {
          "output_type": "execute_result",
          "data": {
            "text/plain": [
              "(606011, 6)"
            ]
          },
          "metadata": {},
          "execution_count": 15
        }
      ]
    },
    {
      "cell_type": "code",
      "source": [
        "df.head()"
      ],
      "metadata": {
        "colab": {
          "base_uri": "https://localhost:8080/",
          "height": 238
        },
        "id": "kCgJcPjxJof3",
        "outputId": "bec0c470-2af6-439a-9343-c66840075d88"
      },
      "execution_count": null,
      "outputs": [
        {
          "output_type": "execute_result",
          "data": {
            "text/plain": [
              "            Open  High   Low  Close     Volume Name\n",
              "Date                                               \n",
              "2012-08-13 92.29 92.59 91.74  92.40 2075391.00  MMM\n",
              "2012-08-14 92.36 92.50 92.01  92.30 1843476.00  MMM\n",
              "2012-08-15 92.00 92.74 91.94  92.54 1983395.00  MMM\n",
              "2012-08-16 92.75 93.87 92.21  93.74 3395145.00  MMM\n",
              "2012-08-17 93.93 94.30 93.59  94.24 3069513.00  MMM"
            ],
            "text/html": [
              "\n",
              "  <div id=\"df-4fb04435-c2bc-41d4-a13c-9e37229cb2c7\">\n",
              "    <div class=\"colab-df-container\">\n",
              "      <div>\n",
              "<style scoped>\n",
              "    .dataframe tbody tr th:only-of-type {\n",
              "        vertical-align: middle;\n",
              "    }\n",
              "\n",
              "    .dataframe tbody tr th {\n",
              "        vertical-align: top;\n",
              "    }\n",
              "\n",
              "    .dataframe thead th {\n",
              "        text-align: right;\n",
              "    }\n",
              "</style>\n",
              "<table border=\"1\" class=\"dataframe\">\n",
              "  <thead>\n",
              "    <tr style=\"text-align: right;\">\n",
              "      <th></th>\n",
              "      <th>Open</th>\n",
              "      <th>High</th>\n",
              "      <th>Low</th>\n",
              "      <th>Close</th>\n",
              "      <th>Volume</th>\n",
              "      <th>Name</th>\n",
              "    </tr>\n",
              "    <tr>\n",
              "      <th>Date</th>\n",
              "      <th></th>\n",
              "      <th></th>\n",
              "      <th></th>\n",
              "      <th></th>\n",
              "      <th></th>\n",
              "      <th></th>\n",
              "    </tr>\n",
              "  </thead>\n",
              "  <tbody>\n",
              "    <tr>\n",
              "      <th>2012-08-13</th>\n",
              "      <td>92.29</td>\n",
              "      <td>92.59</td>\n",
              "      <td>91.74</td>\n",
              "      <td>92.40</td>\n",
              "      <td>2075391.00</td>\n",
              "      <td>MMM</td>\n",
              "    </tr>\n",
              "    <tr>\n",
              "      <th>2012-08-14</th>\n",
              "      <td>92.36</td>\n",
              "      <td>92.50</td>\n",
              "      <td>92.01</td>\n",
              "      <td>92.30</td>\n",
              "      <td>1843476.00</td>\n",
              "      <td>MMM</td>\n",
              "    </tr>\n",
              "    <tr>\n",
              "      <th>2012-08-15</th>\n",
              "      <td>92.00</td>\n",
              "      <td>92.74</td>\n",
              "      <td>91.94</td>\n",
              "      <td>92.54</td>\n",
              "      <td>1983395.00</td>\n",
              "      <td>MMM</td>\n",
              "    </tr>\n",
              "    <tr>\n",
              "      <th>2012-08-16</th>\n",
              "      <td>92.75</td>\n",
              "      <td>93.87</td>\n",
              "      <td>92.21</td>\n",
              "      <td>93.74</td>\n",
              "      <td>3395145.00</td>\n",
              "      <td>MMM</td>\n",
              "    </tr>\n",
              "    <tr>\n",
              "      <th>2012-08-17</th>\n",
              "      <td>93.93</td>\n",
              "      <td>94.30</td>\n",
              "      <td>93.59</td>\n",
              "      <td>94.24</td>\n",
              "      <td>3069513.00</td>\n",
              "      <td>MMM</td>\n",
              "    </tr>\n",
              "  </tbody>\n",
              "</table>\n",
              "</div>\n",
              "      <button class=\"colab-df-convert\" onclick=\"convertToInteractive('df-4fb04435-c2bc-41d4-a13c-9e37229cb2c7')\"\n",
              "              title=\"Convert this dataframe to an interactive table.\"\n",
              "              style=\"display:none;\">\n",
              "        \n",
              "  <svg xmlns=\"http://www.w3.org/2000/svg\" height=\"24px\"viewBox=\"0 0 24 24\"\n",
              "       width=\"24px\">\n",
              "    <path d=\"M0 0h24v24H0V0z\" fill=\"none\"/>\n",
              "    <path d=\"M18.56 5.44l.94 2.06.94-2.06 2.06-.94-2.06-.94-.94-2.06-.94 2.06-2.06.94zm-11 1L8.5 8.5l.94-2.06 2.06-.94-2.06-.94L8.5 2.5l-.94 2.06-2.06.94zm10 10l.94 2.06.94-2.06 2.06-.94-2.06-.94-.94-2.06-.94 2.06-2.06.94z\"/><path d=\"M17.41 7.96l-1.37-1.37c-.4-.4-.92-.59-1.43-.59-.52 0-1.04.2-1.43.59L10.3 9.45l-7.72 7.72c-.78.78-.78 2.05 0 2.83L4 21.41c.39.39.9.59 1.41.59.51 0 1.02-.2 1.41-.59l7.78-7.78 2.81-2.81c.8-.78.8-2.07 0-2.86zM5.41 20L4 18.59l7.72-7.72 1.47 1.35L5.41 20z\"/>\n",
              "  </svg>\n",
              "      </button>\n",
              "      \n",
              "  <style>\n",
              "    .colab-df-container {\n",
              "      display:flex;\n",
              "      flex-wrap:wrap;\n",
              "      gap: 12px;\n",
              "    }\n",
              "\n",
              "    .colab-df-convert {\n",
              "      background-color: #E8F0FE;\n",
              "      border: none;\n",
              "      border-radius: 50%;\n",
              "      cursor: pointer;\n",
              "      display: none;\n",
              "      fill: #1967D2;\n",
              "      height: 32px;\n",
              "      padding: 0 0 0 0;\n",
              "      width: 32px;\n",
              "    }\n",
              "\n",
              "    .colab-df-convert:hover {\n",
              "      background-color: #E2EBFA;\n",
              "      box-shadow: 0px 1px 2px rgba(60, 64, 67, 0.3), 0px 1px 3px 1px rgba(60, 64, 67, 0.15);\n",
              "      fill: #174EA6;\n",
              "    }\n",
              "\n",
              "    [theme=dark] .colab-df-convert {\n",
              "      background-color: #3B4455;\n",
              "      fill: #D2E3FC;\n",
              "    }\n",
              "\n",
              "    [theme=dark] .colab-df-convert:hover {\n",
              "      background-color: #434B5C;\n",
              "      box-shadow: 0px 1px 3px 1px rgba(0, 0, 0, 0.15);\n",
              "      filter: drop-shadow(0px 1px 2px rgba(0, 0, 0, 0.3));\n",
              "      fill: #FFFFFF;\n",
              "    }\n",
              "  </style>\n",
              "\n",
              "      <script>\n",
              "        const buttonEl =\n",
              "          document.querySelector('#df-4fb04435-c2bc-41d4-a13c-9e37229cb2c7 button.colab-df-convert');\n",
              "        buttonEl.style.display =\n",
              "          google.colab.kernel.accessAllowed ? 'block' : 'none';\n",
              "\n",
              "        async function convertToInteractive(key) {\n",
              "          const element = document.querySelector('#df-4fb04435-c2bc-41d4-a13c-9e37229cb2c7');\n",
              "          const dataTable =\n",
              "            await google.colab.kernel.invokeFunction('convertToInteractive',\n",
              "                                                     [key], {});\n",
              "          if (!dataTable) return;\n",
              "\n",
              "          const docLinkHtml = 'Like what you see? Visit the ' +\n",
              "            '<a target=\"_blank\" href=https://colab.research.google.com/notebooks/data_table.ipynb>data table notebook</a>'\n",
              "            + ' to learn more about interactive tables.';\n",
              "          element.innerHTML = '';\n",
              "          dataTable['output_type'] = 'display_data';\n",
              "          await google.colab.output.renderOutput(dataTable, element);\n",
              "          const docLink = document.createElement('div');\n",
              "          docLink.innerHTML = docLinkHtml;\n",
              "          element.appendChild(docLink);\n",
              "        }\n",
              "      </script>\n",
              "    </div>\n",
              "  </div>\n",
              "  "
            ]
          },
          "metadata": {},
          "execution_count": 18
        }
      ]
    },
    {
      "cell_type": "markdown",
      "source": [
        "## 1. Check for Stationarity of Time Series"
      ],
      "metadata": {
        "id": "gqGGkJHEU4th"
      }
    },
    {
      "cell_type": "code",
      "source": [
        "ts = df['Close']\n",
        "ts.head()"
      ],
      "metadata": {
        "colab": {
          "base_uri": "https://localhost:8080/"
        },
        "id": "ZMc8_c61eA2G",
        "outputId": "32122c32-ea52-4a45-dbd1-3f57e3ff615b"
      },
      "execution_count": 57,
      "outputs": [
        {
          "output_type": "execute_result",
          "data": {
            "text/plain": [
              "Date\n",
              "2012-08-13   92.40\n",
              "2012-08-14   92.30\n",
              "2012-08-15   92.54\n",
              "2012-08-16   93.74\n",
              "2012-08-17   94.24\n",
              "Name: Close, dtype: float64"
            ]
          },
          "metadata": {},
          "execution_count": 57
        }
      ]
    },
    {
      "cell_type": "code",
      "source": [
        "plt.figure(figsize=(15,6))\n",
        "plt.plot(range(len(ts)), ts)"
      ],
      "metadata": {
        "colab": {
          "base_uri": "https://localhost:8080/",
          "height": 283
        },
        "id": "vWbRPd8Dgo8E",
        "outputId": "bcd3c5d6-e4c2-4032-a8ba-ad43bf279e9d"
      },
      "execution_count": null,
      "outputs": [
        {
          "output_type": "execute_result",
          "data": {
            "text/plain": [
              "[<matplotlib.lines.Line2D at 0x7f0037801e80>]"
            ]
          },
          "metadata": {},
          "execution_count": 8
        },
        {
          "output_type": "display_data",
          "data": {
            "text/plain": [
              "<Figure size 432x288 with 1 Axes>"
            ],
            "image/png": "[encoded data removed]"
          },
          "metadata": {
            "needs_background": "light"
          }
        }
      ]
    },
    {
      "cell_type": "code",
      "source": [
        "decomposition = sm.tsa.seasonal_decompose(df['Close'], model = 'multiplicative', period = 1)\n",
        "fig = decomposition.plot()\n",
        "fig.set_size_inches(10,10)\n",
        "plt.show()"
      ],
      "metadata": {
        "colab": {
          "base_uri": "https://localhost:8080/",
          "height": 647
        },
        "id": "HzyThGTYFke0",
        "outputId": "df9f7ae2-4797-48d6-c49a-829265232a54"
      },
      "execution_count": 7,
      "outputs": [
        {
          "output_type": "display_data",
          "data": {
            "text/plain": [
              "<Figure size 720x720 with 4 Axes>"
            ],
            "image/png": "[encoded data removed]"
          },
          "metadata": {
            "needs_background": "light"
          }
        }
      ]
    },
    {
      "cell_type": "code",
      "source": [
        "#train:test = 8:2\n",
        "#test: 121202\n",
        "df_train = df[:484808]\n",
        "df_test = df[484808:]"
      ],
      "metadata": {
        "id": "Fq0oofKnjKR3"
      },
      "execution_count": 8,
      "outputs": []
    },
    {
      "cell_type": "code",
      "source": [
        "df_train['Close'].describe()"
      ],
      "metadata": {
        "colab": {
          "base_uri": "https://localhost:8080/"
        },
        "id": "x3oduqbMErg7",
        "outputId": "521500b6-d0ea-41d2-b379-ad619c405e54"
      },
      "execution_count": null,
      "outputs": [
        {
          "output_type": "execute_result",
          "data": {
            "text/plain": [
              "count   484808.00\n",
              "mean        81.28\n",
              "std        101.63\n",
              "min          1.59\n",
              "25%         37.24\n",
              "50%         58.27\n",
              "75%         89.38\n",
              "max       2049.00\n",
              "Name: Close, dtype: float64"
            ]
          },
          "metadata": {},
          "execution_count": 71
        }
      ]
    },
    {
      "cell_type": "code",
      "source": [
        "df_test"
      ],
      "metadata": {
        "colab": {
          "base_uri": "https://localhost:8080/",
          "height": 455
        },
        "id": "e2-X-kKY_b2U",
        "outputId": "1f252547-36a4-4907-c1e9-82b1d38f7103"
      },
      "execution_count": null,
      "outputs": [
        {
          "output_type": "execute_result",
          "data": {
            "text/plain": [
              "            Open  High   Low  Close     Volume Name\n",
              "Date                                               \n",
              "2015-07-28 83.81 85.16 83.37  84.73 1213778.00  COL\n",
              "2015-07-29 85.03 85.59 84.64  84.84 1200762.00  COL\n",
              "2015-07-30 84.54 85.52 84.30  85.05  938299.00  COL\n",
              "2015-07-31 85.45 85.45 84.32  84.62  749968.00  COL\n",
              "2015-08-03 85.01 85.54 84.51  85.20  900623.00  COL\n",
              "...          ...   ...   ...    ...        ...  ...\n",
              "2017-08-07 62.12 62.34 61.25  61.83 4208287.00  ZTS\n",
              "2017-08-08 60.49 61.00 59.50  60.00 4663668.00  ZTS\n",
              "2017-08-09 59.95 60.87 59.76  60.81 4017297.00  ZTS\n",
              "2017-08-10 60.87 61.37 59.71  59.74 2690725.00  ZTS\n",
              "2017-08-11 60.05 60.22 59.64  59.73 2285863.00  ZTS\n",
              "\n",
              "[121203 rows x 6 columns]"
            ],
            "text/html": [
              "\n",
              "  <div id=\"df-f5b1a73b-e1a4-4095-a709-8af44582c87c\">\n",
              "    <div class=\"colab-df-container\">\n",
              "      <div>\n",
              "<style scoped>\n",
              "    .dataframe tbody tr th:only-of-type {\n",
              "        vertical-align: middle;\n",
              "    }\n",
              "\n",
              "    .dataframe tbody tr th {\n",
              "        vertical-align: top;\n",
              "    }\n",
              "\n",
              "    .dataframe thead th {\n",
              "        text-align: right;\n",
              "    }\n",
              "</style>\n",
              "<table border=\"1\" class=\"dataframe\">\n",
              "  <thead>\n",
              "    <tr style=\"text-align: right;\">\n",
              "      <th></th>\n",
              "      <th>Open</th>\n",
              "      <th>High</th>\n",
              "      <th>Low</th>\n",
              "      <th>Close</th>\n",
              "      <th>Volume</th>\n",
              "      <th>Name</th>\n",
              "    </tr>\n",
              "    <tr>\n",
              "      <th>Date</th>\n",
              "      <th></th>\n",
              "      <th></th>\n",
              "      <th></th>\n",
              "      <th></th>\n",
              "      <th></th>\n",
              "      <th></th>\n",
              "    </tr>\n",
              "  </thead>\n",
              "  <tbody>\n",
              "    <tr>\n",
              "      <th>2015-07-28</th>\n",
              "      <td>83.81</td>\n",
              "      <td>85.16</td>\n",
              "      <td>83.37</td>\n",
              "      <td>84.73</td>\n",
              "      <td>1213778.00</td>\n",
              "      <td>COL</td>\n",
              "    </tr>\n",
              "    <tr>\n",
              "      <th>2015-07-29</th>\n",
              "      <td>85.03</td>\n",
              "      <td>85.59</td>\n",
              "      <td>84.64</td>\n",
              "      <td>84.84</td>\n",
              "      <td>1200762.00</td>\n",
              "      <td>COL</td>\n",
              "    </tr>\n",
              "    <tr>\n",
              "      <th>2015-07-30</th>\n",
              "      <td>84.54</td>\n",
              "      <td>85.52</td>\n",
              "      <td>84.30</td>\n",
              "      <td>85.05</td>\n",
              "      <td>938299.00</td>\n",
              "      <td>COL</td>\n",
              "    </tr>\n",
              "    <tr>\n",
              "      <th>2015-07-31</th>\n",
              "      <td>85.45</td>\n",
              "      <td>85.45</td>\n",
              "      <td>84.32</td>\n",
              "      <td>84.62</td>\n",
              "      <td>749968.00</td>\n",
              "      <td>COL</td>\n",
              "    </tr>\n",
              "    <tr>\n",
              "      <th>2015-08-03</th>\n",
              "      <td>85.01</td>\n",
              "      <td>85.54</td>\n",
              "      <td>84.51</td>\n",
              "      <td>85.20</td>\n",
              "      <td>900623.00</td>\n",
              "      <td>COL</td>\n",
              "    </tr>\n",
              "    <tr>\n",
              "      <th>...</th>\n",
              "      <td>...</td>\n",
              "      <td>...</td>\n",
              "      <td>...</td>\n",
              "      <td>...</td>\n",
              "      <td>...</td>\n",
              "      <td>...</td>\n",
              "    </tr>\n",
              "    <tr>\n",
              "      <th>2017-08-07</th>\n",
              "      <td>62.12</td>\n",
              "      <td>62.34</td>\n",
              "      <td>61.25</td>\n",
              "      <td>61.83</td>\n",
              "      <td>4208287.00</td>\n",
              "      <td>ZTS</td>\n",
              "    </tr>\n",
              "    <tr>\n",
              "      <th>2017-08-08</th>\n",
              "      <td>60.49</td>\n",
              "      <td>61.00</td>\n",
              "      <td>59.50</td>\n",
              "      <td>60.00</td>\n",
              "      <td>4663668.00</td>\n",
              "      <td>ZTS</td>\n",
              "    </tr>\n",
              "    <tr>\n",
              "      <th>2017-08-09</th>\n",
              "      <td>59.95</td>\n",
              "      <td>60.87</td>\n",
              "      <td>59.76</td>\n",
              "      <td>60.81</td>\n",
              "      <td>4017297.00</td>\n",
              "      <td>ZTS</td>\n",
              "    </tr>\n",
              "    <tr>\n",
              "      <th>2017-08-10</th>\n",
              "      <td>60.87</td>\n",
              "      <td>61.37</td>\n",
              "      <td>59.71</td>\n",
              "      <td>59.74</td>\n",
              "      <td>2690725.00</td>\n",
              "      <td>ZTS</td>\n",
              "    </tr>\n",
              "    <tr>\n",
              "      <th>2017-08-11</th>\n",
              "      <td>60.05</td>\n",
              "      <td>60.22</td>\n",
              "      <td>59.64</td>\n",
              "      <td>59.73</td>\n",
              "      <td>2285863.00</td>\n",
              "      <td>ZTS</td>\n",
              "    </tr>\n",
              "  </tbody>\n",
              "</table>\n",
              "<p>121203 rows × 6 columns</p>\n",
              "</div>\n",
              "      <button class=\"colab-df-convert\" onclick=\"convertToInteractive('df-f5b1a73b-e1a4-4095-a709-8af44582c87c')\"\n",
              "              title=\"Convert this dataframe to an interactive table.\"\n",
              "              style=\"display:none;\">\n",
              "        \n",
              "  <svg xmlns=\"http://www.w3.org/2000/svg\" height=\"24px\"viewBox=\"0 0 24 24\"\n",
              "       width=\"24px\">\n",
              "    <path d=\"M0 0h24v24H0V0z\" fill=\"none\"/>\n",
              "    <path d=\"M18.56 5.44l.94 2.06.94-2.06 2.06-.94-2.06-.94-.94-2.06-.94 2.06-2.06.94zm-11 1L8.5 8.5l.94-2.06 2.06-.94-2.06-.94L8.5 2.5l-.94 2.06-2.06.94zm10 10l.94 2.06.94-2.06 2.06-.94-2.06-.94-.94-2.06-.94 2.06-2.06.94z\"/><path d=\"M17.41 7.96l-1.37-1.37c-.4-.4-.92-.59-1.43-.59-.52 0-1.04.2-1.43.59L10.3 9.45l-7.72 7.72c-.78.78-.78 2.05 0 2.83L4 21.41c.39.39.9.59 1.41.59.51 0 1.02-.2 1.41-.59l7.78-7.78 2.81-2.81c.8-.78.8-2.07 0-2.86zM5.41 20L4 18.59l7.72-7.72 1.47 1.35L5.41 20z\"/>\n",
              "  </svg>\n",
              "      </button>\n",
              "      \n",
              "  <style>\n",
              "    .colab-df-container {\n",
              "      display:flex;\n",
              "      flex-wrap:wrap;\n",
              "      gap: 12px;\n",
              "    }\n",
              "\n",
              "    .colab-df-convert {\n",
              "      background-color: #E8F0FE;\n",
              "      border: none;\n",
              "      border-radius: 50%;\n",
              "      cursor: pointer;\n",
              "      display: none;\n",
              "      fill: #1967D2;\n",
              "      height: 32px;\n",
              "      padding: 0 0 0 0;\n",
              "      width: 32px;\n",
              "    }\n",
              "\n",
              "    .colab-df-convert:hover {\n",
              "      background-color: #E2EBFA;\n",
              "      box-shadow: 0px 1px 2px rgba(60, 64, 67, 0.3), 0px 1px 3px 1px rgba(60, 64, 67, 0.15);\n",
              "      fill: #174EA6;\n",
              "    }\n",
              "\n",
              "    [theme=dark] .colab-df-convert {\n",
              "      background-color: #3B4455;\n",
              "      fill: #D2E3FC;\n",
              "    }\n",
              "\n",
              "    [theme=dark] .colab-df-convert:hover {\n",
              "      background-color: #434B5C;\n",
              "      box-shadow: 0px 1px 3px 1px rgba(0, 0, 0, 0.15);\n",
              "      filter: drop-shadow(0px 1px 2px rgba(0, 0, 0, 0.3));\n",
              "      fill: #FFFFFF;\n",
              "    }\n",
              "  </style>\n",
              "\n",
              "      <script>\n",
              "        const buttonEl =\n",
              "          document.querySelector('#df-f5b1a73b-e1a4-4095-a709-8af44582c87c button.colab-df-convert');\n",
              "        buttonEl.style.display =\n",
              "          google.colab.kernel.accessAllowed ? 'block' : 'none';\n",
              "\n",
              "        async function convertToInteractive(key) {\n",
              "          const element = document.querySelector('#df-f5b1a73b-e1a4-4095-a709-8af44582c87c');\n",
              "          const dataTable =\n",
              "            await google.colab.kernel.invokeFunction('convertToInteractive',\n",
              "                                                     [key], {});\n",
              "          if (!dataTable) return;\n",
              "\n",
              "          const docLinkHtml = 'Like what you see? Visit the ' +\n",
              "            '<a target=\"_blank\" href=https://colab.research.google.com/notebooks/data_table.ipynb>data table notebook</a>'\n",
              "            + ' to learn more about interactive tables.';\n",
              "          element.innerHTML = '';\n",
              "          dataTable['output_type'] = 'display_data';\n",
              "          await google.colab.output.renderOutput(dataTable, element);\n",
              "          const docLink = document.createElement('div');\n",
              "          docLink.innerHTML = docLinkHtml;\n",
              "          element.appendChild(docLink);\n",
              "        }\n",
              "      </script>\n",
              "    </div>\n",
              "  </div>\n",
              "  "
            ]
          },
          "metadata": {},
          "execution_count": 38
        }
      ]
    },
    {
      "cell_type": "code",
      "source": [
        "plt.figure(figsize =(12,8))\n",
        "plt.subplot(221)\n",
        "plt.hist(ts)\n",
        "plt.subplot(222)\n",
        "ts.plot(kind = 'kde')"
      ],
      "metadata": {
        "colab": {
          "base_uri": "https://localhost:8080/",
          "height": 264
        },
        "id": "a8pY0xkcgrRc",
        "outputId": "749bc75f-c954-4ab4-fac3-5e4c9d63aa8d"
      },
      "execution_count": 60,
      "outputs": [
        {
          "output_type": "execute_result",
          "data": {
            "text/plain": [
              "<Axes: ylabel='Density'>"
            ]
          },
          "metadata": {},
          "execution_count": 60
        },
        {
          "output_type": "display_data",
          "data": {
            "text/plain": [
              "<Figure size 864x576 with 2 Axes>"
            ],
            "image/png": "[encoded data removed]"
          },
          "metadata": {
            "needs_background": "light"
          }
        }
      ]
    },
    {
      "cell_type": "code",
      "source": [
        "fig, ax = plt.subplots(1,2,figsize=(10,5))\n",
        "sm.graphics.tsa.plot_acf(df_train.Close.values.squeeze(), lags = 30, ax=ax[0] );\n",
        "sm.graphics.tsa.plot_pacf(df_train.Close.values.squeeze(), lags = 30, ax = ax[1]);"
      ],
      "metadata": {
        "colab": {
          "base_uri": "https://localhost:8080/",
          "height": 336
        },
        "id": "zy0ZMpN7OeI3",
        "outputId": "e0d3777a-8588-4d38-d9f3-f0e3a48f28c6"
      },
      "execution_count": null,
      "outputs": [
        {
          "output_type": "display_data",
          "data": {
            "text/plain": [
              "<Figure size 720x360 with 2 Axes>"
            ],
            "image/png": "[encoded data removed]"
          },
          "metadata": {
            "needs_background": "light"
          }
        }
      ]
    },
    {
      "cell_type": "markdown",
      "source": [
        "Autocorrelation에서 서서히 감소하고 있기 때문에 Non-stationary한 데이터라고 볼 수 있다. 따라서 Differencing(차분) 과정을 거칠 필요가 있다."
      ],
      "metadata": {
        "id": "CD-cFl_qU8fJ"
      }
    },
    {
      "cell_type": "markdown",
      "source": [
        "## 2. Make the Series Staionary"
      ],
      "metadata": {
        "id": "6IIekwGQa_M7"
      }
    },
    {
      "cell_type": "code",
      "source": [
        "#Differencing\n",
        "\n",
        "diff_df_train = df_train.copy()\n",
        "diff_df_train = diff_df_train['Close'].diff()\n",
        "diff_df_train = diff_df_train.dropna()\n",
        "print('###### Raw Data #####')\n",
        "print(df_train['Close'])\n",
        "print('###### Differneced Data ####')\n",
        "print(diff_df_train)"
      ],
      "metadata": {
        "colab": {
          "base_uri": "https://localhost:8080/"
        },
        "id": "1gDCC7dFPH2D",
        "outputId": "25a8170f-8724-463d-a480-e9145fbdae8e"
      },
      "execution_count": 9,
      "outputs": [
        {
          "output_type": "stream",
          "name": "stdout",
          "text": [
            "###### Raw Data #####\n",
            "Date\n",
            "2012-08-13   92.40\n",
            "2012-08-14   92.30\n",
            "2012-08-15   92.54\n",
            "2012-08-16   93.74\n",
            "2012-08-17   94.24\n",
            "              ... \n",
            "2015-07-21   88.91\n",
            "2015-07-22   87.72\n",
            "2015-07-23   88.41\n",
            "2015-07-24   85.46\n",
            "2015-07-27   83.44\n",
            "Name: Close, Length: 484808, dtype: float64\n",
            "###### Differneced Data ####\n",
            "Date\n",
            "2012-08-14   -0.10\n",
            "2012-08-15    0.24\n",
            "2012-08-16    1.20\n",
            "2012-08-17    0.50\n",
            "2012-08-20   -0.35\n",
            "              ... \n",
            "2015-07-21   -3.28\n",
            "2015-07-22   -1.19\n",
            "2015-07-23    0.69\n",
            "2015-07-24   -2.95\n",
            "2015-07-27   -2.02\n",
            "Name: Close, Length: 484807, dtype: float64\n"
          ]
        }
      ]
    },
    {
      "cell_type": "code",
      "source": [
        "plt.figure(figsize = (12,8))\n",
        "plt.subplot(211)\n",
        "plt.plot(df_train['Close'])\n",
        "plt.legend(['Raw Data (Nonstationary)'])\n",
        "plt.subplot(212)\n",
        "plt.plot(diff_df_train, 'orange')\n",
        "plt.legend(['Differenced Data (Stationary)'])\n",
        "plt.show()"
      ],
      "metadata": {
        "colab": {
          "base_uri": "https://localhost:8080/",
          "height": 483
        },
        "id": "IvVvr1xWPvMI",
        "outputId": "1ca82179-4114-4e96-b27b-25f23351c4da"
      },
      "execution_count": 10,
      "outputs": [
        {
          "output_type": "display_data",
          "data": {
            "text/plain": [
              "<Figure size 864x576 with 2 Axes>"
            ],
            "image/png": "[encoded data removed]"
          },
          "metadata": {
            "needs_background": "light"
          }
        }
      ]
    },
    {
      "cell_type": "code",
      "source": [
        "fig, ax = plt.subplots(1,2, figsize = (10,5))\n",
        "sm.graphics.tsa.plot_acf(diff_df_train.values.squeeze(), lags = 30, ax = ax[0])\n",
        "sm.graphics.tsa.plot_pacf(diff_df_train.values.squeeze(), lags = 30, ax = ax[1]); #그래프 한번만 출력하기 위해서 ; 추가"
      ],
      "metadata": {
        "colab": {
          "base_uri": "https://localhost:8080/",
          "height": 336
        },
        "id": "HE0DCJp6QdmA",
        "outputId": "e03b4797-d1c4-4d25-c97f-6d3bc2eb999e"
      },
      "execution_count": 11,
      "outputs": [
        {
          "output_type": "display_data",
          "data": {
            "text/plain": [
              "<Figure size 720x360 with 2 Axes>"
            ],
            "image/png": "[encoded data removed]"
          },
          "metadata": {
            "needs_background": "light"
          }
        }
      ]
    },
    {
      "cell_type": "markdown",
      "source": [
        "1차 차분을 통해 확인한 결과, Autocorrelation이 lag2일때 급격하게 낮아지고 있고, 특정한 패턴을 보이지 않기 때문에 Stationary한 데이터라고 볼 수 있다"
      ],
      "metadata": {
        "id": "7VVlIt29VJJs"
      }
    },
    {
      "cell_type": "markdown",
      "source": [
        "## 3. Forecasting a Time Series to Test Set"
      ],
      "metadata": {
        "id": "s4QP7zjWgHBF"
      }
    },
    {
      "cell_type": "code",
      "source": [
        "model = ARIMA(df_train['Close'], order = (1,1,0))\n",
        "model_fit = model.fit()\n",
        "model_fit.summary()"
      ],
      "metadata": {
        "colab": {
          "base_uri": "https://localhost:8080/",
          "height": 643
        },
        "id": "uQD6qTSzXtHU",
        "outputId": "5033dfba-50c5-46fa-816a-c1cb0b61f80b"
      },
      "execution_count": 13,
      "outputs": [
        {
          "output_type": "stream",
          "name": "stderr",
          "text": [
            "/usr/local/lib/python3.9/dist-packages/statsmodels/tsa/base/tsa_model.py:471: ValueWarning: A date index has been provided, but it has no associated frequency information and so will be ignored when e.g. forecasting.\n",
            "  self._init_dates(dates, freq)\n",
            "/usr/local/lib/python3.9/dist-packages/statsmodels/tsa/base/tsa_model.py:471: ValueWarning: A date index has been provided, but it is not monotonic and so will be ignored when e.g. forecasting.\n",
            "  self._init_dates(dates, freq)\n",
            "/usr/local/lib/python3.9/dist-packages/statsmodels/tsa/base/tsa_model.py:471: ValueWarning: A date index has been provided, but it has no associated frequency information and so will be ignored when e.g. forecasting.\n",
            "  self._init_dates(dates, freq)\n",
            "/usr/local/lib/python3.9/dist-packages/statsmodels/tsa/base/tsa_model.py:471: ValueWarning: A date index has been provided, but it is not monotonic and so will be ignored when e.g. forecasting.\n",
            "  self._init_dates(dates, freq)\n",
            "/usr/local/lib/python3.9/dist-packages/statsmodels/tsa/base/tsa_model.py:471: ValueWarning: A date index has been provided, but it has no associated frequency information and so will be ignored when e.g. forecasting.\n",
            "  self._init_dates(dates, freq)\n",
            "/usr/local/lib/python3.9/dist-packages/statsmodels/tsa/base/tsa_model.py:471: ValueWarning: A date index has been provided, but it is not monotonic and so will be ignored when e.g. forecasting.\n",
            "  self._init_dates(dates, freq)\n"
          ]
        },
        {
          "output_type": "execute_result",
          "data": {
            "text/plain": [
              "<class 'statsmodels.iolib.summary.Summary'>\n",
              "\"\"\"\n",
              "                               SARIMAX Results                                \n",
              "==============================================================================\n",
              "Dep. Variable:                  Close   No. Observations:               484808\n",
              "Model:                 ARIMA(1, 1, 0)   Log Likelihood            -1477195.622\n",
              "Date:                Wed, 22 Mar 2023   AIC                        2954395.244\n",
              "Time:                        17:34:45   BIC                        2954417.427\n",
              "Sample:                             0   HQIC                       2954401.532\n",
              "                             - 484808                                         \n",
              "Covariance Type:                  opg                                         \n",
              "==============================================================================\n",
              "                 coef    std err          z      P>|z|      [0.025      0.975]\n",
              "------------------------------------------------------------------------------\n",
              "ar.L1         -0.0374      0.000   -325.103      0.000      -0.038      -0.037\n",
              "sigma2        25.9476      0.000   7.08e+04      0.000      25.947      25.948\n",
              "===================================================================================\n",
              "Ljung-Box (L1) (Q):                   0.73   Jarque-Bera (JB):    35348795011191.88\n",
              "Prob(Q):                              0.39   Prob(JB):                         0.00\n",
              "Heteroskedasticity (H):               1.36   Skew:                          -141.28\n",
              "Prob(H) (two-sided):                  0.00   Kurtosis:                     41834.03\n",
              "===================================================================================\n",
              "\n",
              "Warnings:\n",
              "[1] Covariance matrix calculated using the outer product of gradients (complex-step).\n",
              "\"\"\""
            ],
            "text/html": [
              "<table class=\"simpletable\">\n",
              "<caption>SARIMAX Results</caption>\n",
              "<tr>\n",
              "  <th>Dep. Variable:</th>         <td>Close</td>      <th>  No. Observations:  </th>    <td>484808</td>   \n",
              "</tr>\n",
              "<tr>\n",
              "  <th>Model:</th>            <td>ARIMA(1, 1, 0)</td>  <th>  Log Likelihood     </th> <td>-1477195.622</td>\n",
              "</tr>\n",
              "<tr>\n",
              "  <th>Date:</th>            <td>Wed, 22 Mar 2023</td> <th>  AIC                </th>  <td>2954395.244</td>\n",
              "</tr>\n",
              "<tr>\n",
              "  <th>Time:</th>                <td>17:34:45</td>     <th>  BIC                </th>  <td>2954417.427</td>\n",
              "</tr>\n",
              "<tr>\n",
              "  <th>Sample:</th>                  <td>0</td>        <th>  HQIC               </th>  <td>2954401.532</td>\n",
              "</tr>\n",
              "<tr>\n",
              "  <th></th>                     <td> - 484808</td>    <th>                     </th>       <td> </td>     \n",
              "</tr>\n",
              "<tr>\n",
              "  <th>Covariance Type:</th>        <td>opg</td>       <th>                     </th>       <td> </td>     \n",
              "</tr>\n",
              "</table>\n",
              "<table class=\"simpletable\">\n",
              "<tr>\n",
              "     <td></td>       <th>coef</th>     <th>std err</th>      <th>z</th>      <th>P>|z|</th>  <th>[0.025</th>    <th>0.975]</th>  \n",
              "</tr>\n",
              "<tr>\n",
              "  <th>ar.L1</th>  <td>   -0.0374</td> <td>    0.000</td> <td> -325.103</td> <td> 0.000</td> <td>   -0.038</td> <td>   -0.037</td>\n",
              "</tr>\n",
              "<tr>\n",
              "  <th>sigma2</th> <td>   25.9476</td> <td>    0.000</td> <td> 7.08e+04</td> <td> 0.000</td> <td>   25.947</td> <td>   25.948</td>\n",
              "</tr>\n",
              "</table>\n",
              "<table class=\"simpletable\">\n",
              "<tr>\n",
              "  <th>Ljung-Box (L1) (Q):</th>     <td>0.73</td> <th>  Jarque-Bera (JB):  </th> <td>35348795011191.88</td>\n",
              "</tr>\n",
              "<tr>\n",
              "  <th>Prob(Q):</th>                <td>0.39</td> <th>  Prob(JB):          </th>       <td>0.00</td>       \n",
              "</tr>\n",
              "<tr>\n",
              "  <th>Heteroskedasticity (H):</th> <td>1.36</td> <th>  Skew:              </th>      <td>-141.28</td>     \n",
              "</tr>\n",
              "<tr>\n",
              "  <th>Prob(H) (two-sided):</th>    <td>0.00</td> <th>  Kurtosis:          </th>     <td>41834.03</td>     \n",
              "</tr>\n",
              "</table><br/><br/>Warnings:<br/>[1] Covariance matrix calculated using the outer product of gradients (complex-step)."
            ]
          },
          "metadata": {},
          "execution_count": 13
        }
      ]
    },
    {
      "cell_type": "code",
      "source": [
        "import itertools\n",
        "p = range(0,2)\n",
        "d = range(1,2)\n",
        "q = range(0,2)\n",
        "pdq = list(itertools.product(p,d,q))\n",
        "aic = []\n",
        "for i in pdq:\n",
        "  try:\n",
        "    model = ARIMA(df_train['Close'], order = (i))\n",
        "    model_fit = model.fit()\n",
        "    print(f'ARIMA: {i} >> AIC: {round(model_fit.aic,2)}')\n",
        "    aic.append(round(model_fit.aic,2))\n",
        "  except:\n",
        "    pass"
      ],
      "metadata": {
        "colab": {
          "base_uri": "https://localhost:8080/"
        },
        "id": "ac1A0zqdYXcl",
        "outputId": "73e52e47-841d-413d-9c30-2af0a9338f07"
      },
      "execution_count": 18,
      "outputs": [
        {
          "output_type": "stream",
          "name": "stderr",
          "text": [
            "/usr/local/lib/python3.9/dist-packages/statsmodels/tsa/base/tsa_model.py:471: ValueWarning: A date index has been provided, but it has no associated frequency information and so will be ignored when e.g. forecasting.\n",
            "  self._init_dates(dates, freq)\n",
            "/usr/local/lib/python3.9/dist-packages/statsmodels/tsa/base/tsa_model.py:471: ValueWarning: A date index has been provided, but it is not monotonic and so will be ignored when e.g. forecasting.\n",
            "  self._init_dates(dates, freq)\n",
            "/usr/local/lib/python3.9/dist-packages/statsmodels/tsa/base/tsa_model.py:471: ValueWarning: A date index has been provided, but it has no associated frequency information and so will be ignored when e.g. forecasting.\n",
            "  self._init_dates(dates, freq)\n",
            "/usr/local/lib/python3.9/dist-packages/statsmodels/tsa/base/tsa_model.py:471: ValueWarning: A date index has been provided, but it is not monotonic and so will be ignored when e.g. forecasting.\n",
            "  self._init_dates(dates, freq)\n",
            "/usr/local/lib/python3.9/dist-packages/statsmodels/tsa/base/tsa_model.py:471: ValueWarning: A date index has been provided, but it has no associated frequency information and so will be ignored when e.g. forecasting.\n",
            "  self._init_dates(dates, freq)\n",
            "/usr/local/lib/python3.9/dist-packages/statsmodels/tsa/base/tsa_model.py:471: ValueWarning: A date index has been provided, but it is not monotonic and so will be ignored when e.g. forecasting.\n",
            "  self._init_dates(dates, freq)\n"
          ]
        },
        {
          "output_type": "stream",
          "name": "stdout",
          "text": [
            "ARIMA: (0, 1, 0) >> AIC: 2955071.38\n"
          ]
        },
        {
          "output_type": "stream",
          "name": "stderr",
          "text": [
            "/usr/local/lib/python3.9/dist-packages/statsmodels/tsa/base/tsa_model.py:471: ValueWarning: A date index has been provided, but it has no associated frequency information and so will be ignored when e.g. forecasting.\n",
            "  self._init_dates(dates, freq)\n",
            "/usr/local/lib/python3.9/dist-packages/statsmodels/tsa/base/tsa_model.py:471: ValueWarning: A date index has been provided, but it is not monotonic and so will be ignored when e.g. forecasting.\n",
            "  self._init_dates(dates, freq)\n",
            "/usr/local/lib/python3.9/dist-packages/statsmodels/tsa/base/tsa_model.py:471: ValueWarning: A date index has been provided, but it has no associated frequency information and so will be ignored when e.g. forecasting.\n",
            "  self._init_dates(dates, freq)\n",
            "/usr/local/lib/python3.9/dist-packages/statsmodels/tsa/base/tsa_model.py:471: ValueWarning: A date index has been provided, but it is not monotonic and so will be ignored when e.g. forecasting.\n",
            "  self._init_dates(dates, freq)\n",
            "/usr/local/lib/python3.9/dist-packages/statsmodels/tsa/base/tsa_model.py:471: ValueWarning: A date index has been provided, but it has no associated frequency information and so will be ignored when e.g. forecasting.\n",
            "  self._init_dates(dates, freq)\n",
            "/usr/local/lib/python3.9/dist-packages/statsmodels/tsa/base/tsa_model.py:471: ValueWarning: A date index has been provided, but it is not monotonic and so will be ignored when e.g. forecasting.\n",
            "  self._init_dates(dates, freq)\n"
          ]
        },
        {
          "output_type": "stream",
          "name": "stdout",
          "text": [
            "ARIMA: (0, 1, 1) >> AIC: 2954438.57\n"
          ]
        },
        {
          "output_type": "stream",
          "name": "stderr",
          "text": [
            "/usr/local/lib/python3.9/dist-packages/statsmodels/tsa/base/tsa_model.py:471: ValueWarning: A date index has been provided, but it has no associated frequency information and so will be ignored when e.g. forecasting.\n",
            "  self._init_dates(dates, freq)\n",
            "/usr/local/lib/python3.9/dist-packages/statsmodels/tsa/base/tsa_model.py:471: ValueWarning: A date index has been provided, but it is not monotonic and so will be ignored when e.g. forecasting.\n",
            "  self._init_dates(dates, freq)\n",
            "/usr/local/lib/python3.9/dist-packages/statsmodels/tsa/base/tsa_model.py:471: ValueWarning: A date index has been provided, but it has no associated frequency information and so will be ignored when e.g. forecasting.\n",
            "  self._init_dates(dates, freq)\n",
            "/usr/local/lib/python3.9/dist-packages/statsmodels/tsa/base/tsa_model.py:471: ValueWarning: A date index has been provided, but it is not monotonic and so will be ignored when e.g. forecasting.\n",
            "  self._init_dates(dates, freq)\n",
            "/usr/local/lib/python3.9/dist-packages/statsmodels/tsa/base/tsa_model.py:471: ValueWarning: A date index has been provided, but it has no associated frequency information and so will be ignored when e.g. forecasting.\n",
            "  self._init_dates(dates, freq)\n",
            "/usr/local/lib/python3.9/dist-packages/statsmodels/tsa/base/tsa_model.py:471: ValueWarning: A date index has been provided, but it is not monotonic and so will be ignored when e.g. forecasting.\n",
            "  self._init_dates(dates, freq)\n"
          ]
        },
        {
          "output_type": "stream",
          "name": "stdout",
          "text": [
            "ARIMA: (1, 1, 0) >> AIC: 2954395.24\n"
          ]
        },
        {
          "output_type": "stream",
          "name": "stderr",
          "text": [
            "/usr/local/lib/python3.9/dist-packages/statsmodels/tsa/base/tsa_model.py:471: ValueWarning: A date index has been provided, but it has no associated frequency information and so will be ignored when e.g. forecasting.\n",
            "  self._init_dates(dates, freq)\n",
            "/usr/local/lib/python3.9/dist-packages/statsmodels/tsa/base/tsa_model.py:471: ValueWarning: A date index has been provided, but it is not monotonic and so will be ignored when e.g. forecasting.\n",
            "  self._init_dates(dates, freq)\n",
            "/usr/local/lib/python3.9/dist-packages/statsmodels/tsa/base/tsa_model.py:471: ValueWarning: A date index has been provided, but it has no associated frequency information and so will be ignored when e.g. forecasting.\n",
            "  self._init_dates(dates, freq)\n",
            "/usr/local/lib/python3.9/dist-packages/statsmodels/tsa/base/tsa_model.py:471: ValueWarning: A date index has been provided, but it is not monotonic and so will be ignored when e.g. forecasting.\n",
            "  self._init_dates(dates, freq)\n",
            "/usr/local/lib/python3.9/dist-packages/statsmodels/tsa/base/tsa_model.py:471: ValueWarning: A date index has been provided, but it has no associated frequency information and so will be ignored when e.g. forecasting.\n",
            "  self._init_dates(dates, freq)\n",
            "/usr/local/lib/python3.9/dist-packages/statsmodels/tsa/base/tsa_model.py:471: ValueWarning: A date index has been provided, but it is not monotonic and so will be ignored when e.g. forecasting.\n",
            "  self._init_dates(dates, freq)\n"
          ]
        },
        {
          "output_type": "stream",
          "name": "stdout",
          "text": [
            "ARIMA: (1, 1, 1) >> AIC: 2954199.85\n"
          ]
        }
      ]
    },
    {
      "cell_type": "code",
      "source": [
        "import itertools\n",
        "p = range(0,3)\n",
        "d = range(1,2)\n",
        "q = range(0,3)\n",
        "pdq = list(itertools.product(p,d,q))\n",
        "aic = []\n",
        "for i in pdq:\n",
        "  try:\n",
        "    model = ARIMA(df_train['Close'], order = (i))\n",
        "    model_fit = model.fit()\n",
        "    print(f'ARIMA: {i} >> AIC: {round(model_fit.aic,2)}')\n",
        "    aic.append(round(model_fit.aic,2))\n",
        "  except:\n",
        "    pass"
      ],
      "metadata": {
        "colab": {
          "base_uri": "https://localhost:8080/"
        },
        "id": "Ze9xcUm-Z_aI",
        "outputId": "17aaa80a-9dbf-4708-8d8e-74d2e670062d"
      },
      "execution_count": 19,
      "outputs": [
        {
          "output_type": "stream",
          "name": "stderr",
          "text": [
            "/usr/local/lib/python3.9/dist-packages/statsmodels/tsa/base/tsa_model.py:471: ValueWarning: A date index has been provided, but it has no associated frequency information and so will be ignored when e.g. forecasting.\n",
            "  self._init_dates(dates, freq)\n",
            "/usr/local/lib/python3.9/dist-packages/statsmodels/tsa/base/tsa_model.py:471: ValueWarning: A date index has been provided, but it is not monotonic and so will be ignored when e.g. forecasting.\n",
            "  self._init_dates(dates, freq)\n",
            "/usr/local/lib/python3.9/dist-packages/statsmodels/tsa/base/tsa_model.py:471: ValueWarning: A date index has been provided, but it has no associated frequency information and so will be ignored when e.g. forecasting.\n",
            "  self._init_dates(dates, freq)\n",
            "/usr/local/lib/python3.9/dist-packages/statsmodels/tsa/base/tsa_model.py:471: ValueWarning: A date index has been provided, but it is not monotonic and so will be ignored when e.g. forecasting.\n",
            "  self._init_dates(dates, freq)\n",
            "/usr/local/lib/python3.9/dist-packages/statsmodels/tsa/base/tsa_model.py:471: ValueWarning: A date index has been provided, but it has no associated frequency information and so will be ignored when e.g. forecasting.\n",
            "  self._init_dates(dates, freq)\n",
            "/usr/local/lib/python3.9/dist-packages/statsmodels/tsa/base/tsa_model.py:471: ValueWarning: A date index has been provided, but it is not monotonic and so will be ignored when e.g. forecasting.\n",
            "  self._init_dates(dates, freq)\n"
          ]
        },
        {
          "output_type": "stream",
          "name": "stdout",
          "text": [
            "ARIMA: (0, 1, 0) >> AIC: 2955071.38\n"
          ]
        },
        {
          "output_type": "stream",
          "name": "stderr",
          "text": [
            "/usr/local/lib/python3.9/dist-packages/statsmodels/tsa/base/tsa_model.py:471: ValueWarning: A date index has been provided, but it has no associated frequency information and so will be ignored when e.g. forecasting.\n",
            "  self._init_dates(dates, freq)\n",
            "/usr/local/lib/python3.9/dist-packages/statsmodels/tsa/base/tsa_model.py:471: ValueWarning: A date index has been provided, but it is not monotonic and so will be ignored when e.g. forecasting.\n",
            "  self._init_dates(dates, freq)\n",
            "/usr/local/lib/python3.9/dist-packages/statsmodels/tsa/base/tsa_model.py:471: ValueWarning: A date index has been provided, but it has no associated frequency information and so will be ignored when e.g. forecasting.\n",
            "  self._init_dates(dates, freq)\n",
            "/usr/local/lib/python3.9/dist-packages/statsmodels/tsa/base/tsa_model.py:471: ValueWarning: A date index has been provided, but it is not monotonic and so will be ignored when e.g. forecasting.\n",
            "  self._init_dates(dates, freq)\n",
            "/usr/local/lib/python3.9/dist-packages/statsmodels/tsa/base/tsa_model.py:471: ValueWarning: A date index has been provided, but it has no associated frequency information and so will be ignored when e.g. forecasting.\n",
            "  self._init_dates(dates, freq)\n",
            "/usr/local/lib/python3.9/dist-packages/statsmodels/tsa/base/tsa_model.py:471: ValueWarning: A date index has been provided, but it is not monotonic and so will be ignored when e.g. forecasting.\n",
            "  self._init_dates(dates, freq)\n"
          ]
        },
        {
          "output_type": "stream",
          "name": "stdout",
          "text": [
            "ARIMA: (0, 1, 1) >> AIC: 2954438.57\n"
          ]
        },
        {
          "output_type": "stream",
          "name": "stderr",
          "text": [
            "/usr/local/lib/python3.9/dist-packages/statsmodels/tsa/base/tsa_model.py:471: ValueWarning: A date index has been provided, but it has no associated frequency information and so will be ignored when e.g. forecasting.\n",
            "  self._init_dates(dates, freq)\n",
            "/usr/local/lib/python3.9/dist-packages/statsmodels/tsa/base/tsa_model.py:471: ValueWarning: A date index has been provided, but it is not monotonic and so will be ignored when e.g. forecasting.\n",
            "  self._init_dates(dates, freq)\n",
            "/usr/local/lib/python3.9/dist-packages/statsmodels/tsa/base/tsa_model.py:471: ValueWarning: A date index has been provided, but it has no associated frequency information and so will be ignored when e.g. forecasting.\n",
            "  self._init_dates(dates, freq)\n",
            "/usr/local/lib/python3.9/dist-packages/statsmodels/tsa/base/tsa_model.py:471: ValueWarning: A date index has been provided, but it is not monotonic and so will be ignored when e.g. forecasting.\n",
            "  self._init_dates(dates, freq)\n",
            "/usr/local/lib/python3.9/dist-packages/statsmodels/tsa/base/tsa_model.py:471: ValueWarning: A date index has been provided, but it has no associated frequency information and so will be ignored when e.g. forecasting.\n",
            "  self._init_dates(dates, freq)\n",
            "/usr/local/lib/python3.9/dist-packages/statsmodels/tsa/base/tsa_model.py:471: ValueWarning: A date index has been provided, but it is not monotonic and so will be ignored when e.g. forecasting.\n",
            "  self._init_dates(dates, freq)\n"
          ]
        },
        {
          "output_type": "stream",
          "name": "stdout",
          "text": [
            "ARIMA: (0, 1, 2) >> AIC: 2953807.87\n"
          ]
        },
        {
          "output_type": "stream",
          "name": "stderr",
          "text": [
            "/usr/local/lib/python3.9/dist-packages/statsmodels/tsa/base/tsa_model.py:471: ValueWarning: A date index has been provided, but it has no associated frequency information and so will be ignored when e.g. forecasting.\n",
            "  self._init_dates(dates, freq)\n",
            "/usr/local/lib/python3.9/dist-packages/statsmodels/tsa/base/tsa_model.py:471: ValueWarning: A date index has been provided, but it is not monotonic and so will be ignored when e.g. forecasting.\n",
            "  self._init_dates(dates, freq)\n",
            "/usr/local/lib/python3.9/dist-packages/statsmodels/tsa/base/tsa_model.py:471: ValueWarning: A date index has been provided, but it has no associated frequency information and so will be ignored when e.g. forecasting.\n",
            "  self._init_dates(dates, freq)\n",
            "/usr/local/lib/python3.9/dist-packages/statsmodels/tsa/base/tsa_model.py:471: ValueWarning: A date index has been provided, but it is not monotonic and so will be ignored when e.g. forecasting.\n",
            "  self._init_dates(dates, freq)\n",
            "/usr/local/lib/python3.9/dist-packages/statsmodels/tsa/base/tsa_model.py:471: ValueWarning: A date index has been provided, but it has no associated frequency information and so will be ignored when e.g. forecasting.\n",
            "  self._init_dates(dates, freq)\n",
            "/usr/local/lib/python3.9/dist-packages/statsmodels/tsa/base/tsa_model.py:471: ValueWarning: A date index has been provided, but it is not monotonic and so will be ignored when e.g. forecasting.\n",
            "  self._init_dates(dates, freq)\n"
          ]
        },
        {
          "output_type": "stream",
          "name": "stdout",
          "text": [
            "ARIMA: (1, 1, 0) >> AIC: 2954395.24\n"
          ]
        },
        {
          "output_type": "stream",
          "name": "stderr",
          "text": [
            "/usr/local/lib/python3.9/dist-packages/statsmodels/tsa/base/tsa_model.py:471: ValueWarning: A date index has been provided, but it has no associated frequency information and so will be ignored when e.g. forecasting.\n",
            "  self._init_dates(dates, freq)\n",
            "/usr/local/lib/python3.9/dist-packages/statsmodels/tsa/base/tsa_model.py:471: ValueWarning: A date index has been provided, but it is not monotonic and so will be ignored when e.g. forecasting.\n",
            "  self._init_dates(dates, freq)\n",
            "/usr/local/lib/python3.9/dist-packages/statsmodels/tsa/base/tsa_model.py:471: ValueWarning: A date index has been provided, but it has no associated frequency information and so will be ignored when e.g. forecasting.\n",
            "  self._init_dates(dates, freq)\n",
            "/usr/local/lib/python3.9/dist-packages/statsmodels/tsa/base/tsa_model.py:471: ValueWarning: A date index has been provided, but it is not monotonic and so will be ignored when e.g. forecasting.\n",
            "  self._init_dates(dates, freq)\n",
            "/usr/local/lib/python3.9/dist-packages/statsmodels/tsa/base/tsa_model.py:471: ValueWarning: A date index has been provided, but it has no associated frequency information and so will be ignored when e.g. forecasting.\n",
            "  self._init_dates(dates, freq)\n",
            "/usr/local/lib/python3.9/dist-packages/statsmodels/tsa/base/tsa_model.py:471: ValueWarning: A date index has been provided, but it is not monotonic and so will be ignored when e.g. forecasting.\n",
            "  self._init_dates(dates, freq)\n"
          ]
        },
        {
          "output_type": "stream",
          "name": "stdout",
          "text": [
            "ARIMA: (1, 1, 1) >> AIC: 2954199.85\n"
          ]
        },
        {
          "output_type": "stream",
          "name": "stderr",
          "text": [
            "/usr/local/lib/python3.9/dist-packages/statsmodels/tsa/base/tsa_model.py:471: ValueWarning: A date index has been provided, but it has no associated frequency information and so will be ignored when e.g. forecasting.\n",
            "  self._init_dates(dates, freq)\n",
            "/usr/local/lib/python3.9/dist-packages/statsmodels/tsa/base/tsa_model.py:471: ValueWarning: A date index has been provided, but it is not monotonic and so will be ignored when e.g. forecasting.\n",
            "  self._init_dates(dates, freq)\n",
            "/usr/local/lib/python3.9/dist-packages/statsmodels/tsa/base/tsa_model.py:471: ValueWarning: A date index has been provided, but it has no associated frequency information and so will be ignored when e.g. forecasting.\n",
            "  self._init_dates(dates, freq)\n",
            "/usr/local/lib/python3.9/dist-packages/statsmodels/tsa/base/tsa_model.py:471: ValueWarning: A date index has been provided, but it is not monotonic and so will be ignored when e.g. forecasting.\n",
            "  self._init_dates(dates, freq)\n",
            "/usr/local/lib/python3.9/dist-packages/statsmodels/tsa/base/tsa_model.py:471: ValueWarning: A date index has been provided, but it has no associated frequency information and so will be ignored when e.g. forecasting.\n",
            "  self._init_dates(dates, freq)\n",
            "/usr/local/lib/python3.9/dist-packages/statsmodels/tsa/base/tsa_model.py:471: ValueWarning: A date index has been provided, but it is not monotonic and so will be ignored when e.g. forecasting.\n",
            "  self._init_dates(dates, freq)\n"
          ]
        },
        {
          "output_type": "stream",
          "name": "stdout",
          "text": [
            "ARIMA: (1, 1, 2) >> AIC: 2953742.52\n"
          ]
        },
        {
          "output_type": "stream",
          "name": "stderr",
          "text": [
            "/usr/local/lib/python3.9/dist-packages/statsmodels/tsa/base/tsa_model.py:471: ValueWarning: A date index has been provided, but it has no associated frequency information and so will be ignored when e.g. forecasting.\n",
            "  self._init_dates(dates, freq)\n",
            "/usr/local/lib/python3.9/dist-packages/statsmodels/tsa/base/tsa_model.py:471: ValueWarning: A date index has been provided, but it is not monotonic and so will be ignored when e.g. forecasting.\n",
            "  self._init_dates(dates, freq)\n",
            "/usr/local/lib/python3.9/dist-packages/statsmodels/tsa/base/tsa_model.py:471: ValueWarning: A date index has been provided, but it has no associated frequency information and so will be ignored when e.g. forecasting.\n",
            "  self._init_dates(dates, freq)\n",
            "/usr/local/lib/python3.9/dist-packages/statsmodels/tsa/base/tsa_model.py:471: ValueWarning: A date index has been provided, but it is not monotonic and so will be ignored when e.g. forecasting.\n",
            "  self._init_dates(dates, freq)\n",
            "/usr/local/lib/python3.9/dist-packages/statsmodels/tsa/base/tsa_model.py:471: ValueWarning: A date index has been provided, but it has no associated frequency information and so will be ignored when e.g. forecasting.\n",
            "  self._init_dates(dates, freq)\n",
            "/usr/local/lib/python3.9/dist-packages/statsmodels/tsa/base/tsa_model.py:471: ValueWarning: A date index has been provided, but it is not monotonic and so will be ignored when e.g. forecasting.\n",
            "  self._init_dates(dates, freq)\n"
          ]
        },
        {
          "output_type": "stream",
          "name": "stdout",
          "text": [
            "ARIMA: (2, 1, 0) >> AIC: 2953876.15\n"
          ]
        },
        {
          "output_type": "stream",
          "name": "stderr",
          "text": [
            "/usr/local/lib/python3.9/dist-packages/statsmodels/tsa/base/tsa_model.py:471: ValueWarning: A date index has been provided, but it has no associated frequency information and so will be ignored when e.g. forecasting.\n",
            "  self._init_dates(dates, freq)\n",
            "/usr/local/lib/python3.9/dist-packages/statsmodels/tsa/base/tsa_model.py:471: ValueWarning: A date index has been provided, but it is not monotonic and so will be ignored when e.g. forecasting.\n",
            "  self._init_dates(dates, freq)\n",
            "/usr/local/lib/python3.9/dist-packages/statsmodels/tsa/base/tsa_model.py:471: ValueWarning: A date index has been provided, but it has no associated frequency information and so will be ignored when e.g. forecasting.\n",
            "  self._init_dates(dates, freq)\n",
            "/usr/local/lib/python3.9/dist-packages/statsmodels/tsa/base/tsa_model.py:471: ValueWarning: A date index has been provided, but it is not monotonic and so will be ignored when e.g. forecasting.\n",
            "  self._init_dates(dates, freq)\n",
            "/usr/local/lib/python3.9/dist-packages/statsmodels/tsa/base/tsa_model.py:471: ValueWarning: A date index has been provided, but it has no associated frequency information and so will be ignored when e.g. forecasting.\n",
            "  self._init_dates(dates, freq)\n",
            "/usr/local/lib/python3.9/dist-packages/statsmodels/tsa/base/tsa_model.py:471: ValueWarning: A date index has been provided, but it is not monotonic and so will be ignored when e.g. forecasting.\n",
            "  self._init_dates(dates, freq)\n"
          ]
        },
        {
          "output_type": "stream",
          "name": "stdout",
          "text": [
            "ARIMA: (2, 1, 1) >> AIC: 2953774.61\n"
          ]
        },
        {
          "output_type": "stream",
          "name": "stderr",
          "text": [
            "/usr/local/lib/python3.9/dist-packages/statsmodels/tsa/base/tsa_model.py:471: ValueWarning: A date index has been provided, but it has no associated frequency information and so will be ignored when e.g. forecasting.\n",
            "  self._init_dates(dates, freq)\n",
            "/usr/local/lib/python3.9/dist-packages/statsmodels/tsa/base/tsa_model.py:471: ValueWarning: A date index has been provided, but it is not monotonic and so will be ignored when e.g. forecasting.\n",
            "  self._init_dates(dates, freq)\n",
            "/usr/local/lib/python3.9/dist-packages/statsmodels/tsa/base/tsa_model.py:471: ValueWarning: A date index has been provided, but it has no associated frequency information and so will be ignored when e.g. forecasting.\n",
            "  self._init_dates(dates, freq)\n",
            "/usr/local/lib/python3.9/dist-packages/statsmodels/tsa/base/tsa_model.py:471: ValueWarning: A date index has been provided, but it is not monotonic and so will be ignored when e.g. forecasting.\n",
            "  self._init_dates(dates, freq)\n",
            "/usr/local/lib/python3.9/dist-packages/statsmodels/tsa/base/tsa_model.py:471: ValueWarning: A date index has been provided, but it has no associated frequency information and so will be ignored when e.g. forecasting.\n",
            "  self._init_dates(dates, freq)\n",
            "/usr/local/lib/python3.9/dist-packages/statsmodels/tsa/base/tsa_model.py:471: ValueWarning: A date index has been provided, but it is not monotonic and so will be ignored when e.g. forecasting.\n",
            "  self._init_dates(dates, freq)\n"
          ]
        },
        {
          "output_type": "stream",
          "name": "stdout",
          "text": [
            "ARIMA: (2, 1, 2) >> AIC: 2953688.21\n"
          ]
        }
      ]
    },
    {
      "cell_type": "code",
      "source": [
        "optimal = [(pdq[i], j) for i,j in enumerate(aic) if j == min(aic)]\n",
        "optimal"
      ],
      "metadata": {
        "colab": {
          "base_uri": "https://localhost:8080/"
        },
        "id": "HcDyXoLoZIv5",
        "outputId": "ddd6dbb8-e70b-4d86-92c6-0810809f450a"
      },
      "execution_count": 20,
      "outputs": [
        {
          "output_type": "execute_result",
          "data": {
            "text/plain": [
              "[((2, 1, 2), 2953688.21)]"
            ]
          },
          "metadata": {},
          "execution_count": 20
        }
      ]
    },
    {
      "cell_type": "code",
      "source": [
        "model_opt = ARIMA(df_train['Close'], order = optimal[0][0])\n",
        "model_opt_fit = model_opt.fit()\n",
        "\n",
        "model_opt_fit.summary()"
      ],
      "metadata": {
        "colab": {
          "base_uri": "https://localhost:8080/",
          "height": 707
        },
        "id": "q_nN7BGIbXvI",
        "outputId": "fc75fc20-fd4d-4785-e069-868a644ba7e4"
      },
      "execution_count": 21,
      "outputs": [
        {
          "output_type": "stream",
          "name": "stderr",
          "text": [
            "/usr/local/lib/python3.9/dist-packages/statsmodels/tsa/base/tsa_model.py:471: ValueWarning: A date index has been provided, but it has no associated frequency information and so will be ignored when e.g. forecasting.\n",
            "  self._init_dates(dates, freq)\n",
            "/usr/local/lib/python3.9/dist-packages/statsmodels/tsa/base/tsa_model.py:471: ValueWarning: A date index has been provided, but it is not monotonic and so will be ignored when e.g. forecasting.\n",
            "  self._init_dates(dates, freq)\n",
            "/usr/local/lib/python3.9/dist-packages/statsmodels/tsa/base/tsa_model.py:471: ValueWarning: A date index has been provided, but it has no associated frequency information and so will be ignored when e.g. forecasting.\n",
            "  self._init_dates(dates, freq)\n",
            "/usr/local/lib/python3.9/dist-packages/statsmodels/tsa/base/tsa_model.py:471: ValueWarning: A date index has been provided, but it is not monotonic and so will be ignored when e.g. forecasting.\n",
            "  self._init_dates(dates, freq)\n",
            "/usr/local/lib/python3.9/dist-packages/statsmodels/tsa/base/tsa_model.py:471: ValueWarning: A date index has been provided, but it has no associated frequency information and so will be ignored when e.g. forecasting.\n",
            "  self._init_dates(dates, freq)\n",
            "/usr/local/lib/python3.9/dist-packages/statsmodels/tsa/base/tsa_model.py:471: ValueWarning: A date index has been provided, but it is not monotonic and so will be ignored when e.g. forecasting.\n",
            "  self._init_dates(dates, freq)\n"
          ]
        },
        {
          "output_type": "execute_result",
          "data": {
            "text/plain": [
              "<class 'statsmodels.iolib.summary.Summary'>\n",
              "\"\"\"\n",
              "                               SARIMAX Results                                \n",
              "==============================================================================\n",
              "Dep. Variable:                  Close   No. Observations:               484808\n",
              "Model:                 ARIMA(2, 1, 2)   Log Likelihood            -1476839.104\n",
              "Date:                Wed, 22 Mar 2023   AIC                        2953688.209\n",
              "Time:                        17:48:52   BIC                        2953743.666\n",
              "Sample:                             0   HQIC                       2953703.928\n",
              "                             - 484808                                         \n",
              "Covariance Type:                  opg                                         \n",
              "==============================================================================\n",
              "                 coef    std err          z      P>|z|      [0.025      0.975]\n",
              "------------------------------------------------------------------------------\n",
              "ar.L1          0.1242      0.006     19.224      0.000       0.112       0.137\n",
              "ar.L2         -0.1711      0.004    -39.152      0.000      -0.180      -0.162\n",
              "ma.L1         -0.1612      0.006    -24.876      0.000      -0.174      -0.148\n",
              "ma.L2          0.2125      0.004     50.889      0.000       0.204       0.221\n",
              "sigma2        25.9092      0.001   3.62e+04      0.000      25.908      25.911\n",
              "===================================================================================\n",
              "Ljung-Box (L1) (Q):                   0.08   Jarque-Bera (JB):    35006441281134.22\n",
              "Prob(Q):                              0.78   Prob(JB):                         0.00\n",
              "Heteroskedasticity (H):               1.36   Skew:                          -140.84\n",
              "Prob(H) (two-sided):                  0.00   Kurtosis:                     41630.97\n",
              "===================================================================================\n",
              "\n",
              "Warnings:\n",
              "[1] Covariance matrix calculated using the outer product of gradients (complex-step).\n",
              "\"\"\""
            ],
            "text/html": [
              "<table class=\"simpletable\">\n",
              "<caption>SARIMAX Results</caption>\n",
              "<tr>\n",
              "  <th>Dep. Variable:</th>         <td>Close</td>      <th>  No. Observations:  </th>    <td>484808</td>   \n",
              "</tr>\n",
              "<tr>\n",
              "  <th>Model:</th>            <td>ARIMA(2, 1, 2)</td>  <th>  Log Likelihood     </th> <td>-1476839.104</td>\n",
              "</tr>\n",
              "<tr>\n",
              "  <th>Date:</th>            <td>Wed, 22 Mar 2023</td> <th>  AIC                </th>  <td>2953688.209</td>\n",
              "</tr>\n",
              "<tr>\n",
              "  <th>Time:</th>                <td>17:48:52</td>     <th>  BIC                </th>  <td>2953743.666</td>\n",
              "</tr>\n",
              "<tr>\n",
              "  <th>Sample:</th>                  <td>0</td>        <th>  HQIC               </th>  <td>2953703.928</td>\n",
              "</tr>\n",
              "<tr>\n",
              "  <th></th>                     <td> - 484808</td>    <th>                     </th>       <td> </td>     \n",
              "</tr>\n",
              "<tr>\n",
              "  <th>Covariance Type:</th>        <td>opg</td>       <th>                     </th>       <td> </td>     \n",
              "</tr>\n",
              "</table>\n",
              "<table class=\"simpletable\">\n",
              "<tr>\n",
              "     <td></td>       <th>coef</th>     <th>std err</th>      <th>z</th>      <th>P>|z|</th>  <th>[0.025</th>    <th>0.975]</th>  \n",
              "</tr>\n",
              "<tr>\n",
              "  <th>ar.L1</th>  <td>    0.1242</td> <td>    0.006</td> <td>   19.224</td> <td> 0.000</td> <td>    0.112</td> <td>    0.137</td>\n",
              "</tr>\n",
              "<tr>\n",
              "  <th>ar.L2</th>  <td>   -0.1711</td> <td>    0.004</td> <td>  -39.152</td> <td> 0.000</td> <td>   -0.180</td> <td>   -0.162</td>\n",
              "</tr>\n",
              "<tr>\n",
              "  <th>ma.L1</th>  <td>   -0.1612</td> <td>    0.006</td> <td>  -24.876</td> <td> 0.000</td> <td>   -0.174</td> <td>   -0.148</td>\n",
              "</tr>\n",
              "<tr>\n",
              "  <th>ma.L2</th>  <td>    0.2125</td> <td>    0.004</td> <td>   50.889</td> <td> 0.000</td> <td>    0.204</td> <td>    0.221</td>\n",
              "</tr>\n",
              "<tr>\n",
              "  <th>sigma2</th> <td>   25.9092</td> <td>    0.001</td> <td> 3.62e+04</td> <td> 0.000</td> <td>   25.908</td> <td>   25.911</td>\n",
              "</tr>\n",
              "</table>\n",
              "<table class=\"simpletable\">\n",
              "<tr>\n",
              "  <th>Ljung-Box (L1) (Q):</th>     <td>0.08</td> <th>  Jarque-Bera (JB):  </th> <td>35006441281134.22</td>\n",
              "</tr>\n",
              "<tr>\n",
              "  <th>Prob(Q):</th>                <td>0.78</td> <th>  Prob(JB):          </th>       <td>0.00</td>       \n",
              "</tr>\n",
              "<tr>\n",
              "  <th>Heteroskedasticity (H):</th> <td>1.36</td> <th>  Skew:              </th>      <td>-140.84</td>     \n",
              "</tr>\n",
              "<tr>\n",
              "  <th>Prob(H) (two-sided):</th>    <td>0.00</td> <th>  Kurtosis:          </th>     <td>41630.97</td>     \n",
              "</tr>\n",
              "</table><br/><br/>Warnings:<br/>[1] Covariance matrix calculated using the outer product of gradients (complex-step)."
            ]
          },
          "metadata": {},
          "execution_count": 21
        }
      ]
    },
    {
      "cell_type": "code",
      "source": [
        "forecast = model_opt_fit.forecast(121203)"
      ],
      "metadata": {
        "colab": {
          "base_uri": "https://localhost:8080/"
        },
        "id": "CL0RvmHqbm6X",
        "outputId": "6aea54c5-109d-48d0-e8ca-41ee75b5961c"
      },
      "execution_count": 22,
      "outputs": [
        {
          "output_type": "stream",
          "name": "stderr",
          "text": [
            "/usr/local/lib/python3.9/dist-packages/statsmodels/tsa/base/tsa_model.py:834: ValueWarning: No supported index is available. Prediction results will be given with an integer index beginning at `start`.\n",
            "  return get_prediction_index(\n"
          ]
        }
      ]
    },
    {
      "cell_type": "code",
      "source": [
        "list(forecast)"
      ],
      "metadata": {
        "colab": {
          "base_uri": "https://localhost:8080/"
        },
        "id": "O9YJ5CcCcdtm",
        "outputId": "54c65d15-0c24-42de-bf5e-387667864e36"
      },
      "execution_count": 25,
      "outputs": [
        {
          "output_type": "execute_result",
          "data": {
            "text/plain": [
              "[83.43793449735949,\n",
              " 83.32484130534307,\n",
              " 83.31114870654726,\n",
              " 83.3287935293399,\n",
              " 83.33332719487458,\n",
              " 83.33087199066394,\n",
              " 83.32979154342469,\n",
              " 83.33007733485326,\n",
              " 83.33029764785428,\n",
              " 83.33027612352835,\n",
              " 83.33023576411568,\n",
              " 83.33023443346053,\n",
              " 83.33024117196707,\n",
              " 83.33024223649254,\n",
              " 83.33024121603367,\n",
              " 83.33024090720018,\n",
              " 83.33024104340066,\n",
              " 83.33024111314467,\n",
              " 83.33024109850864,\n",
              " 83.33024108476066,\n",
              " 83.33024108555679,\n",
              " 83.33024108800737,\n",
              " 83.33024108817554,\n",
              " 83.33024108777724,\n",
              " 83.33024108769901,\n",
              " 83.33024108775743,\n",
              " 83.33024108777806,\n",
              " 83.33024108777063,\n",
              " 83.33024108776618,\n",
              " 83.33024108776691,\n",
              " 83.33024108776776,\n",
              " 83.33024108776775,\n",
              " 83.3302410877676,\n",
              " 83.33024108776759,\n",
              " 83.33024108776762,\n",
              " 83.33024108776762,\n",
              " 83.33024108776762,\n",
              " 83.33024108776762,\n",
              " 83.33024108776762,\n",
              " 83.33024108776762,\n",
              " 83.33024108776762,\n",
              " 83.33024108776762,\n",
              " 83.33024108776762,\n",
              " 83.33024108776762,\n",
              " 83.33024108776762,\n",
              " 83.33024108776762,\n",
              " 83.33024108776762,\n",
              " 83.33024108776762,\n",
              " 83.33024108776762,\n",
              " 83.33024108776762,\n",
              " 83.33024108776762,\n",
              " 83.33024108776762,\n",
              " 83.33024108776762,\n",
              " 83.33024108776762,\n",
              " 83.33024108776762,\n",
              " 83.33024108776762,\n",
              " 83.33024108776762,\n",
              " 83.33024108776762,\n",
              " 83.33024108776762,\n",
              " 83.33024108776762,\n",
              " 83.33024108776762,\n",
              " 83.33024108776762,\n",
              " 83.33024108776762,\n",
              " 83.33024108776762,\n",
              " 83.33024108776762,\n",
              " 83.33024108776762,\n",
              " 83.33024108776762,\n",
              " 83.33024108776762,\n",
              " 83.33024108776762,\n",
              " 83.33024108776762,\n",
              " 83.33024108776762,\n",
              " 83.33024108776762,\n",
              " 83.33024108776762,\n",
              " 83.33024108776762,\n",
              " 83.33024108776762,\n",
              " 83.33024108776762,\n",
              " 83.33024108776762,\n",
              " 83.33024108776762,\n",
              " 83.33024108776762,\n",
              " 83.33024108776762,\n",
              " 83.33024108776762,\n",
              " 83.33024108776762,\n",
              " 83.33024108776762,\n",
              " 83.33024108776762,\n",
              " 83.33024108776762,\n",
              " 83.33024108776762,\n",
              " 83.33024108776762,\n",
              " 83.33024108776762,\n",
              " 83.33024108776762,\n",
              " 83.33024108776762,\n",
              " 83.33024108776762,\n",
              " 83.33024108776762,\n",
              " 83.33024108776762,\n",
              " 83.33024108776762,\n",
              " 83.33024108776762,\n",
              " 83.33024108776762,\n",
              " 83.33024108776762,\n",
              " 83.33024108776762,\n",
              " 83.33024108776762,\n",
              " 83.33024108776762,\n",
              " 83.33024108776762,\n",
              " 83.33024108776762,\n",
              " 83.33024108776762,\n",
              " 83.33024108776762,\n",
              " 83.33024108776762,\n",
              " 83.33024108776762,\n",
              " 83.33024108776762,\n",
              " 83.33024108776762,\n",
              " 83.33024108776762,\n",
              " 83.33024108776762,\n",
              " 83.33024108776762,\n",
              " 83.33024108776762,\n",
              " 83.33024108776762,\n",
              " 83.33024108776762,\n",
              " 83.33024108776762,\n",
              " 83.33024108776762,\n",
              " 83.33024108776762,\n",
              " 83.33024108776762,\n",
              " 83.33024108776762,\n",
              " 83.33024108776762,\n",
              " 83.33024108776762,\n",
              " 83.33024108776762,\n",
              " 83.33024108776762,\n",
              " 83.33024108776762,\n",
              " 83.33024108776762,\n",
              " 83.33024108776762,\n",
              " 83.33024108776762,\n",
              " 83.33024108776762,\n",
              " 83.33024108776762,\n",
              " 83.33024108776762,\n",
              " 83.33024108776762,\n",
              " 83.33024108776762,\n",
              " 83.33024108776762,\n",
              " 83.33024108776762,\n",
              " 83.33024108776762,\n",
              " 83.33024108776762,\n",
              " 83.33024108776762,\n",
              " 83.33024108776762,\n",
              " 83.33024108776762,\n",
              " 83.33024108776762,\n",
              " 83.33024108776762,\n",
              " 83.33024108776762,\n",
              " 83.33024108776762,\n",
              " 83.33024108776762,\n",
              " 83.33024108776762,\n",
              " 83.33024108776762,\n",
              " 83.33024108776762,\n",
              " 83.33024108776762,\n",
              " 83.33024108776762,\n",
              " 83.33024108776762,\n",
              " 83.33024108776762,\n",
              " 83.33024108776762,\n",
              " 83.33024108776762,\n",
              " 83.33024108776762,\n",
              " 83.33024108776762,\n",
              " 83.33024108776762,\n",
              " 83.33024108776762,\n",
              " 83.33024108776762,\n",
              " 83.33024108776762,\n",
              " 83.33024108776762,\n",
              " 83.33024108776762,\n",
              " 83.33024108776762,\n",
              " 83.33024108776762,\n",
              " 83.33024108776762,\n",
              " 83.33024108776762,\n",
              " 83.33024108776762,\n",
              " 83.33024108776762,\n",
              " 83.33024108776762,\n",
              " 83.33024108776762,\n",
              " 83.33024108776762,\n",
              " 83.33024108776762,\n",
              " 83.33024108776762,\n",
              " 83.33024108776762,\n",
              " 83.33024108776762,\n",
              " 83.33024108776762,\n",
              " 83.33024108776762,\n",
              " 83.33024108776762,\n",
              " 83.33024108776762,\n",
              " 83.33024108776762,\n",
              " 83.33024108776762,\n",
              " 83.33024108776762,\n",
              " 83.33024108776762,\n",
              " 83.33024108776762,\n",
              " 83.33024108776762,\n",
              " 83.33024108776762,\n",
              " 83.33024108776762,\n",
              " 83.33024108776762,\n",
              " 83.33024108776762,\n",
              " 83.33024108776762,\n",
              " 83.33024108776762,\n",
              " 83.33024108776762,\n",
              " 83.33024108776762,\n",
              " 83.33024108776762,\n",
              " 83.33024108776762,\n",
              " 83.33024108776762,\n",
              " 83.33024108776762,\n",
              " 83.33024108776762,\n",
              " 83.33024108776762,\n",
              " 83.33024108776762,\n",
              " 83.33024108776762,\n",
              " 83.33024108776762,\n",
              " 83.33024108776762,\n",
              " 83.33024108776762,\n",
              " 83.33024108776762,\n",
              " 83.33024108776762,\n",
              " 83.33024108776762,\n",
              " 83.33024108776762,\n",
              " 83.33024108776762,\n",
              " 83.33024108776762,\n",
              " 83.33024108776762,\n",
              " 83.33024108776762,\n",
              " 83.33024108776762,\n",
              " 83.33024108776762,\n",
              " 83.33024108776762,\n",
              " 83.33024108776762,\n",
              " 83.33024108776762,\n",
              " 83.33024108776762,\n",
              " 83.33024108776762,\n",
              " 83.33024108776762,\n",
              " 83.33024108776762,\n",
              " 83.33024108776762,\n",
              " 83.33024108776762,\n",
              " 83.33024108776762,\n",
              " 83.33024108776762,\n",
              " 83.33024108776762,\n",
              " 83.33024108776762,\n",
              " 83.33024108776762,\n",
              " 83.33024108776762,\n",
              " 83.33024108776762,\n",
              " 83.33024108776762,\n",
              " 83.33024108776762,\n",
              " 83.33024108776762,\n",
              " 83.33024108776762,\n",
              " 83.33024108776762,\n",
              " 83.33024108776762,\n",
              " 83.33024108776762,\n",
              " 83.33024108776762,\n",
              " 83.33024108776762,\n",
              " 83.33024108776762,\n",
              " 83.33024108776762,\n",
              " 83.33024108776762,\n",
              " 83.33024108776762,\n",
              " 83.33024108776762,\n",
              " 83.33024108776762,\n",
              " 83.33024108776762,\n",
              " 83.33024108776762,\n",
              " 83.33024108776762,\n",
              " 83.33024108776762,\n",
              " 83.33024108776762,\n",
              " 83.33024108776762,\n",
              " 83.33024108776762,\n",
              " 83.33024108776762,\n",
              " 83.33024108776762,\n",
              " 83.33024108776762,\n",
              " 83.33024108776762,\n",
              " 83.33024108776762,\n",
              " 83.33024108776762,\n",
              " 83.33024108776762,\n",
              " 83.33024108776762,\n",
              " 83.33024108776762,\n",
              " 83.33024108776762,\n",
              " 83.33024108776762,\n",
              " 83.33024108776762,\n",
              " 83.33024108776762,\n",
              " 83.33024108776762,\n",
              " 83.33024108776762,\n",
              " 83.33024108776762,\n",
              " 83.33024108776762,\n",
              " 83.33024108776762,\n",
              " 83.33024108776762,\n",
              " 83.33024108776762,\n",
              " 83.33024108776762,\n",
              " 83.33024108776762,\n",
              " 83.33024108776762,\n",
              " 83.33024108776762,\n",
              " 83.33024108776762,\n",
              " 83.33024108776762,\n",
              " 83.33024108776762,\n",
              " 83.33024108776762,\n",
              " 83.33024108776762,\n",
              " 83.33024108776762,\n",
              " 83.33024108776762,\n",
              " 83.33024108776762,\n",
              " 83.33024108776762,\n",
              " 83.33024108776762,\n",
              " 83.33024108776762,\n",
              " 83.33024108776762,\n",
              " 83.33024108776762,\n",
              " 83.33024108776762,\n",
              " 83.33024108776762,\n",
              " 83.33024108776762,\n",
              " 83.33024108776762,\n",
              " 83.33024108776762,\n",
              " 83.33024108776762,\n",
              " 83.33024108776762,\n",
              " 83.33024108776762,\n",
              " 83.33024108776762,\n",
              " 83.33024108776762,\n",
              " 83.33024108776762,\n",
              " 83.33024108776762,\n",
              " 83.33024108776762,\n",
              " 83.33024108776762,\n",
              " 83.33024108776762,\n",
              " 83.33024108776762,\n",
              " 83.33024108776762,\n",
              " 83.33024108776762,\n",
              " 83.33024108776762,\n",
              " 83.33024108776762,\n",
              " 83.33024108776762,\n",
              " 83.33024108776762,\n",
              " 83.33024108776762,\n",
              " 83.33024108776762,\n",
              " 83.33024108776762,\n",
              " 83.33024108776762,\n",
              " 83.33024108776762,\n",
              " 83.33024108776762,\n",
              " 83.33024108776762,\n",
              " 83.33024108776762,\n",
              " 83.33024108776762,\n",
              " 83.33024108776762,\n",
              " 83.33024108776762,\n",
              " 83.33024108776762,\n",
              " 83.33024108776762,\n",
              " 83.33024108776762,\n",
              " 83.33024108776762,\n",
              " 83.33024108776762,\n",
              " 83.33024108776762,\n",
              " 83.33024108776762,\n",
              " 83.33024108776762,\n",
              " 83.33024108776762,\n",
              " 83.33024108776762,\n",
              " 83.33024108776762,\n",
              " 83.33024108776762,\n",
              " 83.33024108776762,\n",
              " 83.33024108776762,\n",
              " 83.33024108776762,\n",
              " 83.33024108776762,\n",
              " 83.33024108776762,\n",
              " 83.33024108776762,\n",
              " 83.33024108776762,\n",
              " 83.33024108776762,\n",
              " 83.33024108776762,\n",
              " 83.33024108776762,\n",
              " 83.33024108776762,\n",
              " 83.33024108776762,\n",
              " 83.33024108776762,\n",
              " 83.33024108776762,\n",
              " 83.33024108776762,\n",
              " 83.33024108776762,\n",
              " 83.33024108776762,\n",
              " 83.33024108776762,\n",
              " 83.33024108776762,\n",
              " 83.33024108776762,\n",
              " 83.33024108776762,\n",
              " 83.33024108776762,\n",
              " 83.33024108776762,\n",
              " 83.33024108776762,\n",
              " 83.33024108776762,\n",
              " 83.33024108776762,\n",
              " 83.33024108776762,\n",
              " 83.33024108776762,\n",
              " 83.33024108776762,\n",
              " 83.33024108776762,\n",
              " 83.33024108776762,\n",
              " 83.33024108776762,\n",
              " 83.33024108776762,\n",
              " 83.33024108776762,\n",
              " 83.33024108776762,\n",
              " 83.33024108776762,\n",
              " 83.33024108776762,\n",
              " 83.33024108776762,\n",
              " 83.33024108776762,\n",
              " 83.33024108776762,\n",
              " 83.33024108776762,\n",
              " 83.33024108776762,\n",
              " 83.33024108776762,\n",
              " 83.33024108776762,\n",
              " 83.33024108776762,\n",
              " 83.33024108776762,\n",
              " 83.33024108776762,\n",
              " 83.33024108776762,\n",
              " 83.33024108776762,\n",
              " 83.33024108776762,\n",
              " 83.33024108776762,\n",
              " 83.33024108776762,\n",
              " 83.33024108776762,\n",
              " 83.33024108776762,\n",
              " 83.33024108776762,\n",
              " 83.33024108776762,\n",
              " 83.33024108776762,\n",
              " 83.33024108776762,\n",
              " 83.33024108776762,\n",
              " 83.33024108776762,\n",
              " 83.33024108776762,\n",
              " 83.33024108776762,\n",
              " 83.33024108776762,\n",
              " 83.33024108776762,\n",
              " 83.33024108776762,\n",
              " 83.33024108776762,\n",
              " 83.33024108776762,\n",
              " 83.33024108776762,\n",
              " 83.33024108776762,\n",
              " 83.33024108776762,\n",
              " 83.33024108776762,\n",
              " 83.33024108776762,\n",
              " 83.33024108776762,\n",
              " 83.33024108776762,\n",
              " 83.33024108776762,\n",
              " 83.33024108776762,\n",
              " 83.33024108776762,\n",
              " 83.33024108776762,\n",
              " 83.33024108776762,\n",
              " 83.33024108776762,\n",
              " 83.33024108776762,\n",
              " 83.33024108776762,\n",
              " 83.33024108776762,\n",
              " 83.33024108776762,\n",
              " 83.33024108776762,\n",
              " 83.33024108776762,\n",
              " 83.33024108776762,\n",
              " 83.33024108776762,\n",
              " 83.33024108776762,\n",
              " 83.33024108776762,\n",
              " 83.33024108776762,\n",
              " 83.33024108776762,\n",
              " 83.33024108776762,\n",
              " 83.33024108776762,\n",
              " 83.33024108776762,\n",
              " 83.33024108776762,\n",
              " 83.33024108776762,\n",
              " 83.33024108776762,\n",
              " 83.33024108776762,\n",
              " 83.33024108776762,\n",
              " 83.33024108776762,\n",
              " 83.33024108776762,\n",
              " 83.33024108776762,\n",
              " 83.33024108776762,\n",
              " 83.33024108776762,\n",
              " 83.33024108776762,\n",
              " 83.33024108776762,\n",
              " 83.33024108776762,\n",
              " 83.33024108776762,\n",
              " 83.33024108776762,\n",
              " 83.33024108776762,\n",
              " 83.33024108776762,\n",
              " 83.33024108776762,\n",
              " 83.33024108776762,\n",
              " 83.33024108776762,\n",
              " 83.33024108776762,\n",
              " 83.33024108776762,\n",
              " 83.33024108776762,\n",
              " 83.33024108776762,\n",
              " 83.33024108776762,\n",
              " 83.33024108776762,\n",
              " 83.33024108776762,\n",
              " 83.33024108776762,\n",
              " 83.33024108776762,\n",
              " 83.33024108776762,\n",
              " 83.33024108776762,\n",
              " 83.33024108776762,\n",
              " 83.33024108776762,\n",
              " 83.33024108776762,\n",
              " 83.33024108776762,\n",
              " 83.33024108776762,\n",
              " 83.33024108776762,\n",
              " 83.33024108776762,\n",
              " 83.33024108776762,\n",
              " 83.33024108776762,\n",
              " 83.33024108776762,\n",
              " 83.33024108776762,\n",
              " 83.33024108776762,\n",
              " 83.33024108776762,\n",
              " 83.33024108776762,\n",
              " 83.33024108776762,\n",
              " 83.33024108776762,\n",
              " 83.33024108776762,\n",
              " 83.33024108776762,\n",
              " 83.33024108776762,\n",
              " 83.33024108776762,\n",
              " 83.33024108776762,\n",
              " 83.33024108776762,\n",
              " 83.33024108776762,\n",
              " 83.33024108776762,\n",
              " 83.33024108776762,\n",
              " 83.33024108776762,\n",
              " 83.33024108776762,\n",
              " 83.33024108776762,\n",
              " 83.33024108776762,\n",
              " 83.33024108776762,\n",
              " 83.33024108776762,\n",
              " 83.33024108776762,\n",
              " 83.33024108776762,\n",
              " 83.33024108776762,\n",
              " 83.33024108776762,\n",
              " 83.33024108776762,\n",
              " 83.33024108776762,\n",
              " 83.33024108776762,\n",
              " 83.33024108776762,\n",
              " 83.33024108776762,\n",
              " 83.33024108776762,\n",
              " 83.33024108776762,\n",
              " 83.33024108776762,\n",
              " 83.33024108776762,\n",
              " 83.33024108776762,\n",
              " 83.33024108776762,\n",
              " 83.33024108776762,\n",
              " 83.33024108776762,\n",
              " 83.33024108776762,\n",
              " 83.33024108776762,\n",
              " 83.33024108776762,\n",
              " 83.33024108776762,\n",
              " 83.33024108776762,\n",
              " 83.33024108776762,\n",
              " 83.33024108776762,\n",
              " 83.33024108776762,\n",
              " 83.33024108776762,\n",
              " 83.33024108776762,\n",
              " 83.33024108776762,\n",
              " 83.33024108776762,\n",
              " 83.33024108776762,\n",
              " 83.33024108776762,\n",
              " 83.33024108776762,\n",
              " 83.33024108776762,\n",
              " 83.33024108776762,\n",
              " 83.33024108776762,\n",
              " 83.33024108776762,\n",
              " 83.33024108776762,\n",
              " 83.33024108776762,\n",
              " 83.33024108776762,\n",
              " 83.33024108776762,\n",
              " 83.33024108776762,\n",
              " 83.33024108776762,\n",
              " 83.33024108776762,\n",
              " 83.33024108776762,\n",
              " 83.33024108776762,\n",
              " 83.33024108776762,\n",
              " 83.33024108776762,\n",
              " 83.33024108776762,\n",
              " 83.33024108776762,\n",
              " 83.33024108776762,\n",
              " 83.33024108776762,\n",
              " 83.33024108776762,\n",
              " 83.33024108776762,\n",
              " 83.33024108776762,\n",
              " 83.33024108776762,\n",
              " 83.33024108776762,\n",
              " 83.33024108776762,\n",
              " 83.33024108776762,\n",
              " 83.33024108776762,\n",
              " 83.33024108776762,\n",
              " 83.33024108776762,\n",
              " 83.33024108776762,\n",
              " 83.33024108776762,\n",
              " 83.33024108776762,\n",
              " 83.33024108776762,\n",
              " 83.33024108776762,\n",
              " 83.33024108776762,\n",
              " 83.33024108776762,\n",
              " 83.33024108776762,\n",
              " 83.33024108776762,\n",
              " 83.33024108776762,\n",
              " 83.33024108776762,\n",
              " 83.33024108776762,\n",
              " 83.33024108776762,\n",
              " 83.33024108776762,\n",
              " 83.33024108776762,\n",
              " 83.33024108776762,\n",
              " 83.33024108776762,\n",
              " 83.33024108776762,\n",
              " 83.33024108776762,\n",
              " 83.33024108776762,\n",
              " 83.33024108776762,\n",
              " 83.33024108776762,\n",
              " 83.33024108776762,\n",
              " 83.33024108776762,\n",
              " 83.33024108776762,\n",
              " 83.33024108776762,\n",
              " 83.33024108776762,\n",
              " 83.33024108776762,\n",
              " 83.33024108776762,\n",
              " 83.33024108776762,\n",
              " 83.33024108776762,\n",
              " 83.33024108776762,\n",
              " 83.33024108776762,\n",
              " 83.33024108776762,\n",
              " 83.33024108776762,\n",
              " 83.33024108776762,\n",
              " 83.33024108776762,\n",
              " 83.33024108776762,\n",
              " 83.33024108776762,\n",
              " 83.33024108776762,\n",
              " 83.33024108776762,\n",
              " 83.33024108776762,\n",
              " 83.33024108776762,\n",
              " 83.33024108776762,\n",
              " 83.33024108776762,\n",
              " 83.33024108776762,\n",
              " 83.33024108776762,\n",
              " 83.33024108776762,\n",
              " 83.33024108776762,\n",
              " 83.33024108776762,\n",
              " 83.33024108776762,\n",
              " 83.33024108776762,\n",
              " 83.33024108776762,\n",
              " 83.33024108776762,\n",
              " 83.33024108776762,\n",
              " 83.33024108776762,\n",
              " 83.33024108776762,\n",
              " 83.33024108776762,\n",
              " 83.33024108776762,\n",
              " 83.33024108776762,\n",
              " 83.33024108776762,\n",
              " 83.33024108776762,\n",
              " 83.33024108776762,\n",
              " 83.33024108776762,\n",
              " 83.33024108776762,\n",
              " 83.33024108776762,\n",
              " 83.33024108776762,\n",
              " 83.33024108776762,\n",
              " 83.33024108776762,\n",
              " 83.33024108776762,\n",
              " 83.33024108776762,\n",
              " 83.33024108776762,\n",
              " 83.33024108776762,\n",
              " 83.33024108776762,\n",
              " 83.33024108776762,\n",
              " 83.33024108776762,\n",
              " 83.33024108776762,\n",
              " 83.33024108776762,\n",
              " 83.33024108776762,\n",
              " 83.33024108776762,\n",
              " 83.33024108776762,\n",
              " 83.33024108776762,\n",
              " 83.33024108776762,\n",
              " 83.33024108776762,\n",
              " 83.33024108776762,\n",
              " 83.33024108776762,\n",
              " 83.33024108776762,\n",
              " 83.33024108776762,\n",
              " 83.33024108776762,\n",
              " 83.33024108776762,\n",
              " 83.33024108776762,\n",
              " 83.33024108776762,\n",
              " 83.33024108776762,\n",
              " 83.33024108776762,\n",
              " 83.33024108776762,\n",
              " 83.33024108776762,\n",
              " 83.33024108776762,\n",
              " 83.33024108776762,\n",
              " 83.33024108776762,\n",
              " 83.33024108776762,\n",
              " 83.33024108776762,\n",
              " 83.33024108776762,\n",
              " 83.33024108776762,\n",
              " 83.33024108776762,\n",
              " 83.33024108776762,\n",
              " 83.33024108776762,\n",
              " 83.33024108776762,\n",
              " 83.33024108776762,\n",
              " 83.33024108776762,\n",
              " 83.33024108776762,\n",
              " 83.33024108776762,\n",
              " 83.33024108776762,\n",
              " 83.33024108776762,\n",
              " 83.33024108776762,\n",
              " 83.33024108776762,\n",
              " 83.33024108776762,\n",
              " 83.33024108776762,\n",
              " 83.33024108776762,\n",
              " 83.33024108776762,\n",
              " 83.33024108776762,\n",
              " 83.33024108776762,\n",
              " 83.33024108776762,\n",
              " 83.33024108776762,\n",
              " 83.33024108776762,\n",
              " 83.33024108776762,\n",
              " 83.33024108776762,\n",
              " 83.33024108776762,\n",
              " 83.33024108776762,\n",
              " 83.33024108776762,\n",
              " 83.33024108776762,\n",
              " 83.33024108776762,\n",
              " 83.33024108776762,\n",
              " 83.33024108776762,\n",
              " 83.33024108776762,\n",
              " 83.33024108776762,\n",
              " 83.33024108776762,\n",
              " 83.33024108776762,\n",
              " 83.33024108776762,\n",
              " 83.33024108776762,\n",
              " 83.33024108776762,\n",
              " 83.33024108776762,\n",
              " 83.33024108776762,\n",
              " 83.33024108776762,\n",
              " 83.33024108776762,\n",
              " 83.33024108776762,\n",
              " 83.33024108776762,\n",
              " 83.33024108776762,\n",
              " 83.33024108776762,\n",
              " 83.33024108776762,\n",
              " 83.33024108776762,\n",
              " 83.33024108776762,\n",
              " 83.33024108776762,\n",
              " 83.33024108776762,\n",
              " 83.33024108776762,\n",
              " 83.33024108776762,\n",
              " 83.33024108776762,\n",
              " 83.33024108776762,\n",
              " 83.33024108776762,\n",
              " 83.33024108776762,\n",
              " 83.33024108776762,\n",
              " 83.33024108776762,\n",
              " 83.33024108776762,\n",
              " 83.33024108776762,\n",
              " 83.33024108776762,\n",
              " 83.33024108776762,\n",
              " 83.33024108776762,\n",
              " 83.33024108776762,\n",
              " 83.33024108776762,\n",
              " 83.33024108776762,\n",
              " 83.33024108776762,\n",
              " 83.33024108776762,\n",
              " 83.33024108776762,\n",
              " 83.33024108776762,\n",
              " 83.33024108776762,\n",
              " 83.33024108776762,\n",
              " 83.33024108776762,\n",
              " 83.33024108776762,\n",
              " 83.33024108776762,\n",
              " 83.33024108776762,\n",
              " 83.33024108776762,\n",
              " 83.33024108776762,\n",
              " 83.33024108776762,\n",
              " 83.33024108776762,\n",
              " 83.33024108776762,\n",
              " 83.33024108776762,\n",
              " 83.33024108776762,\n",
              " 83.33024108776762,\n",
              " 83.33024108776762,\n",
              " 83.33024108776762,\n",
              " 83.33024108776762,\n",
              " 83.33024108776762,\n",
              " 83.33024108776762,\n",
              " 83.33024108776762,\n",
              " 83.33024108776762,\n",
              " 83.33024108776762,\n",
              " 83.33024108776762,\n",
              " 83.33024108776762,\n",
              " 83.33024108776762,\n",
              " 83.33024108776762,\n",
              " 83.33024108776762,\n",
              " 83.33024108776762,\n",
              " 83.33024108776762,\n",
              " 83.33024108776762,\n",
              " 83.33024108776762,\n",
              " 83.33024108776762,\n",
              " 83.33024108776762,\n",
              " 83.33024108776762,\n",
              " 83.33024108776762,\n",
              " 83.33024108776762,\n",
              " 83.33024108776762,\n",
              " 83.33024108776762,\n",
              " 83.33024108776762,\n",
              " 83.33024108776762,\n",
              " 83.33024108776762,\n",
              " 83.33024108776762,\n",
              " 83.33024108776762,\n",
              " 83.33024108776762,\n",
              " 83.33024108776762,\n",
              " 83.33024108776762,\n",
              " 83.33024108776762,\n",
              " 83.33024108776762,\n",
              " 83.33024108776762,\n",
              " 83.33024108776762,\n",
              " 83.33024108776762,\n",
              " 83.33024108776762,\n",
              " 83.33024108776762,\n",
              " 83.33024108776762,\n",
              " 83.33024108776762,\n",
              " 83.33024108776762,\n",
              " 83.33024108776762,\n",
              " 83.33024108776762,\n",
              " 83.33024108776762,\n",
              " 83.33024108776762,\n",
              " 83.33024108776762,\n",
              " 83.33024108776762,\n",
              " 83.33024108776762,\n",
              " 83.33024108776762,\n",
              " 83.33024108776762,\n",
              " 83.33024108776762,\n",
              " 83.33024108776762,\n",
              " 83.33024108776762,\n",
              " 83.33024108776762,\n",
              " 83.33024108776762,\n",
              " 83.33024108776762,\n",
              " 83.33024108776762,\n",
              " 83.33024108776762,\n",
              " 83.33024108776762,\n",
              " 83.33024108776762,\n",
              " 83.33024108776762,\n",
              " 83.33024108776762,\n",
              " 83.33024108776762,\n",
              " 83.33024108776762,\n",
              " 83.33024108776762,\n",
              " 83.33024108776762,\n",
              " 83.33024108776762,\n",
              " 83.33024108776762,\n",
              " 83.33024108776762,\n",
              " 83.33024108776762,\n",
              " 83.33024108776762,\n",
              " 83.33024108776762,\n",
              " 83.33024108776762,\n",
              " 83.33024108776762,\n",
              " 83.33024108776762,\n",
              " 83.33024108776762,\n",
              " 83.33024108776762,\n",
              " 83.33024108776762,\n",
              " 83.33024108776762,\n",
              " 83.33024108776762,\n",
              " 83.33024108776762,\n",
              " 83.33024108776762,\n",
              " 83.33024108776762,\n",
              " 83.33024108776762,\n",
              " 83.33024108776762,\n",
              " 83.33024108776762,\n",
              " 83.33024108776762,\n",
              " 83.33024108776762,\n",
              " 83.33024108776762,\n",
              " 83.33024108776762,\n",
              " 83.33024108776762,\n",
              " 83.33024108776762,\n",
              " 83.33024108776762,\n",
              " 83.33024108776762,\n",
              " 83.33024108776762,\n",
              " 83.33024108776762,\n",
              " 83.33024108776762,\n",
              " 83.33024108776762,\n",
              " 83.33024108776762,\n",
              " 83.33024108776762,\n",
              " 83.33024108776762,\n",
              " 83.33024108776762,\n",
              " 83.33024108776762,\n",
              " 83.33024108776762,\n",
              " 83.33024108776762,\n",
              " 83.33024108776762,\n",
              " 83.33024108776762,\n",
              " 83.33024108776762,\n",
              " 83.33024108776762,\n",
              " 83.33024108776762,\n",
              " 83.33024108776762,\n",
              " 83.33024108776762,\n",
              " 83.33024108776762,\n",
              " 83.33024108776762,\n",
              " 83.33024108776762,\n",
              " 83.33024108776762,\n",
              " 83.33024108776762,\n",
              " 83.33024108776762,\n",
              " 83.33024108776762,\n",
              " 83.33024108776762,\n",
              " 83.33024108776762,\n",
              " 83.33024108776762,\n",
              " 83.33024108776762,\n",
              " 83.33024108776762,\n",
              " 83.33024108776762,\n",
              " 83.33024108776762,\n",
              " 83.33024108776762,\n",
              " 83.33024108776762,\n",
              " 83.33024108776762,\n",
              " 83.33024108776762,\n",
              " 83.33024108776762,\n",
              " 83.33024108776762,\n",
              " 83.33024108776762,\n",
              " 83.33024108776762,\n",
              " 83.33024108776762,\n",
              " 83.33024108776762,\n",
              " 83.33024108776762,\n",
              " 83.33024108776762,\n",
              " 83.33024108776762,\n",
              " 83.33024108776762,\n",
              " 83.33024108776762,\n",
              " 83.33024108776762,\n",
              " 83.33024108776762,\n",
              " 83.33024108776762,\n",
              " 83.33024108776762,\n",
              " 83.33024108776762,\n",
              " 83.33024108776762,\n",
              " 83.33024108776762,\n",
              " 83.33024108776762,\n",
              " 83.33024108776762,\n",
              " 83.33024108776762,\n",
              " 83.33024108776762,\n",
              " 83.33024108776762,\n",
              " 83.33024108776762,\n",
              " 83.33024108776762,\n",
              " 83.33024108776762,\n",
              " 83.33024108776762,\n",
              " 83.33024108776762,\n",
              " 83.33024108776762,\n",
              " 83.33024108776762,\n",
              " 83.33024108776762,\n",
              " 83.33024108776762,\n",
              " 83.33024108776762,\n",
              " 83.33024108776762,\n",
              " 83.33024108776762,\n",
              " 83.33024108776762,\n",
              " 83.33024108776762,\n",
              " 83.33024108776762,\n",
              " 83.33024108776762,\n",
              " 83.33024108776762,\n",
              " 83.33024108776762,\n",
              " 83.33024108776762,\n",
              " 83.33024108776762,\n",
              " 83.33024108776762,\n",
              " 83.33024108776762,\n",
              " 83.33024108776762,\n",
              " 83.33024108776762,\n",
              " 83.33024108776762,\n",
              " 83.33024108776762,\n",
              " 83.33024108776762,\n",
              " 83.33024108776762,\n",
              " 83.33024108776762,\n",
              " 83.33024108776762,\n",
              " 83.33024108776762,\n",
              " 83.33024108776762,\n",
              " 83.33024108776762,\n",
              " 83.33024108776762,\n",
              " 83.33024108776762,\n",
              " 83.33024108776762,\n",
              " 83.33024108776762,\n",
              " 83.33024108776762,\n",
              " 83.33024108776762,\n",
              " 83.33024108776762,\n",
              " 83.33024108776762,\n",
              " 83.33024108776762,\n",
              " 83.33024108776762,\n",
              " 83.33024108776762,\n",
              " 83.33024108776762,\n",
              " 83.33024108776762,\n",
              " 83.33024108776762,\n",
              " 83.33024108776762,\n",
              " 83.33024108776762,\n",
              " 83.33024108776762,\n",
              " 83.33024108776762,\n",
              " 83.33024108776762,\n",
              " 83.33024108776762,\n",
              " 83.33024108776762,\n",
              " 83.33024108776762,\n",
              " 83.33024108776762,\n",
              " 83.33024108776762,\n",
              " 83.33024108776762,\n",
              " 83.33024108776762,\n",
              " 83.33024108776762,\n",
              " 83.33024108776762,\n",
              " 83.33024108776762,\n",
              " 83.33024108776762,\n",
              " 83.33024108776762,\n",
              " 83.33024108776762,\n",
              " 83.33024108776762,\n",
              " 83.33024108776762,\n",
              " 83.33024108776762,\n",
              " 83.33024108776762,\n",
              " 83.33024108776762,\n",
              " 83.33024108776762,\n",
              " 83.33024108776762,\n",
              " 83.33024108776762,\n",
              " 83.33024108776762,\n",
              " 83.33024108776762,\n",
              " 83.33024108776762,\n",
              " 83.33024108776762,\n",
              " 83.33024108776762,\n",
              " 83.33024108776762,\n",
              " 83.33024108776762,\n",
              " 83.33024108776762,\n",
              " 83.33024108776762,\n",
              " 83.33024108776762,\n",
              " 83.33024108776762,\n",
              " 83.33024108776762,\n",
              " 83.33024108776762,\n",
              " 83.33024108776762,\n",
              " 83.33024108776762,\n",
              " 83.33024108776762,\n",
              " 83.33024108776762,\n",
              " 83.33024108776762,\n",
              " 83.33024108776762,\n",
              " 83.33024108776762,\n",
              " 83.33024108776762,\n",
              " 83.33024108776762,\n",
              " 83.33024108776762,\n",
              " 83.33024108776762,\n",
              " 83.33024108776762,\n",
              " 83.33024108776762,\n",
              " 83.33024108776762,\n",
              " 83.33024108776762,\n",
              " 83.33024108776762,\n",
              " 83.33024108776762,\n",
              " 83.33024108776762,\n",
              " 83.33024108776762,\n",
              " 83.33024108776762,\n",
              " 83.33024108776762,\n",
              " 83.33024108776762,\n",
              " ...]"
            ]
          },
          "metadata": {},
          "execution_count": 25
        }
      ]
    },
    {
      "cell_type": "code",
      "source": [
        "fcast = list(forecast)"
      ],
      "metadata": {
        "id": "F41CHKV6bxKO"
      },
      "execution_count": 39,
      "outputs": []
    },
    {
      "cell_type": "code",
      "source": [
        "print(f\"MSE : {mean_squared_error(df_test['Close'], fcast)}\")\n",
        "print(f\"RMSE : {np.sqrt(mean_squared_error(df_test['Close'],fcast))}\")\n",
        "print(f\"MAE : {mean_absolute_error(df_test['Close'],fcast)}\")\n",
        "print(f\"MAPE : {mean_absolute_percentage_error(df_test['Close'],fcast)}\")\n",
        "print(f\"R2 : {r2_score(df_test['Close'], fcast)}\")"
      ],
      "metadata": {
        "colab": {
          "base_uri": "https://localhost:8080/"
        },
        "id": "Ef1QApPRfXp9",
        "outputId": "e6d77f86-4967-4e4f-8362-0a8fc872a1b5"
      },
      "execution_count": 40,
      "outputs": [
        {
          "output_type": "stream",
          "name": "stdout",
          "text": [
            "MSE : 1935.0152633500265\n",
            "RMSE : 43.9888083874754\n",
            "MAE : 34.396495751019025\n",
            "MAPE : 0.7642286330481917\n",
            "R2 : -0.07882631923162786\n"
          ]
        }
      ]
    },
    {
      "cell_type": "code",
      "source": [
        "fore = model_opt_fit.forecast(10)"
      ],
      "metadata": {
        "colab": {
          "base_uri": "https://localhost:8080/"
        },
        "id": "ArcZTt36cpM2",
        "outputId": "2410f18c-cab6-43b8-cb09-6a436ebbb1d9"
      },
      "execution_count": 27,
      "outputs": [
        {
          "output_type": "stream",
          "name": "stderr",
          "text": [
            "/usr/local/lib/python3.9/dist-packages/statsmodels/tsa/base/tsa_model.py:834: ValueWarning: No supported index is available. Prediction results will be given with an integer index beginning at `start`.\n",
            "  return get_prediction_index(\n"
          ]
        }
      ]
    },
    {
      "cell_type": "code",
      "source": [
        "fore"
      ],
      "metadata": {
        "colab": {
          "base_uri": "https://localhost:8080/"
        },
        "id": "X62sXVwIehIS",
        "outputId": "54897994-aabc-4245-ac47-17e64e7ba7ca"
      },
      "execution_count": 29,
      "outputs": [
        {
          "output_type": "execute_result",
          "data": {
            "text/plain": [
              "484808   83.44\n",
              "484809   83.32\n",
              "484810   83.31\n",
              "484811   83.33\n",
              "484812   83.33\n",
              "484813   83.33\n",
              "484814   83.33\n",
              "484815   83.33\n",
              "484816   83.33\n",
              "484817   83.33\n",
              "Name: predicted_mean, dtype: float64"
            ]
          },
          "metadata": {},
          "execution_count": 29
        }
      ]
    },
    {
      "cell_type": "code",
      "source": [
        "ffcast = list(fore)"
      ],
      "metadata": {
        "id": "wjuoLHqfemr7"
      },
      "execution_count": 31,
      "outputs": []
    },
    {
      "cell_type": "code",
      "source": [
        "print(f\"MSE : {mean_squared_error(df_test['Close'][:10], ffcast)}\")\n",
        "print(f\"RMSE : {np.sqrt(mean_squared_error(df_test['Close'][:10],ffcast))}\")\n",
        "print(f\"MAE : {mean_absolute_error(df_test['Close'][:10],ffcast)}\")\n",
        "print(f\"MAPE : {mean_absolute_percentage_error(df_test['Close'][:10],ffcast)}\")\n",
        "print(f\"R2 : {r2_score(df_test['Close'][:10], ffcast)}\")"
      ],
      "metadata": {
        "colab": {
          "base_uri": "https://localhost:8080/"
        },
        "id": "j_I7ittub0bz",
        "outputId": "aa3d6dc8-1877-4ddc-d9fb-8fcd033bf047"
      },
      "execution_count": 38,
      "outputs": [
        {
          "output_type": "stream",
          "name": "stdout",
          "text": [
            "MSE : 4.646070098691897\n",
            "RMSE : 2.155474448628862\n",
            "MAE : 1.94626401262112\n",
            "MAPE : 0.0227089807721209\n",
            "R2 : -4.488143377876337\n"
          ]
        }
      ]
    },
    {
      "cell_type": "markdown",
      "source": [
        "## 4. Forecasting a Time Series to Future"
      ],
      "metadata": {
        "id": "uAdoF39Kh66A"
      }
    },
    {
      "cell_type": "code",
      "source": [
        "df_train['Close'].plot(legend = True, label ='Train')\n",
        "df_test['Close'].plot(legend = True, label = 'Test', figsize = (12, 8))plt.title('Train and Test Data')"
      ],
      "metadata": {
        "colab": {
          "base_uri": "https://localhost:8080/",
          "height": 499
        },
        "id": "-bqkEVRPfyd7",
        "outputId": "d7cda1d1-8a1f-4af0-ffe3-00e9d7f3c48a"
      },
      "execution_count": 41,
      "outputs": [
        {
          "output_type": "execute_result",
          "data": {
            "text/plain": [
              "Text(0.5, 1.0, 'Train and Test Data')"
            ]
          },
          "metadata": {},
          "execution_count": 41
        },
        {
          "output_type": "display_data",
          "data": {
            "text/plain": [
              "<Figure size 864x576 with 1 Axes>"
            ],
            "image/png": "[encoded data removed]"
          },
          "metadata": {
            "needs_background": "light"
          }
        }
      ]
    },
    {
      "cell_type": "code",
      "source": [
        "forecast = model_opt_fit.forecast(121203)"
      ],
      "metadata": {
        "id": "hcjTaMyphO3A"
      },
      "execution_count": null,
      "outputs": []
    },
    {
      "cell_type": "code",
      "source": [
        "#Final model \n",
        "fin_model= ARIMA(df['Close'], order = optimal[0][0]).fit()"
      ],
      "metadata": {
        "colab": {
          "base_uri": "https://localhost:8080/"
        },
        "id": "D8V4vmbThwTy",
        "outputId": "16d3e879-d42f-4130-d414-a905921fa0ce"
      },
      "execution_count": 42,
      "outputs": [
        {
          "output_type": "stream",
          "name": "stderr",
          "text": [
            "/usr/local/lib/python3.9/dist-packages/statsmodels/tsa/base/tsa_model.py:471: ValueWarning: A date index has been provided, but it has no associated frequency information and so will be ignored when e.g. forecasting.\n",
            "  self._init_dates(dates, freq)\n",
            "/usr/local/lib/python3.9/dist-packages/statsmodels/tsa/base/tsa_model.py:471: ValueWarning: A date index has been provided, but it is not monotonic and so will be ignored when e.g. forecasting.\n",
            "  self._init_dates(dates, freq)\n",
            "/usr/local/lib/python3.9/dist-packages/statsmodels/tsa/base/tsa_model.py:471: ValueWarning: A date index has been provided, but it has no associated frequency information and so will be ignored when e.g. forecasting.\n",
            "  self._init_dates(dates, freq)\n",
            "/usr/local/lib/python3.9/dist-packages/statsmodels/tsa/base/tsa_model.py:471: ValueWarning: A date index has been provided, but it is not monotonic and so will be ignored when e.g. forecasting.\n",
            "  self._init_dates(dates, freq)\n",
            "/usr/local/lib/python3.9/dist-packages/statsmodels/tsa/base/tsa_model.py:471: ValueWarning: A date index has been provided, but it has no associated frequency information and so will be ignored when e.g. forecasting.\n",
            "  self._init_dates(dates, freq)\n",
            "/usr/local/lib/python3.9/dist-packages/statsmodels/tsa/base/tsa_model.py:471: ValueWarning: A date index has been provided, but it is not monotonic and so will be ignored when e.g. forecasting.\n",
            "  self._init_dates(dates, freq)\n"
          ]
        }
      ]
    },
    {
      "cell_type": "code",
      "source": [
        "forecast_predictions = fin_model.forecast(50)"
      ],
      "metadata": {
        "colab": {
          "base_uri": "https://localhost:8080/"
        },
        "id": "4pCYDPulihuz",
        "outputId": "7af1e96c-afae-4670-82d8-90363b5062a2"
      },
      "execution_count": 47,
      "outputs": [
        {
          "output_type": "stream",
          "name": "stderr",
          "text": [
            "/usr/local/lib/python3.9/dist-packages/statsmodels/tsa/base/tsa_model.py:834: ValueWarning: No supported index is available. Prediction results will be given with an integer index beginning at `start`.\n",
            "  return get_prediction_index(\n"
          ]
        }
      ]
    },
    {
      "cell_type": "code",
      "source": [
        "forecast_predictions"
      ],
      "metadata": {
        "colab": {
          "base_uri": "https://localhost:8080/"
        },
        "id": "k90Hgz-tk1dV",
        "outputId": "82cf3580-8573-4f64-e9a2-0e90a7a2ad92"
      },
      "execution_count": 59,
      "outputs": [
        {
          "output_type": "execute_result",
          "data": {
            "text/plain": [
              "606011   59.72\n",
              "606012   59.70\n",
              "606013   59.71\n",
              "606014   59.71\n",
              "606015   59.71\n",
              "606016   59.71\n",
              "606017   59.71\n",
              "606018   59.71\n",
              "606019   59.71\n",
              "606020   59.71\n",
              "606021   59.71\n",
              "606022   59.71\n",
              "606023   59.71\n",
              "606024   59.71\n",
              "606025   59.71\n",
              "606026   59.71\n",
              "606027   59.71\n",
              "606028   59.71\n",
              "606029   59.71\n",
              "606030   59.71\n",
              "606031   59.71\n",
              "606032   59.71\n",
              "606033   59.71\n",
              "606034   59.71\n",
              "606035   59.71\n",
              "606036   59.71\n",
              "606037   59.71\n",
              "606038   59.71\n",
              "606039   59.71\n",
              "606040   59.71\n",
              "606041   59.71\n",
              "606042   59.71\n",
              "606043   59.71\n",
              "606044   59.71\n",
              "606045   59.71\n",
              "606046   59.71\n",
              "606047   59.71\n",
              "606048   59.71\n",
              "606049   59.71\n",
              "606050   59.71\n",
              "606051   59.71\n",
              "606052   59.71\n",
              "606053   59.71\n",
              "606054   59.71\n",
              "606055   59.71\n",
              "606056   59.71\n",
              "606057   59.71\n",
              "606058   59.71\n",
              "606059   59.71\n",
              "606060   59.71\n",
              "Name: predicted_mean, dtype: float64"
            ]
          },
          "metadata": {},
          "execution_count": 59
        }
      ]
    },
    {
      "cell_type": "code",
      "source": [
        "forecast_pred = list(forecast_predictions)"
      ],
      "metadata": {
        "id": "UdjsfCEUjmbf"
      },
      "execution_count": 48,
      "outputs": []
    },
    {
      "cell_type": "code",
      "source": [
        "forecast_pred"
      ],
      "metadata": {
        "colab": {
          "base_uri": "https://localhost:8080/"
        },
        "id": "2_nhncu6jwRs",
        "outputId": "61506fe0-8e83-4b3f-9217-1b9ee778c1cb"
      },
      "execution_count": 52,
      "outputs": [
        {
          "output_type": "execute_result",
          "data": {
            "text/plain": [
              "[59.71532745195316,\n",
              " 59.703874117419325,\n",
              " 59.70502032930079,\n",
              " 59.70712531549682,\n",
              " 59.70718098821855,\n",
              " 59.70682607313476,\n",
              " 59.706773924751644,\n",
              " 59.70682863506531,\n",
              " 59.70684415760947,\n",
              " 59.70683662194942,\n",
              " 59.70683305130785,\n",
              " 59.70683391735768,\n",
              " 59.70683463463738,\n",
              " 59.70683457193079,\n",
              " 59.706834441192385,\n",
              " 59.70683443627733,\n",
              " 59.70683445814587,\n",
              " 59.7068344616141,\n",
              " 59.706834458273654,\n",
              " 59.706834457277076,\n",
              " 59.70683445773132,\n",
              " 59.706834457957015,\n",
              " 59.70683445790606,\n",
              " 59.70683445786118,\n",
              " 59.706834457864545,\n",
              " 59.70683445787266,\n",
              " 59.70683445787306,\n",
              " 59.706834457871715,\n",
              " 59.70683445787149,\n",
              " 59.70683445787169,\n",
              " 59.70683445787176,\n",
              " 59.70683445787173,\n",
              " 59.706834457871715,\n",
              " 59.706834457871715,\n",
              " 59.706834457871715,\n",
              " 59.706834457871715,\n",
              " 59.706834457871715,\n",
              " 59.706834457871715,\n",
              " 59.706834457871715,\n",
              " 59.706834457871715,\n",
              " 59.706834457871715,\n",
              " 59.706834457871715,\n",
              " 59.706834457871715,\n",
              " 59.706834457871715,\n",
              " 59.706834457871715,\n",
              " 59.706834457871715,\n",
              " 59.706834457871715,\n",
              " 59.706834457871715,\n",
              " 59.706834457871715,\n",
              " 59.706834457871715]"
            ]
          },
          "metadata": {},
          "execution_count": 52
        }
      ]
    },
    {
      "cell_type": "code",
      "source": [
        "ts.plot(figsize = (12, 8), legend = True, label = 'Current Stock Price')\n",
        "forecast_predictions.plot(legend = True, label = 'Forecasted Stock Price')\n",
        "plt.title('Stock Price Forecast')"
      ],
      "metadata": {
        "colab": {
          "base_uri": "https://localhost:8080/",
          "height": 488
        },
        "id": "XWvYfCOFhGaB",
        "outputId": "f770d931-064f-4193-dd0c-77b093085415"
      },
      "execution_count": 58,
      "outputs": [
        {
          "output_type": "execute_result",
          "data": {
            "text/plain": [
              "Text(0.5, 1.0, 'Stock Price Forecast')"
            ]
          },
          "metadata": {},
          "execution_count": 58
        },
        {
          "output_type": "display_data",
          "data": {
            "text/plain": [
              "<Figure size 864x576 with 1 Axes>"
            ],
            "image/png": "[encoded data removed]"
          },
          "metadata": {
            "needs_background": "light"
          }
        }
      ]
    },
    {
      "cell_type": "code",
      "source": [
        "#auto_arima ram 부족 \n",
        "auto_arima_model = auto_arima(df_train['Close'], start_p = 1, start_q =1,\n",
        "                              max_p =3, max_q =3, seasonal = False,\n",
        "                              d =1,\n",
        "                              trace = True, #stepwise로 모델을 적합할 때마다 결과를 프린트하고 싶을 때 사용\n",
        "                              error_action = 'ignore',\n",
        "                              suppress_warnings = True,\n",
        "                              stepwise = False)"
      ],
      "metadata": {
        "colab": {
          "base_uri": "https://localhost:8080/"
        },
        "id": "6R8MQtm9SAEC",
        "outputId": "3623b10b-c31b-48f0-a66c-c1185f6dc828"
      },
      "execution_count": null,
      "outputs": [
        {
          "output_type": "stream",
          "name": "stdout",
          "text": [
            " ARIMA(0,1,0)(0,0,0)[0] intercept   : AIC=2955073.377, Time=7.59 sec\n",
            " ARIMA(0,1,1)(0,0,0)[0] intercept   : AIC=2954440.568, Time=22.25 sec\n",
            " ARIMA(0,1,2)(0,0,0)[0] intercept   : AIC=2953809.873, Time=27.43 sec\n",
            " ARIMA(0,1,3)(0,0,0)[0] intercept   : AIC=2953684.963, Time=41.32 sec\n",
            " ARIMA(1,1,0)(0,0,0)[0] intercept   : AIC=2954397.244, Time=9.81 sec\n",
            " ARIMA(1,1,1)(0,0,0)[0] intercept   : AIC=2954201.852, Time=70.97 sec\n",
            " ARIMA(1,1,2)(0,0,0)[0] intercept   : AIC=2953744.520, Time=182.55 sec\n",
            " ARIMA(1,1,3)(0,0,0)[0] intercept   : AIC=2953072.332, Time=300.14 sec\n",
            " ARIMA(2,1,0)(0,0,0)[0] intercept   : AIC=2953878.149, Time=14.46 sec\n"
          ]
        }
      ]
    },
    {
      "cell_type": "code",
      "source": [
        "auto_arima_model.summary()"
      ],
      "metadata": {
        "id": "G045B5EEVzGy"
      },
      "execution_count": null,
      "outputs": []
    },
    {
      "cell_type": "code",
      "source": [
        "prediction = auto_arima_model.predict(len(df_test['Close']), return_conf_int = True) #return_conf_int:\n",
        "predicted_value = prediction[0]\n",
        "predicted_ub = prediction[1][:,0]\n",
        "predicted_lb = prediction[1][:,1]\n",
        "predict_index = list(df_test.index)\n",
        "predict_index[0]"
      ],
      "metadata": {
        "id": "wicR6CpTV2tp"
      },
      "execution_count": null,
      "outputs": []
    },
    {
      "cell_type": "code",
      "source": [
        "fig, ax = plt.subplots(figsize = (12,6))\n",
        "df.Close.plot(ax = ax);\n",
        "ax.vline\n",
        "ax.plot(predict_index, predicted_value, label = 'Prediction')\n",
        "ax.fill_between(predict_index, predicted_lb, predicted_ub, color = 'k', alpha = 0.1, label = '0.95 Prediction Interval')\n",
        "ax.legend(loc = 'upper left')\n",
        "plt.suptitle(f'ARIMA {auto_arima_model.order}, Prediction Results')\n",
        "plt.show()"
      ],
      "metadata": {
        "id": "47kTc3LIWVJb"
      },
      "execution_count": null,
      "outputs": []
    }
  ]
}