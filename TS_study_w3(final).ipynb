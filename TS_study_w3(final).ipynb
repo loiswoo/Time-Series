{
  "nbformat": 4,
  "nbformat_minor": 0,
  "metadata": {
    "colab": {
      "provenance": [],
      "toc_visible": true,
      "include_colab_link": true
    },
    "kernelspec": {
      "name": "python3",
      "display_name": "Python 3"
    },
    "language_info": {
      "name": "python"
    }
  },
  "cells": [
    {
      "cell_type": "markdown",
      "metadata": {
        "id": "view-in-github",
        "colab_type": "text"
      },
      "source": [
        "<a href=\"https://colab.research.google.com/github/loiswoo/Time-Series/blob/main/TS_study_w3(final).ipynb\" target=\"_parent\"><img src=\"https://colab.research.google.com/assets/colab-badge.svg\" alt=\"Open In Colab\"/></a>"
      ]
    },
    {
      "cell_type": "markdown",
      "source": [
        "# S&P 500 Stocks Prediction using ARIMA\n",
        "\n",
        "\n",
        "https://www.kaggle.com/code/yassinesfaihi/arima-time-series-forecasting-s-p-500-stock/notebook"
      ],
      "metadata": {
        "id": "8r8TCATmUqDf"
      }
    },
    {
      "cell_type": "markdown",
      "source": [
        "참고한 자료들: 3주차  baseline, \n",
        "삼성 주가 예측 코드\n"
      ],
      "metadata": {
        "id": "8py28yP1UM2w"
      }
    },
    {
      "cell_type": "code",
      "execution_count": 1,
      "metadata": {
        "id": "LikINbwLgaYf"
      },
      "outputs": [],
      "source": [
        "import numpy as np\n",
        "import pandas as pd\n",
        "import matplotlib.pyplot as plt\n",
        "%matplotlib inline\n",
        "import seaborn as sns\n",
        "from datetime import datetime\n",
        "pd.options.display.float_format = '{:.2f}'.format\n",
        "from tqdm import tqdm\n",
        "import warnings\n",
        "warnings.filterwarnings('ignore')\n",
        "import pickle\n",
        "\n",
        "from itertools import combinations\n",
        "from statsmodels.tsa.stattools import adfuller\n",
        "from statsmodels.tsa.stattools import acf, pacf\n",
        "from statsmodels.tsa.arima.model import ARIMA as ARIMA\n",
        "import statsmodels.api as sm\n",
        "import statsmodels.tsa.api as smt\n",
        "from sklearn.metrics import r2_score"
      ]
    },
    {
      "cell_type": "code",
      "source": [
        "!pip install sklearn.metrics"
      ],
      "metadata": {
        "colab": {
          "base_uri": "https://localhost:8080/"
        },
        "id": "xopkLt8hfDfL",
        "outputId": "27da93de-d0cf-4a1d-cbae-4a3ef4aaf0eb"
      },
      "execution_count": 2,
      "outputs": [
        {
          "output_type": "stream",
          "name": "stdout",
          "text": [
            "Looking in indexes: https://pypi.org/simple, https://us-python.pkg.dev/colab-wheels/public/simple/\n",
            "\u001b[31mERROR: Could not find a version that satisfies the requirement sklearn.metrics (from versions: none)\u001b[0m\u001b[31m\n",
            "\u001b[0m\u001b[31mERROR: No matching distribution found for sklearn.metrics\u001b[0m\u001b[31m\n",
            "\u001b[0m"
          ]
        }
      ]
    },
    {
      "cell_type": "code",
      "source": [
        "from sklearn.metrics import mean_squared_error\n",
        "from sklearn.metrics import mean_absolute_error\n",
        "from sklearn.metrics import mean_absolute_percentage_error"
      ],
      "metadata": {
        "id": "Ix-ff6vvb513"
      },
      "execution_count": 3,
      "outputs": []
    },
    {
      "cell_type": "code",
      "source": [
        "!pip install pmdarima"
      ],
      "metadata": {
        "colab": {
          "base_uri": "https://localhost:8080/"
        },
        "id": "-xymYfoaTPiW",
        "outputId": "1ca2a0ba-375c-4b35-a4d5-c3f0f1f7ee94"
      },
      "execution_count": 4,
      "outputs": [
        {
          "output_type": "stream",
          "name": "stdout",
          "text": [
            "Looking in indexes: https://pypi.org/simple, https://us-python.pkg.dev/colab-wheels/public/simple/\n",
            "Collecting pmdarima\n",
            "  Downloading pmdarima-2.0.3-cp39-cp39-manylinux_2_17_x86_64.manylinux2014_x86_64.manylinux_2_28_x86_64.whl (1.9 MB)\n",
            "\u001b[2K     \u001b[90m━━━━━━━━━━━━━━━━━━━━━━━━━━━━━━━━━━━━━━━━\u001b[0m \u001b[32m1.9/1.9 MB\u001b[0m \u001b[31m31.1 MB/s\u001b[0m eta \u001b[36m0:00:00\u001b[0m\n",
            "\u001b[?25hRequirement already satisfied: statsmodels>=0.13.2 in /usr/local/lib/python3.9/dist-packages (from pmdarima) (0.13.5)\n",
            "Requirement already satisfied: urllib3 in /usr/local/lib/python3.9/dist-packages (from pmdarima) (1.26.15)\n",
            "Requirement already satisfied: joblib>=0.11 in /usr/local/lib/python3.9/dist-packages (from pmdarima) (1.1.1)\n",
            "Requirement already satisfied: numpy>=1.21.2 in /usr/local/lib/python3.9/dist-packages (from pmdarima) (1.22.4)\n",
            "Requirement already satisfied: Cython!=0.29.18,!=0.29.31,>=0.29 in /usr/local/lib/python3.9/dist-packages (from pmdarima) (0.29.33)\n",
            "Requirement already satisfied: scikit-learn>=0.22 in /usr/local/lib/python3.9/dist-packages (from pmdarima) (1.2.2)\n",
            "Requirement already satisfied: pandas>=0.19 in /usr/local/lib/python3.9/dist-packages (from pmdarima) (1.4.4)\n",
            "Requirement already satisfied: scipy>=1.3.2 in /usr/local/lib/python3.9/dist-packages (from pmdarima) (1.10.1)\n",
            "Requirement already satisfied: setuptools!=50.0.0,>=38.6.0 in /usr/local/lib/python3.9/dist-packages (from pmdarima) (67.6.0)\n",
            "Requirement already satisfied: pytz>=2020.1 in /usr/local/lib/python3.9/dist-packages (from pandas>=0.19->pmdarima) (2022.7.1)\n",
            "Requirement already satisfied: python-dateutil>=2.8.1 in /usr/local/lib/python3.9/dist-packages (from pandas>=0.19->pmdarima) (2.8.2)\n",
            "Requirement already satisfied: threadpoolctl>=2.0.0 in /usr/local/lib/python3.9/dist-packages (from scikit-learn>=0.22->pmdarima) (3.1.0)\n",
            "Requirement already satisfied: packaging>=21.3 in /usr/local/lib/python3.9/dist-packages (from statsmodels>=0.13.2->pmdarima) (23.0)\n",
            "Requirement already satisfied: patsy>=0.5.2 in /usr/local/lib/python3.9/dist-packages (from statsmodels>=0.13.2->pmdarima) (0.5.3)\n",
            "Requirement already satisfied: six in /usr/local/lib/python3.9/dist-packages (from patsy>=0.5.2->statsmodels>=0.13.2->pmdarima) (1.16.0)\n",
            "Installing collected packages: pmdarima\n",
            "Successfully installed pmdarima-2.0.3\n"
          ]
        }
      ]
    },
    {
      "cell_type": "code",
      "source": [
        "from statsmodels.tsa.statespace.sarimax import SARIMAX\n",
        "from pmdarima.arima import auto_arima"
      ],
      "metadata": {
        "id": "YhDVjBm9SxpT"
      },
      "execution_count": 5,
      "outputs": []
    },
    {
      "cell_type": "code",
      "source": [
        "df = pd.read_csv(\"/content/all_stocks_5yr.csv\")"
      ],
      "metadata": {
        "id": "GdTQe1rwgfrK"
      },
      "execution_count": 6,
      "outputs": []
    },
    {
      "cell_type": "code",
      "source": [
        "df.head()"
      ],
      "metadata": {
        "colab": {
          "base_uri": "https://localhost:8080/",
          "height": 206
        },
        "id": "kn85bdsimuAf",
        "outputId": "b49563f7-3dba-4572-b6d7-7eeadedb8f93"
      },
      "execution_count": null,
      "outputs": [
        {
          "output_type": "execute_result",
          "data": {
            "text/plain": [
              "         Date  Open  High   Low  Close     Volume Name\n",
              "0  2012-08-13 92.29 92.59 91.74  92.40 2075391.00  MMM\n",
              "1  2012-08-14 92.36 92.50 92.01  92.30 1843476.00  MMM\n",
              "2  2012-08-15 92.00 92.74 91.94  92.54 1983395.00  MMM\n",
              "3  2012-08-16 92.75 93.87 92.21  93.74 3395145.00  MMM\n",
              "4  2012-08-17 93.93 94.30 93.59  94.24 3069513.00  MMM"
            ],
            "text/html": [
              "\n",
              "  <div id=\"df-91c375ce-93e6-4c10-b4a8-4c03d9962d40\">\n",
              "    <div class=\"colab-df-container\">\n",
              "      <div>\n",
              "<style scoped>\n",
              "    .dataframe tbody tr th:only-of-type {\n",
              "        vertical-align: middle;\n",
              "    }\n",
              "\n",
              "    .dataframe tbody tr th {\n",
              "        vertical-align: top;\n",
              "    }\n",
              "\n",
              "    .dataframe thead th {\n",
              "        text-align: right;\n",
              "    }\n",
              "</style>\n",
              "<table border=\"1\" class=\"dataframe\">\n",
              "  <thead>\n",
              "    <tr style=\"text-align: right;\">\n",
              "      <th></th>\n",
              "      <th>Date</th>\n",
              "      <th>Open</th>\n",
              "      <th>High</th>\n",
              "      <th>Low</th>\n",
              "      <th>Close</th>\n",
              "      <th>Volume</th>\n",
              "      <th>Name</th>\n",
              "    </tr>\n",
              "  </thead>\n",
              "  <tbody>\n",
              "    <tr>\n",
              "      <th>0</th>\n",
              "      <td>2012-08-13</td>\n",
              "      <td>92.29</td>\n",
              "      <td>92.59</td>\n",
              "      <td>91.74</td>\n",
              "      <td>92.40</td>\n",
              "      <td>2075391.00</td>\n",
              "      <td>MMM</td>\n",
              "    </tr>\n",
              "    <tr>\n",
              "      <th>1</th>\n",
              "      <td>2012-08-14</td>\n",
              "      <td>92.36</td>\n",
              "      <td>92.50</td>\n",
              "      <td>92.01</td>\n",
              "      <td>92.30</td>\n",
              "      <td>1843476.00</td>\n",
              "      <td>MMM</td>\n",
              "    </tr>\n",
              "    <tr>\n",
              "      <th>2</th>\n",
              "      <td>2012-08-15</td>\n",
              "      <td>92.00</td>\n",
              "      <td>92.74</td>\n",
              "      <td>91.94</td>\n",
              "      <td>92.54</td>\n",
              "      <td>1983395.00</td>\n",
              "      <td>MMM</td>\n",
              "    </tr>\n",
              "    <tr>\n",
              "      <th>3</th>\n",
              "      <td>2012-08-16</td>\n",
              "      <td>92.75</td>\n",
              "      <td>93.87</td>\n",
              "      <td>92.21</td>\n",
              "      <td>93.74</td>\n",
              "      <td>3395145.00</td>\n",
              "      <td>MMM</td>\n",
              "    </tr>\n",
              "    <tr>\n",
              "      <th>4</th>\n",
              "      <td>2012-08-17</td>\n",
              "      <td>93.93</td>\n",
              "      <td>94.30</td>\n",
              "      <td>93.59</td>\n",
              "      <td>94.24</td>\n",
              "      <td>3069513.00</td>\n",
              "      <td>MMM</td>\n",
              "    </tr>\n",
              "  </tbody>\n",
              "</table>\n",
              "</div>\n",
              "      <button class=\"colab-df-convert\" onclick=\"convertToInteractive('df-91c375ce-93e6-4c10-b4a8-4c03d9962d40')\"\n",
              "              title=\"Convert this dataframe to an interactive table.\"\n",
              "              style=\"display:none;\">\n",
              "        \n",
              "  <svg xmlns=\"http://www.w3.org/2000/svg\" height=\"24px\"viewBox=\"0 0 24 24\"\n",
              "       width=\"24px\">\n",
              "    <path d=\"M0 0h24v24H0V0z\" fill=\"none\"/>\n",
              "    <path d=\"M18.56 5.44l.94 2.06.94-2.06 2.06-.94-2.06-.94-.94-2.06-.94 2.06-2.06.94zm-11 1L8.5 8.5l.94-2.06 2.06-.94-2.06-.94L8.5 2.5l-.94 2.06-2.06.94zm10 10l.94 2.06.94-2.06 2.06-.94-2.06-.94-.94-2.06-.94 2.06-2.06.94z\"/><path d=\"M17.41 7.96l-1.37-1.37c-.4-.4-.92-.59-1.43-.59-.52 0-1.04.2-1.43.59L10.3 9.45l-7.72 7.72c-.78.78-.78 2.05 0 2.83L4 21.41c.39.39.9.59 1.41.59.51 0 1.02-.2 1.41-.59l7.78-7.78 2.81-2.81c.8-.78.8-2.07 0-2.86zM5.41 20L4 18.59l7.72-7.72 1.47 1.35L5.41 20z\"/>\n",
              "  </svg>\n",
              "      </button>\n",
              "      \n",
              "  <style>\n",
              "    .colab-df-container {\n",
              "      display:flex;\n",
              "      flex-wrap:wrap;\n",
              "      gap: 12px;\n",
              "    }\n",
              "\n",
              "    .colab-df-convert {\n",
              "      background-color: #E8F0FE;\n",
              "      border: none;\n",
              "      border-radius: 50%;\n",
              "      cursor: pointer;\n",
              "      display: none;\n",
              "      fill: #1967D2;\n",
              "      height: 32px;\n",
              "      padding: 0 0 0 0;\n",
              "      width: 32px;\n",
              "    }\n",
              "\n",
              "    .colab-df-convert:hover {\n",
              "      background-color: #E2EBFA;\n",
              "      box-shadow: 0px 1px 2px rgba(60, 64, 67, 0.3), 0px 1px 3px 1px rgba(60, 64, 67, 0.15);\n",
              "      fill: #174EA6;\n",
              "    }\n",
              "\n",
              "    [theme=dark] .colab-df-convert {\n",
              "      background-color: #3B4455;\n",
              "      fill: #D2E3FC;\n",
              "    }\n",
              "\n",
              "    [theme=dark] .colab-df-convert:hover {\n",
              "      background-color: #434B5C;\n",
              "      box-shadow: 0px 1px 3px 1px rgba(0, 0, 0, 0.15);\n",
              "      filter: drop-shadow(0px 1px 2px rgba(0, 0, 0, 0.3));\n",
              "      fill: #FFFFFF;\n",
              "    }\n",
              "  </style>\n",
              "\n",
              "      <script>\n",
              "        const buttonEl =\n",
              "          document.querySelector('#df-91c375ce-93e6-4c10-b4a8-4c03d9962d40 button.colab-df-convert');\n",
              "        buttonEl.style.display =\n",
              "          google.colab.kernel.accessAllowed ? 'block' : 'none';\n",
              "\n",
              "        async function convertToInteractive(key) {\n",
              "          const element = document.querySelector('#df-91c375ce-93e6-4c10-b4a8-4c03d9962d40');\n",
              "          const dataTable =\n",
              "            await google.colab.kernel.invokeFunction('convertToInteractive',\n",
              "                                                     [key], {});\n",
              "          if (!dataTable) return;\n",
              "\n",
              "          const docLinkHtml = 'Like what you see? Visit the ' +\n",
              "            '<a target=\"_blank\" href=https://colab.research.google.com/notebooks/data_table.ipynb>data table notebook</a>'\n",
              "            + ' to learn more about interactive tables.';\n",
              "          element.innerHTML = '';\n",
              "          dataTable['output_type'] = 'display_data';\n",
              "          await google.colab.output.renderOutput(dataTable, element);\n",
              "          const docLink = document.createElement('div');\n",
              "          docLink.innerHTML = docLinkHtml;\n",
              "          element.appendChild(docLink);\n",
              "        }\n",
              "      </script>\n",
              "    </div>\n",
              "  </div>\n",
              "  "
            ]
          },
          "metadata": {},
          "execution_count": 7
        }
      ]
    },
    {
      "cell_type": "code",
      "source": [
        "df.info() #날짜, 시가, 고가, 저가, 종가, 거래량 , 종류 "
      ],
      "metadata": {
        "colab": {
          "base_uri": "https://localhost:8080/"
        },
        "id": "37K3H7ROggBG",
        "outputId": "cec75ac7-3788-4d87-f9cb-ced86a0caf71"
      },
      "execution_count": null,
      "outputs": [
        {
          "output_type": "stream",
          "name": "stdout",
          "text": [
            "<class 'pandas.core.frame.DataFrame'>\n",
            "RangeIndex: 606801 entries, 0 to 606800\n",
            "Data columns (total 7 columns):\n",
            " #   Column  Non-Null Count   Dtype  \n",
            "---  ------  --------------   -----  \n",
            " 0   Date    606801 non-null  object \n",
            " 1   Open    606417 non-null  float64\n",
            " 2   High    606593 non-null  float64\n",
            " 3   Low     606574 non-null  float64\n",
            " 4   Close   606801 non-null  float64\n",
            " 5   Volume  606395 non-null  float64\n",
            " 6   Name    606801 non-null  object \n",
            "dtypes: float64(5), object(2)\n",
            "memory usage: 32.4+ MB\n"
          ]
        }
      ]
    },
    {
      "cell_type": "code",
      "source": [
        "df['Name'].value_counts() #총 88개의 종류 "
      ],
      "metadata": {
        "colab": {
          "base_uri": "https://localhost:8080/"
        },
        "id": "RnrOV4b9Hup8",
        "outputId": "df69c4a2-4bfa-4065-8032-6ea7c4c946e8"
      },
      "execution_count": null,
      "outputs": [
        {
          "output_type": "execute_result",
          "data": {
            "text/plain": [
              "MMM     1258\n",
              "MCHP    1258\n",
              "MGM     1258\n",
              "MTD     1258\n",
              "MET     1258\n",
              "        ... \n",
              "EVHC     174\n",
              "FTI      145\n",
              "DXC      102\n",
              "BHGE      28\n",
              "BHF       20\n",
              "Name: Name, Length: 503, dtype: int64"
            ]
          },
          "metadata": {},
          "execution_count": 9
        }
      ]
    },
    {
      "cell_type": "code",
      "source": [
        "df = df[df['Name'] == 'MMM'] #NAME = MM인 종목만 사용\n",
        "                              #1258개의 dataset"
      ],
      "metadata": {
        "id": "Ysk6OuGvIAQg"
      },
      "execution_count": 7,
      "outputs": []
    },
    {
      "cell_type": "code",
      "source": [
        "df = df[500:] #최근 데이터만 반영하기 위하여 dataset 줄임"
      ],
      "metadata": {
        "id": "LtUfZCptIty4"
      },
      "execution_count": 8,
      "outputs": []
    },
    {
      "cell_type": "code",
      "source": [
        "df.shape #758개의 데이터셋 사용"
      ],
      "metadata": {
        "colab": {
          "base_uri": "https://localhost:8080/"
        },
        "id": "r8tkYGO3ISVd",
        "outputId": "001117fd-24c1-4905-8e42-811ca27d3d38"
      },
      "execution_count": null,
      "outputs": [
        {
          "output_type": "execute_result",
          "data": {
            "text/plain": [
              "(758, 7)"
            ]
          },
          "metadata": {},
          "execution_count": 12
        }
      ]
    },
    {
      "cell_type": "code",
      "source": [
        "df.head()"
      ],
      "metadata": {
        "colab": {
          "base_uri": "https://localhost:8080/",
          "height": 206
        },
        "id": "uF8dHqktpiJN",
        "outputId": "fba7fddd-4762-458e-dd63-5cc8494fa235"
      },
      "execution_count": null,
      "outputs": [
        {
          "output_type": "execute_result",
          "data": {
            "text/plain": [
              "           Date   Open   High    Low  Close     Volume Name\n",
              "500  2014-08-11 140.93 141.50 140.54 140.58 1919082.00  MMM\n",
              "501  2014-08-12 140.62 141.21 140.43 140.88 2176055.00  MMM\n",
              "502  2014-08-13 141.35 141.83 140.92 141.80 3104251.00  MMM\n",
              "503  2014-08-14 142.00 142.39 141.85 142.34 1586871.00  MMM\n",
              "504  2014-08-15 142.81 142.98 141.02 141.92 1960967.00  MMM"
            ],
            "text/html": [
              "\n",
              "  <div id=\"df-e1860c4e-e631-4f9b-8d9f-fc9c47243604\">\n",
              "    <div class=\"colab-df-container\">\n",
              "      <div>\n",
              "<style scoped>\n",
              "    .dataframe tbody tr th:only-of-type {\n",
              "        vertical-align: middle;\n",
              "    }\n",
              "\n",
              "    .dataframe tbody tr th {\n",
              "        vertical-align: top;\n",
              "    }\n",
              "\n",
              "    .dataframe thead th {\n",
              "        text-align: right;\n",
              "    }\n",
              "</style>\n",
              "<table border=\"1\" class=\"dataframe\">\n",
              "  <thead>\n",
              "    <tr style=\"text-align: right;\">\n",
              "      <th></th>\n",
              "      <th>Date</th>\n",
              "      <th>Open</th>\n",
              "      <th>High</th>\n",
              "      <th>Low</th>\n",
              "      <th>Close</th>\n",
              "      <th>Volume</th>\n",
              "      <th>Name</th>\n",
              "    </tr>\n",
              "  </thead>\n",
              "  <tbody>\n",
              "    <tr>\n",
              "      <th>500</th>\n",
              "      <td>2014-08-11</td>\n",
              "      <td>140.93</td>\n",
              "      <td>141.50</td>\n",
              "      <td>140.54</td>\n",
              "      <td>140.58</td>\n",
              "      <td>1919082.00</td>\n",
              "      <td>MMM</td>\n",
              "    </tr>\n",
              "    <tr>\n",
              "      <th>501</th>\n",
              "      <td>2014-08-12</td>\n",
              "      <td>140.62</td>\n",
              "      <td>141.21</td>\n",
              "      <td>140.43</td>\n",
              "      <td>140.88</td>\n",
              "      <td>2176055.00</td>\n",
              "      <td>MMM</td>\n",
              "    </tr>\n",
              "    <tr>\n",
              "      <th>502</th>\n",
              "      <td>2014-08-13</td>\n",
              "      <td>141.35</td>\n",
              "      <td>141.83</td>\n",
              "      <td>140.92</td>\n",
              "      <td>141.80</td>\n",
              "      <td>3104251.00</td>\n",
              "      <td>MMM</td>\n",
              "    </tr>\n",
              "    <tr>\n",
              "      <th>503</th>\n",
              "      <td>2014-08-14</td>\n",
              "      <td>142.00</td>\n",
              "      <td>142.39</td>\n",
              "      <td>141.85</td>\n",
              "      <td>142.34</td>\n",
              "      <td>1586871.00</td>\n",
              "      <td>MMM</td>\n",
              "    </tr>\n",
              "    <tr>\n",
              "      <th>504</th>\n",
              "      <td>2014-08-15</td>\n",
              "      <td>142.81</td>\n",
              "      <td>142.98</td>\n",
              "      <td>141.02</td>\n",
              "      <td>141.92</td>\n",
              "      <td>1960967.00</td>\n",
              "      <td>MMM</td>\n",
              "    </tr>\n",
              "  </tbody>\n",
              "</table>\n",
              "</div>\n",
              "      <button class=\"colab-df-convert\" onclick=\"convertToInteractive('df-e1860c4e-e631-4f9b-8d9f-fc9c47243604')\"\n",
              "              title=\"Convert this dataframe to an interactive table.\"\n",
              "              style=\"display:none;\">\n",
              "        \n",
              "  <svg xmlns=\"http://www.w3.org/2000/svg\" height=\"24px\"viewBox=\"0 0 24 24\"\n",
              "       width=\"24px\">\n",
              "    <path d=\"M0 0h24v24H0V0z\" fill=\"none\"/>\n",
              "    <path d=\"M18.56 5.44l.94 2.06.94-2.06 2.06-.94-2.06-.94-.94-2.06-.94 2.06-2.06.94zm-11 1L8.5 8.5l.94-2.06 2.06-.94-2.06-.94L8.5 2.5l-.94 2.06-2.06.94zm10 10l.94 2.06.94-2.06 2.06-.94-2.06-.94-.94-2.06-.94 2.06-2.06.94z\"/><path d=\"M17.41 7.96l-1.37-1.37c-.4-.4-.92-.59-1.43-.59-.52 0-1.04.2-1.43.59L10.3 9.45l-7.72 7.72c-.78.78-.78 2.05 0 2.83L4 21.41c.39.39.9.59 1.41.59.51 0 1.02-.2 1.41-.59l7.78-7.78 2.81-2.81c.8-.78.8-2.07 0-2.86zM5.41 20L4 18.59l7.72-7.72 1.47 1.35L5.41 20z\"/>\n",
              "  </svg>\n",
              "      </button>\n",
              "      \n",
              "  <style>\n",
              "    .colab-df-container {\n",
              "      display:flex;\n",
              "      flex-wrap:wrap;\n",
              "      gap: 12px;\n",
              "    }\n",
              "\n",
              "    .colab-df-convert {\n",
              "      background-color: #E8F0FE;\n",
              "      border: none;\n",
              "      border-radius: 50%;\n",
              "      cursor: pointer;\n",
              "      display: none;\n",
              "      fill: #1967D2;\n",
              "      height: 32px;\n",
              "      padding: 0 0 0 0;\n",
              "      width: 32px;\n",
              "    }\n",
              "\n",
              "    .colab-df-convert:hover {\n",
              "      background-color: #E2EBFA;\n",
              "      box-shadow: 0px 1px 2px rgba(60, 64, 67, 0.3), 0px 1px 3px 1px rgba(60, 64, 67, 0.15);\n",
              "      fill: #174EA6;\n",
              "    }\n",
              "\n",
              "    [theme=dark] .colab-df-convert {\n",
              "      background-color: #3B4455;\n",
              "      fill: #D2E3FC;\n",
              "    }\n",
              "\n",
              "    [theme=dark] .colab-df-convert:hover {\n",
              "      background-color: #434B5C;\n",
              "      box-shadow: 0px 1px 3px 1px rgba(0, 0, 0, 0.15);\n",
              "      filter: drop-shadow(0px 1px 2px rgba(0, 0, 0, 0.3));\n",
              "      fill: #FFFFFF;\n",
              "    }\n",
              "  </style>\n",
              "\n",
              "      <script>\n",
              "        const buttonEl =\n",
              "          document.querySelector('#df-e1860c4e-e631-4f9b-8d9f-fc9c47243604 button.colab-df-convert');\n",
              "        buttonEl.style.display =\n",
              "          google.colab.kernel.accessAllowed ? 'block' : 'none';\n",
              "\n",
              "        async function convertToInteractive(key) {\n",
              "          const element = document.querySelector('#df-e1860c4e-e631-4f9b-8d9f-fc9c47243604');\n",
              "          const dataTable =\n",
              "            await google.colab.kernel.invokeFunction('convertToInteractive',\n",
              "                                                     [key], {});\n",
              "          if (!dataTable) return;\n",
              "\n",
              "          const docLinkHtml = 'Like what you see? Visit the ' +\n",
              "            '<a target=\"_blank\" href=https://colab.research.google.com/notebooks/data_table.ipynb>data table notebook</a>'\n",
              "            + ' to learn more about interactive tables.';\n",
              "          element.innerHTML = '';\n",
              "          dataTable['output_type'] = 'display_data';\n",
              "          await google.colab.output.renderOutput(dataTable, element);\n",
              "          const docLink = document.createElement('div');\n",
              "          docLink.innerHTML = docLinkHtml;\n",
              "          element.appendChild(docLink);\n",
              "        }\n",
              "      </script>\n",
              "    </div>\n",
              "  </div>\n",
              "  "
            ]
          },
          "metadata": {},
          "execution_count": 13
        }
      ]
    },
    {
      "cell_type": "code",
      "source": [
        "df.isnull().sum() #Close(종가)만 사용할 것이기 때문에 결측치 제거 x "
      ],
      "metadata": {
        "colab": {
          "base_uri": "https://localhost:8080/"
        },
        "id": "tYBii1s5pkgE",
        "outputId": "2a402138-117c-429e-8961-de6a1c82e60c"
      },
      "execution_count": null,
      "outputs": [
        {
          "output_type": "execute_result",
          "data": {
            "text/plain": [
              "Date      0\n",
              "Open      1\n",
              "High      0\n",
              "Low       1\n",
              "Close     0\n",
              "Volume    0\n",
              "Name      0\n",
              "dtype: int64"
            ]
          },
          "metadata": {},
          "execution_count": 16
        }
      ]
    },
    {
      "cell_type": "code",
      "source": [
        "df.info()"
      ],
      "metadata": {
        "colab": {
          "base_uri": "https://localhost:8080/"
        },
        "id": "dAXeOqNRpsZv",
        "outputId": "d659c8e3-d2d3-4946-b2d4-5f6ffabff1ff"
      },
      "execution_count": null,
      "outputs": [
        {
          "output_type": "stream",
          "name": "stdout",
          "text": [
            "<class 'pandas.core.frame.DataFrame'>\n",
            "Int64Index: 758 entries, 500 to 1257\n",
            "Data columns (total 7 columns):\n",
            " #   Column  Non-Null Count  Dtype  \n",
            "---  ------  --------------  -----  \n",
            " 0   Date    758 non-null    object \n",
            " 1   Open    757 non-null    float64\n",
            " 2   High    758 non-null    float64\n",
            " 3   Low     757 non-null    float64\n",
            " 4   Close   758 non-null    float64\n",
            " 5   Volume  758 non-null    float64\n",
            " 6   Name    758 non-null    object \n",
            "dtypes: float64(5), object(2)\n",
            "memory usage: 47.4+ KB\n"
          ]
        }
      ]
    },
    {
      "cell_type": "code",
      "source": [
        "#Date의 자료형을 object → datetime\n",
        "df['Date'] = pd.to_datetime(df.Date)\n",
        "\n",
        "df = df.set_index(df.Date)\n",
        "df.drop('Date', axis = 1, inplace = True)"
      ],
      "metadata": {
        "id": "1CZ9bwL5glut"
      },
      "execution_count": 9,
      "outputs": []
    },
    {
      "cell_type": "markdown",
      "source": [
        "## 1. Check for Stationarity of Time Series"
      ],
      "metadata": {
        "id": "gqGGkJHEU4th"
      }
    },
    {
      "cell_type": "code",
      "source": [
        "ts = df['Close']\n",
        "ts.head()"
      ],
      "metadata": {
        "colab": {
          "base_uri": "https://localhost:8080/"
        },
        "id": "ZMc8_c61eA2G",
        "outputId": "ad913993-b562-4e94-bcf4-4ff7c36c21ad"
      },
      "execution_count": 10,
      "outputs": [
        {
          "output_type": "execute_result",
          "data": {
            "text/plain": [
              "Date\n",
              "2014-08-11   140.58\n",
              "2014-08-12   140.88\n",
              "2014-08-13   141.80\n",
              "2014-08-14   142.34\n",
              "2014-08-15   141.92\n",
              "Name: Close, dtype: float64"
            ]
          },
          "metadata": {},
          "execution_count": 10
        }
      ]
    },
    {
      "cell_type": "code",
      "source": [
        "plt.figure(figsize=(15,6))\n",
        "plt.plot(range(len(ts)), ts)"
      ],
      "metadata": {
        "colab": {
          "base_uri": "https://localhost:8080/",
          "height": 392
        },
        "id": "vWbRPd8Dgo8E",
        "outputId": "3ff8e9ff-969a-4a82-fcab-4c908ad48b79"
      },
      "execution_count": null,
      "outputs": [
        {
          "output_type": "execute_result",
          "data": {
            "text/plain": [
              "[<matplotlib.lines.Line2D at 0x7f8d79a51760>]"
            ]
          },
          "metadata": {},
          "execution_count": 20
        },
        {
          "output_type": "display_data",
          "data": {
            "text/plain": [
              "<Figure size 1080x432 with 1 Axes>"
            ],
            "image/png": "[encoded data removed]"
          },
          "metadata": {
            "needs_background": "light"
          }
        }
      ]
    },
    {
      "cell_type": "code",
      "source": [
        "decomposition = sm.tsa.seasonal_decompose(df['Close'], model = 'additive', period = 60) #period를 2개월로 잡음. \n",
        "fig = decomposition.plot()\n",
        "fig.set_size_inches(10,10)\n",
        "plt.show()"
      ],
      "metadata": {
        "colab": {
          "base_uri": "https://localhost:8080/",
          "height": 647
        },
        "id": "wUwrfr-HqR1I",
        "outputId": "13cd5796-f40d-4ff2-8fd5-363159778ed3"
      },
      "execution_count": null,
      "outputs": [
        {
          "output_type": "display_data",
          "data": {
            "text/plain": [
              "<Figure size 720x720 with 4 Axes>"
            ],
            "image/png": "[encoded data removed]"
          },
          "metadata": {
            "needs_background": "light"
          }
        }
      ]
    },
    {
      "cell_type": "code",
      "source": [
        "decomposition = sm.tsa.seasonal_decompose(df['Close'], model = 'multiplicative', period = 60) #model = muliplicative #residual이 거의 나타나지 않음 \n",
        "fig = decomposition.plot()\n",
        "fig.set_size_inches(10,10)\n",
        "plt.show()"
      ],
      "metadata": {
        "id": "FKxDqeT6I81C",
        "outputId": "9ae232c4-156d-4df7-c295-45109f5dfa82",
        "colab": {
          "base_uri": "https://localhost:8080/",
          "height": 647
        }
      },
      "execution_count": null,
      "outputs": [
        {
          "output_type": "display_data",
          "data": {
            "text/plain": [
              "<Figure size 720x720 with 4 Axes>"
            ],
            "image/png": "[encoded data removed]"
          },
          "metadata": {
            "needs_background": "light"
          }
        }
      ]
    },
    {
      "cell_type": "code",
      "source": [
        "#train:test = 8:2\n",
        "#test: 152\n",
        "df_train = df[:606] #2014-08-11~2017-01-04\n",
        "df_test = df[606:] #2017-01-05~2017-08-11"
      ],
      "metadata": {
        "id": "Fq0oofKnjKR3"
      },
      "execution_count": 12,
      "outputs": []
    },
    {
      "cell_type": "code",
      "source": [
        "df_train['Close'].describe()"
      ],
      "metadata": {
        "colab": {
          "base_uri": "https://localhost:8080/"
        },
        "id": "x3oduqbMErg7",
        "outputId": "ff17c063-7efd-435f-f6b3-f7d2e6b5103e"
      },
      "execution_count": null,
      "outputs": [
        {
          "output_type": "execute_result",
          "data": {
            "text/plain": [
              "count   606.00\n",
              "mean    160.46\n",
              "std      11.84\n",
              "min     132.90\n",
              "25%     151.48\n",
              "50%     160.60\n",
              "75%     168.68\n",
              "max     181.42\n",
              "Name: Close, dtype: float64"
            ]
          },
          "metadata": {},
          "execution_count": 28
        }
      ]
    },
    {
      "cell_type": "code",
      "source": [
        "df_train"
      ],
      "metadata": {
        "colab": {
          "base_uri": "https://localhost:8080/",
          "height": 455
        },
        "id": "KK_GM0Fhrvog",
        "outputId": "4562c32e-ad3e-4474-8025-3e766de04994"
      },
      "execution_count": null,
      "outputs": [
        {
          "output_type": "execute_result",
          "data": {
            "text/plain": [
              "             Open   High    Low  Close     Volume Name\n",
              "Date                                                  \n",
              "2014-08-11 140.93 141.50 140.54 140.58 1919082.00  MMM\n",
              "2014-08-12 140.62 141.21 140.43 140.88 2176055.00  MMM\n",
              "2014-08-13 141.35 141.83 140.92 141.80 3104251.00  MMM\n",
              "2014-08-14 142.00 142.39 141.85 142.34 1586871.00  MMM\n",
              "2014-08-15 142.81 142.98 141.02 141.92 1960967.00  MMM\n",
              "...           ...    ...    ...    ...        ...  ...\n",
              "2016-12-28 178.88 179.45 178.02 178.08 1287918.00  MMM\n",
              "2016-12-29 178.29 179.14 178.03 178.41 1101983.00  MMM\n",
              "2016-12-30 179.00 179.48 178.28 178.57 1594248.00  MMM\n",
              "2017-01-03 178.83 180.00 177.22 178.05 2510055.00  MMM\n",
              "2017-01-04 178.03 178.90 177.61 178.32 1541985.00  MMM\n",
              "\n",
              "[606 rows x 6 columns]"
            ],
            "text/html": [
              "\n",
              "  <div id=\"df-b9d880d6-600f-4ebb-a64c-72a244b55ef0\">\n",
              "    <div class=\"colab-df-container\">\n",
              "      <div>\n",
              "<style scoped>\n",
              "    .dataframe tbody tr th:only-of-type {\n",
              "        vertical-align: middle;\n",
              "    }\n",
              "\n",
              "    .dataframe tbody tr th {\n",
              "        vertical-align: top;\n",
              "    }\n",
              "\n",
              "    .dataframe thead th {\n",
              "        text-align: right;\n",
              "    }\n",
              "</style>\n",
              "<table border=\"1\" class=\"dataframe\">\n",
              "  <thead>\n",
              "    <tr style=\"text-align: right;\">\n",
              "      <th></th>\n",
              "      <th>Open</th>\n",
              "      <th>High</th>\n",
              "      <th>Low</th>\n",
              "      <th>Close</th>\n",
              "      <th>Volume</th>\n",
              "      <th>Name</th>\n",
              "    </tr>\n",
              "    <tr>\n",
              "      <th>Date</th>\n",
              "      <th></th>\n",
              "      <th></th>\n",
              "      <th></th>\n",
              "      <th></th>\n",
              "      <th></th>\n",
              "      <th></th>\n",
              "    </tr>\n",
              "  </thead>\n",
              "  <tbody>\n",
              "    <tr>\n",
              "      <th>2014-08-11</th>\n",
              "      <td>140.93</td>\n",
              "      <td>141.50</td>\n",
              "      <td>140.54</td>\n",
              "      <td>140.58</td>\n",
              "      <td>1919082.00</td>\n",
              "      <td>MMM</td>\n",
              "    </tr>\n",
              "    <tr>\n",
              "      <th>2014-08-12</th>\n",
              "      <td>140.62</td>\n",
              "      <td>141.21</td>\n",
              "      <td>140.43</td>\n",
              "      <td>140.88</td>\n",
              "      <td>2176055.00</td>\n",
              "      <td>MMM</td>\n",
              "    </tr>\n",
              "    <tr>\n",
              "      <th>2014-08-13</th>\n",
              "      <td>141.35</td>\n",
              "      <td>141.83</td>\n",
              "      <td>140.92</td>\n",
              "      <td>141.80</td>\n",
              "      <td>3104251.00</td>\n",
              "      <td>MMM</td>\n",
              "    </tr>\n",
              "    <tr>\n",
              "      <th>2014-08-14</th>\n",
              "      <td>142.00</td>\n",
              "      <td>142.39</td>\n",
              "      <td>141.85</td>\n",
              "      <td>142.34</td>\n",
              "      <td>1586871.00</td>\n",
              "      <td>MMM</td>\n",
              "    </tr>\n",
              "    <tr>\n",
              "      <th>2014-08-15</th>\n",
              "      <td>142.81</td>\n",
              "      <td>142.98</td>\n",
              "      <td>141.02</td>\n",
              "      <td>141.92</td>\n",
              "      <td>1960967.00</td>\n",
              "      <td>MMM</td>\n",
              "    </tr>\n",
              "    <tr>\n",
              "      <th>...</th>\n",
              "      <td>...</td>\n",
              "      <td>...</td>\n",
              "      <td>...</td>\n",
              "      <td>...</td>\n",
              "      <td>...</td>\n",
              "      <td>...</td>\n",
              "    </tr>\n",
              "    <tr>\n",
              "      <th>2016-12-28</th>\n",
              "      <td>178.88</td>\n",
              "      <td>179.45</td>\n",
              "      <td>178.02</td>\n",
              "      <td>178.08</td>\n",
              "      <td>1287918.00</td>\n",
              "      <td>MMM</td>\n",
              "    </tr>\n",
              "    <tr>\n",
              "      <th>2016-12-29</th>\n",
              "      <td>178.29</td>\n",
              "      <td>179.14</td>\n",
              "      <td>178.03</td>\n",
              "      <td>178.41</td>\n",
              "      <td>1101983.00</td>\n",
              "      <td>MMM</td>\n",
              "    </tr>\n",
              "    <tr>\n",
              "      <th>2016-12-30</th>\n",
              "      <td>179.00</td>\n",
              "      <td>179.48</td>\n",
              "      <td>178.28</td>\n",
              "      <td>178.57</td>\n",
              "      <td>1594248.00</td>\n",
              "      <td>MMM</td>\n",
              "    </tr>\n",
              "    <tr>\n",
              "      <th>2017-01-03</th>\n",
              "      <td>178.83</td>\n",
              "      <td>180.00</td>\n",
              "      <td>177.22</td>\n",
              "      <td>178.05</td>\n",
              "      <td>2510055.00</td>\n",
              "      <td>MMM</td>\n",
              "    </tr>\n",
              "    <tr>\n",
              "      <th>2017-01-04</th>\n",
              "      <td>178.03</td>\n",
              "      <td>178.90</td>\n",
              "      <td>177.61</td>\n",
              "      <td>178.32</td>\n",
              "      <td>1541985.00</td>\n",
              "      <td>MMM</td>\n",
              "    </tr>\n",
              "  </tbody>\n",
              "</table>\n",
              "<p>606 rows × 6 columns</p>\n",
              "</div>\n",
              "      <button class=\"colab-df-convert\" onclick=\"convertToInteractive('df-b9d880d6-600f-4ebb-a64c-72a244b55ef0')\"\n",
              "              title=\"Convert this dataframe to an interactive table.\"\n",
              "              style=\"display:none;\">\n",
              "        \n",
              "  <svg xmlns=\"http://www.w3.org/2000/svg\" height=\"24px\"viewBox=\"0 0 24 24\"\n",
              "       width=\"24px\">\n",
              "    <path d=\"M0 0h24v24H0V0z\" fill=\"none\"/>\n",
              "    <path d=\"M18.56 5.44l.94 2.06.94-2.06 2.06-.94-2.06-.94-.94-2.06-.94 2.06-2.06.94zm-11 1L8.5 8.5l.94-2.06 2.06-.94-2.06-.94L8.5 2.5l-.94 2.06-2.06.94zm10 10l.94 2.06.94-2.06 2.06-.94-2.06-.94-.94-2.06-.94 2.06-2.06.94z\"/><path d=\"M17.41 7.96l-1.37-1.37c-.4-.4-.92-.59-1.43-.59-.52 0-1.04.2-1.43.59L10.3 9.45l-7.72 7.72c-.78.78-.78 2.05 0 2.83L4 21.41c.39.39.9.59 1.41.59.51 0 1.02-.2 1.41-.59l7.78-7.78 2.81-2.81c.8-.78.8-2.07 0-2.86zM5.41 20L4 18.59l7.72-7.72 1.47 1.35L5.41 20z\"/>\n",
              "  </svg>\n",
              "      </button>\n",
              "      \n",
              "  <style>\n",
              "    .colab-df-container {\n",
              "      display:flex;\n",
              "      flex-wrap:wrap;\n",
              "      gap: 12px;\n",
              "    }\n",
              "\n",
              "    .colab-df-convert {\n",
              "      background-color: #E8F0FE;\n",
              "      border: none;\n",
              "      border-radius: 50%;\n",
              "      cursor: pointer;\n",
              "      display: none;\n",
              "      fill: #1967D2;\n",
              "      height: 32px;\n",
              "      padding: 0 0 0 0;\n",
              "      width: 32px;\n",
              "    }\n",
              "\n",
              "    .colab-df-convert:hover {\n",
              "      background-color: #E2EBFA;\n",
              "      box-shadow: 0px 1px 2px rgba(60, 64, 67, 0.3), 0px 1px 3px 1px rgba(60, 64, 67, 0.15);\n",
              "      fill: #174EA6;\n",
              "    }\n",
              "\n",
              "    [theme=dark] .colab-df-convert {\n",
              "      background-color: #3B4455;\n",
              "      fill: #D2E3FC;\n",
              "    }\n",
              "\n",
              "    [theme=dark] .colab-df-convert:hover {\n",
              "      background-color: #434B5C;\n",
              "      box-shadow: 0px 1px 3px 1px rgba(0, 0, 0, 0.15);\n",
              "      filter: drop-shadow(0px 1px 2px rgba(0, 0, 0, 0.3));\n",
              "      fill: #FFFFFF;\n",
              "    }\n",
              "  </style>\n",
              "\n",
              "      <script>\n",
              "        const buttonEl =\n",
              "          document.querySelector('#df-b9d880d6-600f-4ebb-a64c-72a244b55ef0 button.colab-df-convert');\n",
              "        buttonEl.style.display =\n",
              "          google.colab.kernel.accessAllowed ? 'block' : 'none';\n",
              "\n",
              "        async function convertToInteractive(key) {\n",
              "          const element = document.querySelector('#df-b9d880d6-600f-4ebb-a64c-72a244b55ef0');\n",
              "          const dataTable =\n",
              "            await google.colab.kernel.invokeFunction('convertToInteractive',\n",
              "                                                     [key], {});\n",
              "          if (!dataTable) return;\n",
              "\n",
              "          const docLinkHtml = 'Like what you see? Visit the ' +\n",
              "            '<a target=\"_blank\" href=https://colab.research.google.com/notebooks/data_table.ipynb>data table notebook</a>'\n",
              "            + ' to learn more about interactive tables.';\n",
              "          element.innerHTML = '';\n",
              "          dataTable['output_type'] = 'display_data';\n",
              "          await google.colab.output.renderOutput(dataTable, element);\n",
              "          const docLink = document.createElement('div');\n",
              "          docLink.innerHTML = docLinkHtml;\n",
              "          element.appendChild(docLink);\n",
              "        }\n",
              "      </script>\n",
              "    </div>\n",
              "  </div>\n",
              "  "
            ]
          },
          "metadata": {},
          "execution_count": 30
        }
      ]
    },
    {
      "cell_type": "code",
      "source": [
        "df_test"
      ],
      "metadata": {
        "colab": {
          "base_uri": "https://localhost:8080/",
          "height": 455
        },
        "id": "e2-X-kKY_b2U",
        "outputId": "4fcddfd9-aa57-45e5-fd39-4706306a92c2"
      },
      "execution_count": null,
      "outputs": [
        {
          "output_type": "execute_result",
          "data": {
            "text/plain": [
              "             Open   High    Low  Close     Volume Name\n",
              "Date                                                  \n",
              "2017-01-05 178.26 179.14 176.89 177.71 1447848.00  MMM\n",
              "2017-01-06 177.29 178.60 175.80 178.23 1625049.00  MMM\n",
              "2017-01-09 178.37 178.38 177.20 177.27 1622625.00  MMM\n",
              "2017-01-10 177.36 177.49 176.31 176.58 2030149.00  MMM\n",
              "2017-01-11 176.63 178.45 176.39 177.89 1579593.00  MMM\n",
              "...           ...    ...    ...    ...        ...  ...\n",
              "2017-08-07 207.90 208.40 206.68 207.44 1172563.00  MMM\n",
              "2017-08-08 206.83 207.89 205.69 206.43 1856282.00  MMM\n",
              "2017-08-09 206.69 207.91 205.59 206.48 1622213.00  MMM\n",
              "2017-08-10 205.62 207.16 205.18 206.23 1571545.00  MMM\n",
              "2017-08-11 206.85 206.85 205.63 205.98 1452811.00  MMM\n",
              "\n",
              "[152 rows x 6 columns]"
            ],
            "text/html": [
              "\n",
              "  <div id=\"df-ea5bfbb9-6ab3-46c2-bff9-eee46060d676\">\n",
              "    <div class=\"colab-df-container\">\n",
              "      <div>\n",
              "<style scoped>\n",
              "    .dataframe tbody tr th:only-of-type {\n",
              "        vertical-align: middle;\n",
              "    }\n",
              "\n",
              "    .dataframe tbody tr th {\n",
              "        vertical-align: top;\n",
              "    }\n",
              "\n",
              "    .dataframe thead th {\n",
              "        text-align: right;\n",
              "    }\n",
              "</style>\n",
              "<table border=\"1\" class=\"dataframe\">\n",
              "  <thead>\n",
              "    <tr style=\"text-align: right;\">\n",
              "      <th></th>\n",
              "      <th>Open</th>\n",
              "      <th>High</th>\n",
              "      <th>Low</th>\n",
              "      <th>Close</th>\n",
              "      <th>Volume</th>\n",
              "      <th>Name</th>\n",
              "    </tr>\n",
              "    <tr>\n",
              "      <th>Date</th>\n",
              "      <th></th>\n",
              "      <th></th>\n",
              "      <th></th>\n",
              "      <th></th>\n",
              "      <th></th>\n",
              "      <th></th>\n",
              "    </tr>\n",
              "  </thead>\n",
              "  <tbody>\n",
              "    <tr>\n",
              "      <th>2017-01-05</th>\n",
              "      <td>178.26</td>\n",
              "      <td>179.14</td>\n",
              "      <td>176.89</td>\n",
              "      <td>177.71</td>\n",
              "      <td>1447848.00</td>\n",
              "      <td>MMM</td>\n",
              "    </tr>\n",
              "    <tr>\n",
              "      <th>2017-01-06</th>\n",
              "      <td>177.29</td>\n",
              "      <td>178.60</td>\n",
              "      <td>175.80</td>\n",
              "      <td>178.23</td>\n",
              "      <td>1625049.00</td>\n",
              "      <td>MMM</td>\n",
              "    </tr>\n",
              "    <tr>\n",
              "      <th>2017-01-09</th>\n",
              "      <td>178.37</td>\n",
              "      <td>178.38</td>\n",
              "      <td>177.20</td>\n",
              "      <td>177.27</td>\n",
              "      <td>1622625.00</td>\n",
              "      <td>MMM</td>\n",
              "    </tr>\n",
              "    <tr>\n",
              "      <th>2017-01-10</th>\n",
              "      <td>177.36</td>\n",
              "      <td>177.49</td>\n",
              "      <td>176.31</td>\n",
              "      <td>176.58</td>\n",
              "      <td>2030149.00</td>\n",
              "      <td>MMM</td>\n",
              "    </tr>\n",
              "    <tr>\n",
              "      <th>2017-01-11</th>\n",
              "      <td>176.63</td>\n",
              "      <td>178.45</td>\n",
              "      <td>176.39</td>\n",
              "      <td>177.89</td>\n",
              "      <td>1579593.00</td>\n",
              "      <td>MMM</td>\n",
              "    </tr>\n",
              "    <tr>\n",
              "      <th>...</th>\n",
              "      <td>...</td>\n",
              "      <td>...</td>\n",
              "      <td>...</td>\n",
              "      <td>...</td>\n",
              "      <td>...</td>\n",
              "      <td>...</td>\n",
              "    </tr>\n",
              "    <tr>\n",
              "      <th>2017-08-07</th>\n",
              "      <td>207.90</td>\n",
              "      <td>208.40</td>\n",
              "      <td>206.68</td>\n",
              "      <td>207.44</td>\n",
              "      <td>1172563.00</td>\n",
              "      <td>MMM</td>\n",
              "    </tr>\n",
              "    <tr>\n",
              "      <th>2017-08-08</th>\n",
              "      <td>206.83</td>\n",
              "      <td>207.89</td>\n",
              "      <td>205.69</td>\n",
              "      <td>206.43</td>\n",
              "      <td>1856282.00</td>\n",
              "      <td>MMM</td>\n",
              "    </tr>\n",
              "    <tr>\n",
              "      <th>2017-08-09</th>\n",
              "      <td>206.69</td>\n",
              "      <td>207.91</td>\n",
              "      <td>205.59</td>\n",
              "      <td>206.48</td>\n",
              "      <td>1622213.00</td>\n",
              "      <td>MMM</td>\n",
              "    </tr>\n",
              "    <tr>\n",
              "      <th>2017-08-10</th>\n",
              "      <td>205.62</td>\n",
              "      <td>207.16</td>\n",
              "      <td>205.18</td>\n",
              "      <td>206.23</td>\n",
              "      <td>1571545.00</td>\n",
              "      <td>MMM</td>\n",
              "    </tr>\n",
              "    <tr>\n",
              "      <th>2017-08-11</th>\n",
              "      <td>206.85</td>\n",
              "      <td>206.85</td>\n",
              "      <td>205.63</td>\n",
              "      <td>205.98</td>\n",
              "      <td>1452811.00</td>\n",
              "      <td>MMM</td>\n",
              "    </tr>\n",
              "  </tbody>\n",
              "</table>\n",
              "<p>152 rows × 6 columns</p>\n",
              "</div>\n",
              "      <button class=\"colab-df-convert\" onclick=\"convertToInteractive('df-ea5bfbb9-6ab3-46c2-bff9-eee46060d676')\"\n",
              "              title=\"Convert this dataframe to an interactive table.\"\n",
              "              style=\"display:none;\">\n",
              "        \n",
              "  <svg xmlns=\"http://www.w3.org/2000/svg\" height=\"24px\"viewBox=\"0 0 24 24\"\n",
              "       width=\"24px\">\n",
              "    <path d=\"M0 0h24v24H0V0z\" fill=\"none\"/>\n",
              "    <path d=\"M18.56 5.44l.94 2.06.94-2.06 2.06-.94-2.06-.94-.94-2.06-.94 2.06-2.06.94zm-11 1L8.5 8.5l.94-2.06 2.06-.94-2.06-.94L8.5 2.5l-.94 2.06-2.06.94zm10 10l.94 2.06.94-2.06 2.06-.94-2.06-.94-.94-2.06-.94 2.06-2.06.94z\"/><path d=\"M17.41 7.96l-1.37-1.37c-.4-.4-.92-.59-1.43-.59-.52 0-1.04.2-1.43.59L10.3 9.45l-7.72 7.72c-.78.78-.78 2.05 0 2.83L4 21.41c.39.39.9.59 1.41.59.51 0 1.02-.2 1.41-.59l7.78-7.78 2.81-2.81c.8-.78.8-2.07 0-2.86zM5.41 20L4 18.59l7.72-7.72 1.47 1.35L5.41 20z\"/>\n",
              "  </svg>\n",
              "      </button>\n",
              "      \n",
              "  <style>\n",
              "    .colab-df-container {\n",
              "      display:flex;\n",
              "      flex-wrap:wrap;\n",
              "      gap: 12px;\n",
              "    }\n",
              "\n",
              "    .colab-df-convert {\n",
              "      background-color: #E8F0FE;\n",
              "      border: none;\n",
              "      border-radius: 50%;\n",
              "      cursor: pointer;\n",
              "      display: none;\n",
              "      fill: #1967D2;\n",
              "      height: 32px;\n",
              "      padding: 0 0 0 0;\n",
              "      width: 32px;\n",
              "    }\n",
              "\n",
              "    .colab-df-convert:hover {\n",
              "      background-color: #E2EBFA;\n",
              "      box-shadow: 0px 1px 2px rgba(60, 64, 67, 0.3), 0px 1px 3px 1px rgba(60, 64, 67, 0.15);\n",
              "      fill: #174EA6;\n",
              "    }\n",
              "\n",
              "    [theme=dark] .colab-df-convert {\n",
              "      background-color: #3B4455;\n",
              "      fill: #D2E3FC;\n",
              "    }\n",
              "\n",
              "    [theme=dark] .colab-df-convert:hover {\n",
              "      background-color: #434B5C;\n",
              "      box-shadow: 0px 1px 3px 1px rgba(0, 0, 0, 0.15);\n",
              "      filter: drop-shadow(0px 1px 2px rgba(0, 0, 0, 0.3));\n",
              "      fill: #FFFFFF;\n",
              "    }\n",
              "  </style>\n",
              "\n",
              "      <script>\n",
              "        const buttonEl =\n",
              "          document.querySelector('#df-ea5bfbb9-6ab3-46c2-bff9-eee46060d676 button.colab-df-convert');\n",
              "        buttonEl.style.display =\n",
              "          google.colab.kernel.accessAllowed ? 'block' : 'none';\n",
              "\n",
              "        async function convertToInteractive(key) {\n",
              "          const element = document.querySelector('#df-ea5bfbb9-6ab3-46c2-bff9-eee46060d676');\n",
              "          const dataTable =\n",
              "            await google.colab.kernel.invokeFunction('convertToInteractive',\n",
              "                                                     [key], {});\n",
              "          if (!dataTable) return;\n",
              "\n",
              "          const docLinkHtml = 'Like what you see? Visit the ' +\n",
              "            '<a target=\"_blank\" href=https://colab.research.google.com/notebooks/data_table.ipynb>data table notebook</a>'\n",
              "            + ' to learn more about interactive tables.';\n",
              "          element.innerHTML = '';\n",
              "          dataTable['output_type'] = 'display_data';\n",
              "          await google.colab.output.renderOutput(dataTable, element);\n",
              "          const docLink = document.createElement('div');\n",
              "          docLink.innerHTML = docLinkHtml;\n",
              "          element.appendChild(docLink);\n",
              "        }\n",
              "      </script>\n",
              "    </div>\n",
              "  </div>\n",
              "  "
            ]
          },
          "metadata": {},
          "execution_count": 29
        }
      ]
    },
    {
      "cell_type": "code",
      "source": [
        "plt.figure(figsize =(12,8))\n",
        "plt.subplot(221)\n",
        "plt.hist(ts)\n",
        "plt.subplot(222)\n",
        "ts.plot(kind = 'kde')"
      ],
      "metadata": {
        "colab": {
          "base_uri": "https://localhost:8080/",
          "height": 264
        },
        "id": "a8pY0xkcgrRc",
        "outputId": "b3c730be-2489-471d-dcc7-76c108f8a736"
      },
      "execution_count": null,
      "outputs": [
        {
          "output_type": "execute_result",
          "data": {
            "text/plain": [
              "<Axes: ylabel='Density'>"
            ]
          },
          "metadata": {},
          "execution_count": 31
        },
        {
          "output_type": "display_data",
          "data": {
            "text/plain": [
              "<Figure size 864x576 with 2 Axes>"
            ],
            "image/png": "[encoded data removed]"
          },
          "metadata": {
            "needs_background": "light"
          }
        }
      ]
    },
    {
      "cell_type": "code",
      "source": [
        "fig, ax = plt.subplots(1,2,figsize=(10,5))\n",
        "sm.graphics.tsa.plot_acf(df_train.Close.values.squeeze(), lags = 30, ax=ax[0] );\n",
        "sm.graphics.tsa.plot_pacf(df_train.Close.values.squeeze(), lags = 30, ax = ax[1]);"
      ],
      "metadata": {
        "colab": {
          "base_uri": "https://localhost:8080/",
          "height": 336
        },
        "id": "zy0ZMpN7OeI3",
        "outputId": "adac831f-f1bd-4f0a-f966-f53833d28b20"
      },
      "execution_count": null,
      "outputs": [
        {
          "output_type": "display_data",
          "data": {
            "text/plain": [
              "<Figure size 720x360 with 2 Axes>"
            ],
            "image/png": "[encoded data removed]"
          },
          "metadata": {
            "needs_background": "light"
          }
        }
      ]
    },
    {
      "cell_type": "markdown",
      "source": [
        "Autocorrelation에서 서서히 감소하고 있기 때문에 Non-stationary한 데이터라고 볼 수 있다. 따라서 Differencing(차분) 과정을 거칠 필요가 있다."
      ],
      "metadata": {
        "id": "CD-cFl_qU8fJ"
      }
    },
    {
      "cell_type": "markdown",
      "source": [
        "## 2. Make the Series Staionary"
      ],
      "metadata": {
        "id": "6IIekwGQa_M7"
      }
    },
    {
      "cell_type": "code",
      "source": [
        "#Differencing\n",
        "\n",
        "diff_df_train = df_train.copy()\n",
        "diff_df_train = diff_df_train['Close'].diff()\n",
        "diff_df_train = diff_df_train.dropna()\n",
        "print('###### Raw Data #####')\n",
        "print(df_train['Close'])\n",
        "print('###### Differenced Data ####')\n",
        "print(diff_df_train)"
      ],
      "metadata": {
        "colab": {
          "base_uri": "https://localhost:8080/"
        },
        "id": "1gDCC7dFPH2D",
        "outputId": "fcb2a5b3-b269-4e98-aa3e-fa7b779a1e76"
      },
      "execution_count": 13,
      "outputs": [
        {
          "output_type": "stream",
          "name": "stdout",
          "text": [
            "###### Raw Data #####\n",
            "Date\n",
            "2014-08-11   140.58\n",
            "2014-08-12   140.88\n",
            "2014-08-13   141.80\n",
            "2014-08-14   142.34\n",
            "2014-08-15   141.92\n",
            "              ...  \n",
            "2016-12-28   178.08\n",
            "2016-12-29   178.41\n",
            "2016-12-30   178.57\n",
            "2017-01-03   178.05\n",
            "2017-01-04   178.32\n",
            "Name: Close, Length: 606, dtype: float64\n",
            "###### Differenced Data ####\n",
            "Date\n",
            "2014-08-12    0.30\n",
            "2014-08-13    0.92\n",
            "2014-08-14    0.54\n",
            "2014-08-15   -0.42\n",
            "2014-08-18    2.20\n",
            "              ... \n",
            "2016-12-28   -0.84\n",
            "2016-12-29    0.33\n",
            "2016-12-30    0.16\n",
            "2017-01-03   -0.52\n",
            "2017-01-04    0.27\n",
            "Name: Close, Length: 605, dtype: float64\n"
          ]
        }
      ]
    },
    {
      "cell_type": "code",
      "source": [
        "plt.figure(figsize = (12,8))\n",
        "plt.subplot(211)\n",
        "plt.plot(df_train['Close'])\n",
        "plt.legend(['Raw Data (Nonstationary)'])\n",
        "plt.subplot(212)\n",
        "plt.plot(diff_df_train, 'orange')\n",
        "plt.legend(['Differenced Data (Stationary)'])\n",
        "plt.show()"
      ],
      "metadata": {
        "colab": {
          "base_uri": "https://localhost:8080/",
          "height": 483
        },
        "id": "IvVvr1xWPvMI",
        "outputId": "ac275d32-09fc-433a-a406-88eed2919ef5"
      },
      "execution_count": null,
      "outputs": [
        {
          "output_type": "display_data",
          "data": {
            "text/plain": [
              "<Figure size 864x576 with 2 Axes>"
            ],
            "image/png": "[encoded data removed]"
          },
          "metadata": {
            "needs_background": "light"
          }
        }
      ]
    },
    {
      "cell_type": "markdown",
      "source": [
        "1차 차분한 데이터는 0에 더 가깝게 형성된 것을 볼 수 있다"
      ],
      "metadata": {
        "id": "HI-ds6RTsFJy"
      }
    },
    {
      "cell_type": "code",
      "source": [
        "fig, ax = plt.subplots(1,2, figsize = (10,5))\n",
        "sm.graphics.tsa.plot_acf(diff_df_train.values.squeeze(), lags = 30, ax = ax[0])\n",
        "sm.graphics.tsa.plot_pacf(diff_df_train.values.squeeze(), lags = 30, ax = ax[1]); #그래프 한번만 출력하기 위해서 ; 추가"
      ],
      "metadata": {
        "colab": {
          "base_uri": "https://localhost:8080/",
          "height": 336
        },
        "id": "HE0DCJp6QdmA",
        "outputId": "047c62fe-f682-4daf-f843-6cec4f1e0bcc"
      },
      "execution_count": null,
      "outputs": [
        {
          "output_type": "display_data",
          "data": {
            "text/plain": [
              "<Figure size 720x360 with 2 Axes>"
            ],
            "image/png": "[encoded data removed]"
          },
          "metadata": {
            "needs_background": "light"
          }
        }
      ]
    },
    {
      "cell_type": "markdown",
      "source": [
        "1차 차분을 통해 확인한 결과, Autocorrelation이 lag2일때 급격하게 낮아지고 있고, 특정한 패턴을 보이지 않기 때문에 Stationary한 데이터라고 볼 수 있다"
      ],
      "metadata": {
        "id": "7VVlIt29VJJs"
      }
    },
    {
      "cell_type": "markdown",
      "source": [
        "## 3. Forecasting a Time Series to Test Set"
      ],
      "metadata": {
        "id": "s4QP7zjWgHBF"
      }
    },
    {
      "cell_type": "markdown",
      "source": [
        "### ARIMA"
      ],
      "metadata": {
        "id": "F9mqPz1nxdbo"
      }
    },
    {
      "cell_type": "code",
      "source": [
        "#ARIMA model\n",
        "model = ARIMA(df_train['Close'], order = (1,1,0))\n",
        "model_fit = model.fit()\n",
        "model_fit.summary()"
      ],
      "metadata": {
        "colab": {
          "base_uri": "https://localhost:8080/",
          "height": 536
        },
        "id": "uQD6qTSzXtHU",
        "outputId": "432edb85-4475-4ced-c4ab-7b32cdc15977"
      },
      "execution_count": null,
      "outputs": [
        {
          "output_type": "stream",
          "name": "stderr",
          "text": [
            "/usr/local/lib/python3.9/dist-packages/statsmodels/tsa/base/tsa_model.py:471: ValueWarning: A date index has been provided, but it has no associated frequency information and so will be ignored when e.g. forecasting.\n",
            "  self._init_dates(dates, freq)\n",
            "/usr/local/lib/python3.9/dist-packages/statsmodels/tsa/base/tsa_model.py:471: ValueWarning: A date index has been provided, but it has no associated frequency information and so will be ignored when e.g. forecasting.\n",
            "  self._init_dates(dates, freq)\n",
            "/usr/local/lib/python3.9/dist-packages/statsmodels/tsa/base/tsa_model.py:471: ValueWarning: A date index has been provided, but it has no associated frequency information and so will be ignored when e.g. forecasting.\n",
            "  self._init_dates(dates, freq)\n"
          ]
        },
        {
          "output_type": "execute_result",
          "data": {
            "text/plain": [
              "<class 'statsmodels.iolib.summary.Summary'>\n",
              "\"\"\"\n",
              "                               SARIMAX Results                                \n",
              "==============================================================================\n",
              "Dep. Variable:                  Close   No. Observations:                  606\n",
              "Model:                 ARIMA(1, 1, 0)   Log Likelihood               -1155.711\n",
              "Date:                Mon, 27 Mar 2023   AIC                           2315.423\n",
              "Time:                        10:53:48   BIC                           2324.233\n",
              "Sample:                             0   HQIC                          2318.851\n",
              "                                - 606                                         \n",
              "Covariance Type:                  opg                                         \n",
              "==============================================================================\n",
              "                 coef    std err          z      P>|z|      [0.025      0.975]\n",
              "------------------------------------------------------------------------------\n",
              "ar.L1         -0.1114      0.037     -3.028      0.002      -0.184      -0.039\n",
              "sigma2         2.6715      0.099     26.865      0.000       2.477       2.866\n",
              "===================================================================================\n",
              "Ljung-Box (L1) (Q):                   0.01   Jarque-Bera (JB):               245.34\n",
              "Prob(Q):                              0.94   Prob(JB):                         0.00\n",
              "Heteroskedasticity (H):               0.68   Skew:                            -0.20\n",
              "Prob(H) (two-sided):                  0.01   Kurtosis:                         6.09\n",
              "===================================================================================\n",
              "\n",
              "Warnings:\n",
              "[1] Covariance matrix calculated using the outer product of gradients (complex-step).\n",
              "\"\"\""
            ],
            "text/html": [
              "<table class=\"simpletable\">\n",
              "<caption>SARIMAX Results</caption>\n",
              "<tr>\n",
              "  <th>Dep. Variable:</th>         <td>Close</td>      <th>  No. Observations:  </th>    <td>606</td>   \n",
              "</tr>\n",
              "<tr>\n",
              "  <th>Model:</th>            <td>ARIMA(1, 1, 0)</td>  <th>  Log Likelihood     </th> <td>-1155.711</td>\n",
              "</tr>\n",
              "<tr>\n",
              "  <th>Date:</th>            <td>Mon, 27 Mar 2023</td> <th>  AIC                </th> <td>2315.423</td> \n",
              "</tr>\n",
              "<tr>\n",
              "  <th>Time:</th>                <td>10:53:48</td>     <th>  BIC                </th> <td>2324.233</td> \n",
              "</tr>\n",
              "<tr>\n",
              "  <th>Sample:</th>                  <td>0</td>        <th>  HQIC               </th> <td>2318.851</td> \n",
              "</tr>\n",
              "<tr>\n",
              "  <th></th>                      <td> - 606</td>      <th>                     </th>     <td> </td>    \n",
              "</tr>\n",
              "<tr>\n",
              "  <th>Covariance Type:</th>        <td>opg</td>       <th>                     </th>     <td> </td>    \n",
              "</tr>\n",
              "</table>\n",
              "<table class=\"simpletable\">\n",
              "<tr>\n",
              "     <td></td>       <th>coef</th>     <th>std err</th>      <th>z</th>      <th>P>|z|</th>  <th>[0.025</th>    <th>0.975]</th>  \n",
              "</tr>\n",
              "<tr>\n",
              "  <th>ar.L1</th>  <td>   -0.1114</td> <td>    0.037</td> <td>   -3.028</td> <td> 0.002</td> <td>   -0.184</td> <td>   -0.039</td>\n",
              "</tr>\n",
              "<tr>\n",
              "  <th>sigma2</th> <td>    2.6715</td> <td>    0.099</td> <td>   26.865</td> <td> 0.000</td> <td>    2.477</td> <td>    2.866</td>\n",
              "</tr>\n",
              "</table>\n",
              "<table class=\"simpletable\">\n",
              "<tr>\n",
              "  <th>Ljung-Box (L1) (Q):</th>     <td>0.01</td> <th>  Jarque-Bera (JB):  </th> <td>245.34</td>\n",
              "</tr>\n",
              "<tr>\n",
              "  <th>Prob(Q):</th>                <td>0.94</td> <th>  Prob(JB):          </th>  <td>0.00</td> \n",
              "</tr>\n",
              "<tr>\n",
              "  <th>Heteroskedasticity (H):</th> <td>0.68</td> <th>  Skew:              </th>  <td>-0.20</td>\n",
              "</tr>\n",
              "<tr>\n",
              "  <th>Prob(H) (two-sided):</th>    <td>0.01</td> <th>  Kurtosis:          </th>  <td>6.09</td> \n",
              "</tr>\n",
              "</table><br/><br/>Warnings:<br/>[1] Covariance matrix calculated using the outer product of gradients (complex-step)."
            ]
          },
          "metadata": {},
          "execution_count": 37
        }
      ]
    },
    {
      "cell_type": "markdown",
      "source": [
        "p-value 값이 충분히 작은 것으로 보아 괜찮은 모델로 보이나, AIC가 너무 커서 좀 더 나은 hyperparameter 탐색"
      ],
      "metadata": {
        "id": "_64hm1qrtITH"
      }
    },
    {
      "cell_type": "code",
      "source": [
        "import itertools\n",
        "p = range(0,3) #p:0~2\n",
        "d = range(1,2) #d:1\n",
        "q = range(0,3) #q:0~2\n",
        "pdq = list(itertools.product(p,d,q))\n",
        "aic = []\n",
        "for i in pdq:\n",
        "  try:\n",
        "    model = ARIMA(df_train['Close'], order = (i))\n",
        "    model_fit = model.fit()\n",
        "    print(f'ARIMA: {i} >> AIC: {round(model_fit.aic,2)}')\n",
        "    aic.append(round(model_fit.aic,2))\n",
        "  except:\n",
        "    pass"
      ],
      "metadata": {
        "colab": {
          "base_uri": "https://localhost:8080/"
        },
        "id": "Ze9xcUm-Z_aI",
        "outputId": "8b1ac561-e0ed-4c85-a1d0-90551740238a"
      },
      "execution_count": null,
      "outputs": [
        {
          "output_type": "stream",
          "name": "stderr",
          "text": [
            "/usr/local/lib/python3.9/dist-packages/statsmodels/tsa/base/tsa_model.py:471: ValueWarning: A date index has been provided, but it has no associated frequency information and so will be ignored when e.g. forecasting.\n",
            "  self._init_dates(dates, freq)\n",
            "/usr/local/lib/python3.9/dist-packages/statsmodels/tsa/base/tsa_model.py:471: ValueWarning: A date index has been provided, but it has no associated frequency information and so will be ignored when e.g. forecasting.\n",
            "  self._init_dates(dates, freq)\n",
            "/usr/local/lib/python3.9/dist-packages/statsmodels/tsa/base/tsa_model.py:471: ValueWarning: A date index has been provided, but it has no associated frequency information and so will be ignored when e.g. forecasting.\n",
            "  self._init_dates(dates, freq)\n",
            "/usr/local/lib/python3.9/dist-packages/statsmodels/tsa/base/tsa_model.py:471: ValueWarning: A date index has been provided, but it has no associated frequency information and so will be ignored when e.g. forecasting.\n",
            "  self._init_dates(dates, freq)\n",
            "/usr/local/lib/python3.9/dist-packages/statsmodels/tsa/base/tsa_model.py:471: ValueWarning: A date index has been provided, but it has no associated frequency information and so will be ignored when e.g. forecasting.\n",
            "  self._init_dates(dates, freq)\n",
            "/usr/local/lib/python3.9/dist-packages/statsmodels/tsa/base/tsa_model.py:471: ValueWarning: A date index has been provided, but it has no associated frequency information and so will be ignored when e.g. forecasting.\n",
            "  self._init_dates(dates, freq)\n",
            "/usr/local/lib/python3.9/dist-packages/statsmodels/tsa/base/tsa_model.py:471: ValueWarning: A date index has been provided, but it has no associated frequency information and so will be ignored when e.g. forecasting.\n",
            "  self._init_dates(dates, freq)\n",
            "/usr/local/lib/python3.9/dist-packages/statsmodels/tsa/base/tsa_model.py:471: ValueWarning: A date index has been provided, but it has no associated frequency information and so will be ignored when e.g. forecasting.\n",
            "  self._init_dates(dates, freq)\n",
            "/usr/local/lib/python3.9/dist-packages/statsmodels/tsa/base/tsa_model.py:471: ValueWarning: A date index has been provided, but it has no associated frequency information and so will be ignored when e.g. forecasting.\n",
            "  self._init_dates(dates, freq)\n"
          ]
        },
        {
          "output_type": "stream",
          "name": "stdout",
          "text": [
            "ARIMA: (0, 1, 0) >> AIC: 2321.0\n",
            "ARIMA: (0, 1, 1) >> AIC: 2316.22\n",
            "ARIMA: (0, 1, 2) >> AIC: 2314.94\n",
            "ARIMA: (1, 1, 0) >> AIC: 2315.42\n"
          ]
        },
        {
          "output_type": "stream",
          "name": "stderr",
          "text": [
            "/usr/local/lib/python3.9/dist-packages/statsmodels/tsa/base/tsa_model.py:471: ValueWarning: A date index has been provided, but it has no associated frequency information and so will be ignored when e.g. forecasting.\n",
            "  self._init_dates(dates, freq)\n",
            "/usr/local/lib/python3.9/dist-packages/statsmodels/tsa/base/tsa_model.py:471: ValueWarning: A date index has been provided, but it has no associated frequency information and so will be ignored when e.g. forecasting.\n",
            "  self._init_dates(dates, freq)\n",
            "/usr/local/lib/python3.9/dist-packages/statsmodels/tsa/base/tsa_model.py:471: ValueWarning: A date index has been provided, but it has no associated frequency information and so will be ignored when e.g. forecasting.\n",
            "  self._init_dates(dates, freq)\n",
            "/usr/local/lib/python3.9/dist-packages/statsmodels/tsa/base/tsa_model.py:471: ValueWarning: A date index has been provided, but it has no associated frequency information and so will be ignored when e.g. forecasting.\n",
            "  self._init_dates(dates, freq)\n",
            "/usr/local/lib/python3.9/dist-packages/statsmodels/tsa/base/tsa_model.py:471: ValueWarning: A date index has been provided, but it has no associated frequency information and so will be ignored when e.g. forecasting.\n",
            "  self._init_dates(dates, freq)\n",
            "/usr/local/lib/python3.9/dist-packages/statsmodels/tsa/base/tsa_model.py:471: ValueWarning: A date index has been provided, but it has no associated frequency information and so will be ignored when e.g. forecasting.\n",
            "  self._init_dates(dates, freq)\n"
          ]
        },
        {
          "output_type": "stream",
          "name": "stdout",
          "text": [
            "ARIMA: (1, 1, 1) >> AIC: 2316.86\n"
          ]
        },
        {
          "output_type": "stream",
          "name": "stderr",
          "text": [
            "/usr/local/lib/python3.9/dist-packages/statsmodels/tsa/base/tsa_model.py:471: ValueWarning: A date index has been provided, but it has no associated frequency information and so will be ignored when e.g. forecasting.\n",
            "  self._init_dates(dates, freq)\n",
            "/usr/local/lib/python3.9/dist-packages/statsmodels/tsa/base/tsa_model.py:471: ValueWarning: A date index has been provided, but it has no associated frequency information and so will be ignored when e.g. forecasting.\n",
            "  self._init_dates(dates, freq)\n",
            "/usr/local/lib/python3.9/dist-packages/statsmodels/tsa/base/tsa_model.py:471: ValueWarning: A date index has been provided, but it has no associated frequency information and so will be ignored when e.g. forecasting.\n",
            "  self._init_dates(dates, freq)\n"
          ]
        },
        {
          "output_type": "stream",
          "name": "stdout",
          "text": [
            "ARIMA: (1, 1, 2) >> AIC: 2316.28\n",
            "ARIMA: (2, 1, 0) >> AIC: 2316.08\n"
          ]
        },
        {
          "output_type": "stream",
          "name": "stderr",
          "text": [
            "/usr/local/lib/python3.9/dist-packages/statsmodels/tsa/base/tsa_model.py:471: ValueWarning: A date index has been provided, but it has no associated frequency information and so will be ignored when e.g. forecasting.\n",
            "  self._init_dates(dates, freq)\n",
            "/usr/local/lib/python3.9/dist-packages/statsmodels/tsa/base/tsa_model.py:471: ValueWarning: A date index has been provided, but it has no associated frequency information and so will be ignored when e.g. forecasting.\n",
            "  self._init_dates(dates, freq)\n",
            "/usr/local/lib/python3.9/dist-packages/statsmodels/tsa/base/tsa_model.py:471: ValueWarning: A date index has been provided, but it has no associated frequency information and so will be ignored when e.g. forecasting.\n",
            "  self._init_dates(dates, freq)\n",
            "/usr/local/lib/python3.9/dist-packages/statsmodels/tsa/base/tsa_model.py:471: ValueWarning: A date index has been provided, but it has no associated frequency information and so will be ignored when e.g. forecasting.\n",
            "  self._init_dates(dates, freq)\n",
            "/usr/local/lib/python3.9/dist-packages/statsmodels/tsa/base/tsa_model.py:471: ValueWarning: A date index has been provided, but it has no associated frequency information and so will be ignored when e.g. forecasting.\n",
            "  self._init_dates(dates, freq)\n",
            "/usr/local/lib/python3.9/dist-packages/statsmodels/tsa/base/tsa_model.py:471: ValueWarning: A date index has been provided, but it has no associated frequency information and so will be ignored when e.g. forecasting.\n",
            "  self._init_dates(dates, freq)\n"
          ]
        },
        {
          "output_type": "stream",
          "name": "stdout",
          "text": [
            "ARIMA: (2, 1, 1) >> AIC: 2316.98\n"
          ]
        },
        {
          "output_type": "stream",
          "name": "stderr",
          "text": [
            "/usr/local/lib/python3.9/dist-packages/statsmodels/tsa/base/tsa_model.py:471: ValueWarning: A date index has been provided, but it has no associated frequency information and so will be ignored when e.g. forecasting.\n",
            "  self._init_dates(dates, freq)\n",
            "/usr/local/lib/python3.9/dist-packages/statsmodels/tsa/base/tsa_model.py:471: ValueWarning: A date index has been provided, but it has no associated frequency information and so will be ignored when e.g. forecasting.\n",
            "  self._init_dates(dates, freq)\n",
            "/usr/local/lib/python3.9/dist-packages/statsmodels/tsa/base/tsa_model.py:471: ValueWarning: A date index has been provided, but it has no associated frequency information and so will be ignored when e.g. forecasting.\n",
            "  self._init_dates(dates, freq)\n"
          ]
        },
        {
          "output_type": "stream",
          "name": "stdout",
          "text": [
            "ARIMA: (2, 1, 2) >> AIC: 2311.18\n"
          ]
        }
      ]
    },
    {
      "cell_type": "markdown",
      "source": [
        "(p,d,q) = (2,1,2)일 때 AIC 2311.18로 가장 좋은 성능이 나왔다"
      ],
      "metadata": {
        "id": "QWJ9Ne7ZtpPJ"
      }
    },
    {
      "cell_type": "code",
      "source": [
        "optimal = [(pdq[i], j) for i,j in enumerate(aic) if j == min(aic)]\n",
        "optimal"
      ],
      "metadata": {
        "colab": {
          "base_uri": "https://localhost:8080/"
        },
        "id": "HcDyXoLoZIv5",
        "outputId": "4f8ebb44-a594-4a83-8949-648f3e07dbc1"
      },
      "execution_count": null,
      "outputs": [
        {
          "output_type": "execute_result",
          "data": {
            "text/plain": [
              "[((2, 1, 2), 2311.18)]"
            ]
          },
          "metadata": {},
          "execution_count": 40
        }
      ]
    },
    {
      "cell_type": "code",
      "source": [
        "model_opt = ARIMA(df_train['Close'], order = optimal[0][0])\n",
        "model_opt_fit = model_opt.fit()\n",
        "\n",
        "model_opt_fit.summary()"
      ],
      "metadata": {
        "colab": {
          "base_uri": "https://localhost:8080/",
          "height": 600
        },
        "id": "q_nN7BGIbXvI",
        "outputId": "f53b0e03-792a-47f0-8cda-37ad937c1e80"
      },
      "execution_count": null,
      "outputs": [
        {
          "output_type": "stream",
          "name": "stderr",
          "text": [
            "/usr/local/lib/python3.9/dist-packages/statsmodels/tsa/base/tsa_model.py:471: ValueWarning: A date index has been provided, but it has no associated frequency information and so will be ignored when e.g. forecasting.\n",
            "  self._init_dates(dates, freq)\n",
            "/usr/local/lib/python3.9/dist-packages/statsmodels/tsa/base/tsa_model.py:471: ValueWarning: A date index has been provided, but it has no associated frequency information and so will be ignored when e.g. forecasting.\n",
            "  self._init_dates(dates, freq)\n",
            "/usr/local/lib/python3.9/dist-packages/statsmodels/tsa/base/tsa_model.py:471: ValueWarning: A date index has been provided, but it has no associated frequency information and so will be ignored when e.g. forecasting.\n",
            "  self._init_dates(dates, freq)\n"
          ]
        },
        {
          "output_type": "execute_result",
          "data": {
            "text/plain": [
              "<class 'statsmodels.iolib.summary.Summary'>\n",
              "\"\"\"\n",
              "                               SARIMAX Results                                \n",
              "==============================================================================\n",
              "Dep. Variable:                  Close   No. Observations:                  606\n",
              "Model:                 ARIMA(2, 1, 2)   Log Likelihood               -1150.588\n",
              "Date:                Mon, 27 Mar 2023   AIC                           2311.177\n",
              "Time:                        10:57:16   BIC                           2333.203\n",
              "Sample:                             0   HQIC                          2319.748\n",
              "                                - 606                                         \n",
              "Covariance Type:                  opg                                         \n",
              "==============================================================================\n",
              "                 coef    std err          z      P>|z|      [0.025      0.975]\n",
              "------------------------------------------------------------------------------\n",
              "ar.L1          0.4326      0.035     12.255      0.000       0.363       0.502\n",
              "ar.L2         -0.9043      0.033    -27.552      0.000      -0.969      -0.840\n",
              "ma.L1         -0.4713      0.020    -23.171      0.000      -0.511      -0.431\n",
              "ma.L2          0.9773      0.022     45.309      0.000       0.935       1.020\n",
              "sigma2         2.6220      0.095     27.473      0.000       2.435       2.809\n",
              "===================================================================================\n",
              "Ljung-Box (L1) (Q):                   3.65   Jarque-Bera (JB):               291.67\n",
              "Prob(Q):                              0.06   Prob(JB):                         0.00\n",
              "Heteroskedasticity (H):               0.71   Skew:                            -0.21\n",
              "Prob(H) (two-sided):                  0.01   Kurtosis:                         6.37\n",
              "===================================================================================\n",
              "\n",
              "Warnings:\n",
              "[1] Covariance matrix calculated using the outer product of gradients (complex-step).\n",
              "\"\"\""
            ],
            "text/html": [
              "<table class=\"simpletable\">\n",
              "<caption>SARIMAX Results</caption>\n",
              "<tr>\n",
              "  <th>Dep. Variable:</th>         <td>Close</td>      <th>  No. Observations:  </th>    <td>606</td>   \n",
              "</tr>\n",
              "<tr>\n",
              "  <th>Model:</th>            <td>ARIMA(2, 1, 2)</td>  <th>  Log Likelihood     </th> <td>-1150.588</td>\n",
              "</tr>\n",
              "<tr>\n",
              "  <th>Date:</th>            <td>Mon, 27 Mar 2023</td> <th>  AIC                </th> <td>2311.177</td> \n",
              "</tr>\n",
              "<tr>\n",
              "  <th>Time:</th>                <td>10:57:16</td>     <th>  BIC                </th> <td>2333.203</td> \n",
              "</tr>\n",
              "<tr>\n",
              "  <th>Sample:</th>                  <td>0</td>        <th>  HQIC               </th> <td>2319.748</td> \n",
              "</tr>\n",
              "<tr>\n",
              "  <th></th>                      <td> - 606</td>      <th>                     </th>     <td> </td>    \n",
              "</tr>\n",
              "<tr>\n",
              "  <th>Covariance Type:</th>        <td>opg</td>       <th>                     </th>     <td> </td>    \n",
              "</tr>\n",
              "</table>\n",
              "<table class=\"simpletable\">\n",
              "<tr>\n",
              "     <td></td>       <th>coef</th>     <th>std err</th>      <th>z</th>      <th>P>|z|</th>  <th>[0.025</th>    <th>0.975]</th>  \n",
              "</tr>\n",
              "<tr>\n",
              "  <th>ar.L1</th>  <td>    0.4326</td> <td>    0.035</td> <td>   12.255</td> <td> 0.000</td> <td>    0.363</td> <td>    0.502</td>\n",
              "</tr>\n",
              "<tr>\n",
              "  <th>ar.L2</th>  <td>   -0.9043</td> <td>    0.033</td> <td>  -27.552</td> <td> 0.000</td> <td>   -0.969</td> <td>   -0.840</td>\n",
              "</tr>\n",
              "<tr>\n",
              "  <th>ma.L1</th>  <td>   -0.4713</td> <td>    0.020</td> <td>  -23.171</td> <td> 0.000</td> <td>   -0.511</td> <td>   -0.431</td>\n",
              "</tr>\n",
              "<tr>\n",
              "  <th>ma.L2</th>  <td>    0.9773</td> <td>    0.022</td> <td>   45.309</td> <td> 0.000</td> <td>    0.935</td> <td>    1.020</td>\n",
              "</tr>\n",
              "<tr>\n",
              "  <th>sigma2</th> <td>    2.6220</td> <td>    0.095</td> <td>   27.473</td> <td> 0.000</td> <td>    2.435</td> <td>    2.809</td>\n",
              "</tr>\n",
              "</table>\n",
              "<table class=\"simpletable\">\n",
              "<tr>\n",
              "  <th>Ljung-Box (L1) (Q):</th>     <td>3.65</td> <th>  Jarque-Bera (JB):  </th> <td>291.67</td>\n",
              "</tr>\n",
              "<tr>\n",
              "  <th>Prob(Q):</th>                <td>0.06</td> <th>  Prob(JB):          </th>  <td>0.00</td> \n",
              "</tr>\n",
              "<tr>\n",
              "  <th>Heteroskedasticity (H):</th> <td>0.71</td> <th>  Skew:              </th>  <td>-0.21</td>\n",
              "</tr>\n",
              "<tr>\n",
              "  <th>Prob(H) (two-sided):</th>    <td>0.01</td> <th>  Kurtosis:          </th>  <td>6.37</td> \n",
              "</tr>\n",
              "</table><br/><br/>Warnings:<br/>[1] Covariance matrix calculated using the outer product of gradients (complex-step)."
            ]
          },
          "metadata": {},
          "execution_count": 41
        }
      ]
    },
    {
      "cell_type": "code",
      "source": [
        "forecast = model_opt_fit.forecast(152) #df_test의 152개 관측치 예측"
      ],
      "metadata": {
        "colab": {
          "base_uri": "https://localhost:8080/"
        },
        "id": "CL0RvmHqbm6X",
        "outputId": "0321f631-d507-455e-b573-97e1bc0a4ff5"
      },
      "execution_count": null,
      "outputs": [
        {
          "output_type": "stream",
          "name": "stderr",
          "text": [
            "/usr/local/lib/python3.9/dist-packages/statsmodels/tsa/base/tsa_model.py:834: ValueWarning: No supported index is available. Prediction results will be given with an integer index beginning at `start`.\n",
            "  return get_prediction_index(\n"
          ]
        }
      ]
    },
    {
      "cell_type": "code",
      "source": [
        "list(forecast)"
      ],
      "metadata": {
        "colab": {
          "base_uri": "https://localhost:8080/"
        },
        "id": "O9YJ5CcCcdtm",
        "outputId": "83f363a0-b193-42eb-cfbd-122cb9168149"
      },
      "execution_count": null,
      "outputs": [
        {
          "output_type": "execute_result",
          "data": {
            "text/plain": [
              "[178.51428778796068,\n",
              " 178.02699150908953,\n",
              " 177.64049787476554,\n",
              " 177.91398019627644,\n",
              " 178.3817977007744,\n",
              " 178.33685095266554,\n",
              " 177.89435074641747,\n",
              " 177.74357980921863,\n",
              " 178.07852128930557,\n",
              " 178.35975592798366,\n",
              " 178.17851816821508,\n",
              " 177.84579181329792,\n",
              " 177.86575776177338,\n",
              " 178.17528601219163,\n",
              " 178.29112645389483,\n",
              " 178.06132400610673,\n",
              " 177.85715889641043,\n",
              " 177.9766560636639,\n",
              " 178.2129790295224,\n",
              " 178.20714410035504,\n",
              " 177.99090825009014,\n",
              " 177.9026453608287,\n",
              " 178.06001107928455,\n",
              " 178.2079024766815,\n",
              " 178.12956840638608,\n",
              " 177.96194130510082,\n",
              " 177.9602681211406,\n",
              " 178.11113300547154,\n",
              " 178.17790739465215,\n",
              " 178.070362481007,\n",
              " 177.9634551183032,\n",
              " 178.01446411708235,\n",
              " 178.13320819501976,\n",
              " 178.13844613825407,\n",
              " 178.033329235443,\n",
              " 177.9831208714691,\n",
              " 178.05646108351712,\n",
              " 178.13359113862356,\n",
              " 178.1006330626994,\n",
              " 178.01662571063383,\n",
              " 178.0100903929379,\n",
              " 178.08323293285088,\n",
              " 178.12078303517916,\n",
              " 178.07088217967504,\n",
              " 178.015338675792,\n",
              " 178.03643798795153,\n",
              " 178.09579429623855,\n",
              " 178.10239016544045,\n",
              " 178.0515662702577,\n",
              " 178.02361603331858,\n",
              " 178.0574863945788,\n",
              " 178.09741405217915,\n",
              " 178.0840563295768,\n",
              " 178.04217062082827,\n",
              " 178.03613132203455,\n",
              " 178.07139695273096,\n",
              " 178.09211366067308,\n",
              " 178.0691838736236,\n",
              " 178.0405303320291,\n",
              " 178.048871235202,\n",
              " 178.0783913453466,\n",
              " 178.08361833426991,\n",
              " 178.05918378154828,\n",
              " 178.0438869816824,\n",
              " 178.05936654945342,\n",
              " 178.07989593163495,\n",
              " 178.07477805898998,\n",
              " 178.05399901709123,\n",
              " 178.0496385953824,\n",
              " 178.0665432789732,\n",
              " 178.07779914519594,\n",
              " 178.06738096317108,\n",
              " 178.05269534097656,\n",
              " 178.0557639972724,\n",
              " 178.07037195332904,\n",
              " 178.0739160290183,\n",
              " 178.06223885078862,\n",
              " 178.0539825431394,\n",
              " 178.06097093568363,\n",
              " 178.07146033268276,\n",
              " 178.06967809869275,\n",
              " 178.05942135825111,\n",
              " 178.05659619766766,\n",
              " 178.0646494702415,\n",
              " 178.07068801500532,\n",
              " 178.066017433416,\n",
              " 178.05853624665252,\n",
              " 178.05952373084074,\n",
              " 178.0667162905113,\n",
              " 178.06893465324237,\n",
              " 178.0633898937645,\n",
              " 178.05898522420844,\n",
              " 178.06209408875927,\n",
              " 178.06742215897157,\n",
              " 178.06691557048705,\n",
              " 178.06187814525063,\n",
              " 178.0601571689132,\n",
              " 178.06396815546674,\n",
              " 178.06717303080927,\n",
              " 178.0651130448797,\n",
              " 178.06132369855771,\n",
              " 178.06154738714034,\n",
              " 178.06507093523405,\n",
              " 178.06639286922837,\n",
              " 178.06377829507645,\n",
              " 178.06145182738464,\n",
              " 178.062809855238,\n",
              " 178.06550118548188,\n",
              " 178.06543731120112,\n",
              " 178.06297585451344,\n",
              " 178.0619688377683,\n",
              " 178.06375916782753,\n",
              " 178.0654442969076,\n",
              " 178.06455421917292,\n",
              " 178.062645291133,\n",
              " 178.0626244407825,\n",
              " 178.06434170462163,\n",
              " 178.06510341586798,\n",
              " 178.06387996035392,\n",
              " 178.0626618853367,\n",
              " 178.06324136538643,\n",
              " 178.06459356804788,\n",
              " 178.06465446947723,\n",
              " 178.063457989309,\n",
              " 178.06288534020072,\n",
              " 178.06371962491932,\n",
              " 178.0645983791933,\n",
              " 178.0642240506508,\n",
              " 178.06326744745064,\n",
              " 178.06319215208995,\n",
              " 178.06402465689996,\n",
              " 178.06445287388706,\n",
              " 178.0638852610481,\n",
              " 178.0632524769524,\n",
              " 178.06349205061565,\n",
              " 178.06416792545994,\n",
              " 178.06424364468447,\n",
              " 178.0636651917175,\n",
              " 178.06334648944136,\n",
              " 178.06373173190948,\n",
              " 178.06418658960422,\n",
              " 178.06403496966396,\n",
              " 178.06355804447873,\n",
              " 178.06348884873205,\n",
              " 178.06389020931996,\n",
              " 178.0641264054674,\n",
              " 178.06386562072876,\n",
              " 178.06353921309986,\n",
              " 178.06363384839614,\n",
              " 178.06396996303815,\n",
              " 178.06402977920644,\n",
              " 178.06375169909157]"
            ]
          },
          "metadata": {},
          "execution_count": 43
        }
      ]
    },
    {
      "cell_type": "code",
      "source": [
        "fcast = list(forecast)"
      ],
      "metadata": {
        "id": "F41CHKV6bxKO"
      },
      "execution_count": null,
      "outputs": []
    },
    {
      "cell_type": "code",
      "source": [
        "print(f\"MSE : {mean_squared_error(df_test['Close'], fcast)}\")\n",
        "print(f\"RMSE : {np.sqrt(mean_squared_error(df_test['Close'],fcast))}\")\n",
        "print(f\"MAE : {mean_absolute_error(df_test['Close'],fcast)}\")\n",
        "print(f\"MAPE : {mean_absolute_percentage_error(df_test['Close'],fcast)}\")\n",
        "print(f\"R2 : {r2_score(df_test['Close'], fcast)}\")"
      ],
      "metadata": {
        "colab": {
          "base_uri": "https://localhost:8080/"
        },
        "id": "Ef1QApPRfXp9",
        "outputId": "66501e70-b3b1-4d41-e57e-b749840e8e65"
      },
      "execution_count": null,
      "outputs": [
        {
          "output_type": "stream",
          "name": "stdout",
          "text": [
            "MSE : 421.18763916936854\n",
            "RMSE : 20.52285650608532\n",
            "MAE : 17.32073341751599\n",
            "MAPE : 0.08577818693707967\n",
            "R2 : -2.1055549636906314\n"
          ]
        }
      ]
    },
    {
      "cell_type": "markdown",
      "source": [
        "### SARIMA"
      ],
      "metadata": {
        "id": "a2sL6PNQyKk7"
      }
    },
    {
      "cell_type": "code",
      "source": [
        "from statsmodels.tsa.statespace.sarimax import SARIMAX "
      ],
      "metadata": {
        "id": "RA3br7sRxGFE"
      },
      "execution_count": 14,
      "outputs": []
    },
    {
      "cell_type": "code",
      "source": [
        "# Parameter search \n",
        "import itertools\n",
        "print('Examples of parameter combinations for Seasonal ARIMA...')\n",
        "p = range(0, 3)\n",
        "d = range(1, 2)\n",
        "q = range(0, 3)\n",
        "pdq = list(itertools.product(p, d, q))\n",
        "seasonal_pdq = [(x[0], x[1], x[2], 12) for x in list(itertools.product(p, d, q))]\n",
        "\n",
        "aic=[]\n",
        "params=[]\n",
        "for i in pdq:\n",
        "    for j in seasonal_pdq:\n",
        "        try:\n",
        "            model = SARIMAX(df_train['Close'].values, order=(i), seasonal_order = (j))\n",
        "            model_fit = model.fit()\n",
        "            print(f'SARIMA: {i}{j} >> AIC : {round(model_fit.aic,2)}')\n",
        "            aic.append(round(model_fit.aic,2))\n",
        "            params.append((i, j))  \n",
        "        except:\n",
        "            continue"
      ],
      "metadata": {
        "colab": {
          "base_uri": "https://localhost:8080/"
        },
        "id": "hkhovQLyw8gM",
        "outputId": "1a82832f-2c77-4abc-ae02-e8d20d119b31"
      },
      "execution_count": 16,
      "outputs": [
        {
          "output_type": "stream",
          "name": "stdout",
          "text": [
            "Examples of parameter combinations for Seasonal ARIMA...\n",
            "SARIMA: (0, 1, 0)(0, 1, 0, 12) >> AIC : 2706.55\n",
            "SARIMA: (0, 1, 0)(0, 1, 1, 12) >> AIC : 2317.02\n",
            "SARIMA: (0, 1, 0)(0, 1, 2, 12) >> AIC : 2318.45\n",
            "SARIMA: (0, 1, 0)(1, 1, 0, 12) >> AIC : 2528.23\n",
            "SARIMA: (0, 1, 0)(1, 1, 1, 12) >> AIC : 2318.45\n",
            "SARIMA: (0, 1, 0)(1, 1, 2, 12) >> AIC : 2320.07\n",
            "SARIMA: (0, 1, 0)(2, 1, 0, 12) >> AIC : 2446.59\n",
            "SARIMA: (0, 1, 0)(2, 1, 1, 12) >> AIC : 2320.45\n",
            "SARIMA: (0, 1, 0)(2, 1, 2, 12) >> AIC : 2319.85\n",
            "SARIMA: (0, 1, 1)(0, 1, 0, 12) >> AIC : 2698.28\n",
            "SARIMA: (0, 1, 1)(0, 1, 1, 12) >> AIC : 2314.19\n",
            "SARIMA: (0, 1, 1)(0, 1, 2, 12) >> AIC : 2315.87\n",
            "SARIMA: (0, 1, 1)(1, 1, 0, 12) >> AIC : 2525.94\n",
            "SARIMA: (0, 1, 1)(1, 1, 1, 12) >> AIC : 2315.88\n",
            "SARIMA: (0, 1, 1)(1, 1, 2, 12) >> AIC : 2316.85\n",
            "SARIMA: (0, 1, 1)(2, 1, 0, 12) >> AIC : 2446.17\n",
            "SARIMA: (0, 1, 1)(2, 1, 1, 12) >> AIC : 2317.85\n",
            "SARIMA: (0, 1, 1)(2, 1, 2, 12) >> AIC : 2317.06\n",
            "SARIMA: (0, 1, 2)(0, 1, 0, 12) >> AIC : 2695.26\n",
            "SARIMA: (0, 1, 2)(0, 1, 1, 12) >> AIC : 2313.85\n",
            "SARIMA: (0, 1, 2)(0, 1, 2, 12) >> AIC : 2315.6\n",
            "SARIMA: (0, 1, 2)(1, 1, 0, 12) >> AIC : 2524.92\n",
            "SARIMA: (0, 1, 2)(1, 1, 1, 12) >> AIC : 2315.61\n",
            "SARIMA: (0, 1, 2)(1, 1, 2, 12) >> AIC : 2316.52\n",
            "SARIMA: (0, 1, 2)(2, 1, 0, 12) >> AIC : 2446.51\n",
            "SARIMA: (0, 1, 2)(2, 1, 1, 12) >> AIC : 2317.58\n",
            "SARIMA: (0, 1, 2)(2, 1, 2, 12) >> AIC : 2316.88\n",
            "SARIMA: (1, 1, 0)(0, 1, 0, 12) >> AIC : 2696.97\n",
            "SARIMA: (1, 1, 0)(0, 1, 1, 12) >> AIC : 2313.7\n",
            "SARIMA: (1, 1, 0)(0, 1, 2, 12) >> AIC : 2315.4\n",
            "SARIMA: (1, 1, 0)(1, 1, 0, 12) >> AIC : 2525.4\n",
            "SARIMA: (1, 1, 0)(1, 1, 1, 12) >> AIC : 2315.41\n",
            "SARIMA: (1, 1, 0)(1, 1, 2, 12) >> AIC : 2316.32\n",
            "SARIMA: (1, 1, 0)(2, 1, 0, 12) >> AIC : 2445.95\n",
            "SARIMA: (1, 1, 0)(2, 1, 1, 12) >> AIC : 2317.38\n",
            "SARIMA: (1, 1, 0)(2, 1, 2, 12) >> AIC : 2316.58\n",
            "SARIMA: (1, 1, 1)(0, 1, 0, 12) >> AIC : 2698.56\n",
            "SARIMA: (1, 1, 1)(0, 1, 1, 12) >> AIC : 2315.28\n",
            "SARIMA: (1, 1, 1)(0, 1, 2, 12) >> AIC : 2316.98\n",
            "SARIMA: (1, 1, 1)(1, 1, 0, 12) >> AIC : 2526.49\n",
            "SARIMA: (1, 1, 1)(1, 1, 1, 12) >> AIC : 2316.99\n",
            "SARIMA: (1, 1, 1)(1, 1, 2, 12) >> AIC : 2317.93\n",
            "SARIMA: (1, 1, 1)(2, 1, 0, 12) >> AIC : 2447.6\n",
            "SARIMA: (1, 1, 1)(2, 1, 1, 12) >> AIC : 2318.97\n",
            "SARIMA: (1, 1, 1)(2, 1, 2, 12) >> AIC : 2318.21\n",
            "SARIMA: (1, 1, 2)(0, 1, 0, 12) >> AIC : 2695.79\n",
            "SARIMA: (1, 1, 2)(0, 1, 1, 12) >> AIC : 2315.19\n",
            "SARIMA: (1, 1, 2)(0, 1, 2, 12) >> AIC : 2316.98\n",
            "SARIMA: (1, 1, 2)(1, 1, 0, 12) >> AIC : 2526.86\n",
            "SARIMA: (1, 1, 2)(1, 1, 1, 12) >> AIC : 2316.98\n",
            "SARIMA: (1, 1, 2)(1, 1, 2, 12) >> AIC : 2317.84\n",
            "SARIMA: (1, 1, 2)(2, 1, 0, 12) >> AIC : 2448.21\n",
            "SARIMA: (1, 1, 2)(2, 1, 1, 12) >> AIC : 2318.93\n"
          ]
        },
        {
          "output_type": "stream",
          "name": "stderr",
          "text": [
            "/usr/local/lib/python3.9/dist-packages/statsmodels/base/model.py:604: ConvergenceWarning: Maximum Likelihood optimization failed to converge. Check mle_retvals\n",
            "  warnings.warn(\"Maximum Likelihood optimization failed to \"\n"
          ]
        },
        {
          "output_type": "stream",
          "name": "stdout",
          "text": [
            "SARIMA: (1, 1, 2)(2, 1, 2, 12) >> AIC : 2318.22\n",
            "SARIMA: (2, 1, 0)(0, 1, 0, 12) >> AIC : 2697.87\n",
            "SARIMA: (2, 1, 0)(0, 1, 1, 12) >> AIC : 2314.65\n",
            "SARIMA: (2, 1, 0)(0, 1, 2, 12) >> AIC : 2316.36\n",
            "SARIMA: (2, 1, 0)(1, 1, 0, 12) >> AIC : 2525.49\n",
            "SARIMA: (2, 1, 0)(1, 1, 1, 12) >> AIC : 2316.36\n",
            "SARIMA: (2, 1, 0)(1, 1, 2, 12) >> AIC : 2317.36\n",
            "SARIMA: (2, 1, 0)(2, 1, 0, 12) >> AIC : 2446.98\n",
            "SARIMA: (2, 1, 0)(2, 1, 1, 12) >> AIC : 2318.35\n",
            "SARIMA: (2, 1, 0)(2, 1, 2, 12) >> AIC : 2317.66\n",
            "SARIMA: (2, 1, 1)(0, 1, 0, 12) >> AIC : 2697.93\n",
            "SARIMA: (2, 1, 1)(0, 1, 1, 12) >> AIC : 2315.73\n",
            "SARIMA: (2, 1, 1)(0, 1, 2, 12) >> AIC : 2317.48\n",
            "SARIMA: (2, 1, 1)(1, 1, 0, 12) >> AIC : 2527.22\n",
            "SARIMA: (2, 1, 1)(1, 1, 1, 12) >> AIC : 2317.48\n",
            "SARIMA: (2, 1, 1)(1, 1, 2, 12) >> AIC : 2318.43\n",
            "SARIMA: (2, 1, 1)(2, 1, 0, 12) >> AIC : 2448.51\n",
            "SARIMA: (2, 1, 1)(2, 1, 1, 12) >> AIC : 2319.46\n"
          ]
        },
        {
          "output_type": "stream",
          "name": "stderr",
          "text": [
            "/usr/local/lib/python3.9/dist-packages/statsmodels/base/model.py:604: ConvergenceWarning: Maximum Likelihood optimization failed to converge. Check mle_retvals\n",
            "  warnings.warn(\"Maximum Likelihood optimization failed to \"\n"
          ]
        },
        {
          "output_type": "stream",
          "name": "stdout",
          "text": [
            "SARIMA: (2, 1, 1)(2, 1, 2, 12) >> AIC : 2318.77\n",
            "SARIMA: (2, 1, 2)(0, 1, 0, 12) >> AIC : 2649.65\n",
            "SARIMA: (2, 1, 2)(0, 1, 1, 12) >> AIC : 2307.89\n",
            "SARIMA: (2, 1, 2)(0, 1, 2, 12) >> AIC : 2307.86\n"
          ]
        },
        {
          "output_type": "stream",
          "name": "stderr",
          "text": [
            "/usr/local/lib/python3.9/dist-packages/statsmodels/base/model.py:604: ConvergenceWarning: Maximum Likelihood optimization failed to converge. Check mle_retvals\n",
            "  warnings.warn(\"Maximum Likelihood optimization failed to \"\n"
          ]
        },
        {
          "output_type": "stream",
          "name": "stdout",
          "text": [
            "SARIMA: (2, 1, 2)(1, 1, 0, 12) >> AIC : 2507.82\n"
          ]
        },
        {
          "output_type": "stream",
          "name": "stderr",
          "text": [
            "/usr/local/lib/python3.9/dist-packages/statsmodels/base/model.py:604: ConvergenceWarning: Maximum Likelihood optimization failed to converge. Check mle_retvals\n",
            "  warnings.warn(\"Maximum Likelihood optimization failed to \"\n"
          ]
        },
        {
          "output_type": "stream",
          "name": "stdout",
          "text": [
            "SARIMA: (2, 1, 2)(1, 1, 1, 12) >> AIC : 2308.05\n"
          ]
        },
        {
          "output_type": "stream",
          "name": "stderr",
          "text": [
            "/usr/local/lib/python3.9/dist-packages/statsmodels/base/model.py:604: ConvergenceWarning: Maximum Likelihood optimization failed to converge. Check mle_retvals\n",
            "  warnings.warn(\"Maximum Likelihood optimization failed to \"\n"
          ]
        },
        {
          "output_type": "stream",
          "name": "stdout",
          "text": [
            "SARIMA: (2, 1, 2)(1, 1, 2, 12) >> AIC : 2311.24\n"
          ]
        },
        {
          "output_type": "stream",
          "name": "stderr",
          "text": [
            "/usr/local/lib/python3.9/dist-packages/statsmodels/base/model.py:604: ConvergenceWarning: Maximum Likelihood optimization failed to converge. Check mle_retvals\n",
            "  warnings.warn(\"Maximum Likelihood optimization failed to \"\n"
          ]
        },
        {
          "output_type": "stream",
          "name": "stdout",
          "text": [
            "SARIMA: (2, 1, 2)(2, 1, 0, 12) >> AIC : 2442.32\n"
          ]
        },
        {
          "output_type": "stream",
          "name": "stderr",
          "text": [
            "/usr/local/lib/python3.9/dist-packages/statsmodels/base/model.py:604: ConvergenceWarning: Maximum Likelihood optimization failed to converge. Check mle_retvals\n",
            "  warnings.warn(\"Maximum Likelihood optimization failed to \"\n"
          ]
        },
        {
          "output_type": "stream",
          "name": "stdout",
          "text": [
            "SARIMA: (2, 1, 2)(2, 1, 1, 12) >> AIC : 2309.75\n"
          ]
        },
        {
          "output_type": "stream",
          "name": "stderr",
          "text": [
            "/usr/local/lib/python3.9/dist-packages/statsmodels/base/model.py:604: ConvergenceWarning: Maximum Likelihood optimization failed to converge. Check mle_retvals\n",
            "  warnings.warn(\"Maximum Likelihood optimization failed to \"\n"
          ]
        },
        {
          "output_type": "stream",
          "name": "stdout",
          "text": [
            "SARIMA: (2, 1, 2)(2, 1, 2, 12) >> AIC : 2310.05\n"
          ]
        }
      ]
    },
    {
      "cell_type": "code",
      "source": [
        "# Search optimal parameters\n",
        "\n",
        "optimal = [(params[i], j) for i, j in enumerate(aic) if j == min(aic)]\n",
        "optimal"
      ],
      "metadata": {
        "colab": {
          "base_uri": "https://localhost:8080/"
        },
        "id": "yYa8k5SbxPuO",
        "outputId": "b0605908-15bd-4016-f9ee-3ccab9be0c28"
      },
      "execution_count": 17,
      "outputs": [
        {
          "output_type": "execute_result",
          "data": {
            "text/plain": [
              "[(((2, 1, 2), (0, 1, 2, 12)), 2307.86)]"
            ]
          },
          "metadata": {},
          "execution_count": 17
        }
      ]
    },
    {
      "cell_type": "code",
      "source": [
        "model_opt = SARIMAX(df_train['Close'].values, order=optimal[0][0][0], seasonal_order = optimal[0][0][1])\n",
        "model_opt_fit = model_opt.fit()\n",
        "\n",
        "model_opt_fit.summary()"
      ],
      "metadata": {
        "colab": {
          "base_uri": "https://localhost:8080/",
          "height": 516
        },
        "id": "CZFN9iENxRu3",
        "outputId": "503c4e78-6239-4090-bb44-2aaa03f803a8"
      },
      "execution_count": 18,
      "outputs": [
        {
          "output_type": "execute_result",
          "data": {
            "text/plain": [
              "<class 'statsmodels.iolib.summary.Summary'>\n",
              "\"\"\"\n",
              "                                     SARIMAX Results                                      \n",
              "==========================================================================================\n",
              "Dep. Variable:                                  y   No. Observations:                  606\n",
              "Model:             SARIMAX(2, 1, 2)x(0, 1, 2, 12)   Log Likelihood               -1146.932\n",
              "Date:                            Mon, 27 Mar 2023   AIC                           2307.864\n",
              "Time:                                    16:05:34   BIC                           2338.560\n",
              "Sample:                                         0   HQIC                          2319.819\n",
              "                                            - 606                                         \n",
              "Covariance Type:                              opg                                         \n",
              "==============================================================================\n",
              "                 coef    std err          z      P>|z|      [0.025      0.975]\n",
              "------------------------------------------------------------------------------\n",
              "ar.L1          0.4318      0.034     12.660      0.000       0.365       0.499\n",
              "ar.L2         -0.9019      0.034    -26.891      0.000      -0.968      -0.836\n",
              "ma.L1         -0.4709      0.019    -24.352      0.000      -0.509      -0.433\n",
              "ma.L2          0.9788      0.021     45.669      0.000       0.937       1.021\n",
              "ma.S.L12      -1.0597     12.390     -0.086      0.932     -25.344      23.225\n",
              "ma.S.L24       0.0598      0.724      0.083      0.934      -1.359       1.479\n",
              "sigma2         2.5810     32.001      0.081      0.936     -60.141      65.303\n",
              "===================================================================================\n",
              "Ljung-Box (L1) (Q):                   1.78   Jarque-Bera (JB):               247.54\n",
              "Prob(Q):                              0.18   Prob(JB):                         0.00\n",
              "Heteroskedasticity (H):               0.78   Skew:                            -0.22\n",
              "Prob(H) (two-sided):                  0.08   Kurtosis:                         6.13\n",
              "===================================================================================\n",
              "\n",
              "Warnings:\n",
              "[1] Covariance matrix calculated using the outer product of gradients (complex-step).\n",
              "\"\"\""
            ],
            "text/html": [
              "<table class=\"simpletable\">\n",
              "<caption>SARIMAX Results</caption>\n",
              "<tr>\n",
              "  <th>Dep. Variable:</th>                  <td>y</td>               <th>  No. Observations:  </th>    <td>606</td>   \n",
              "</tr>\n",
              "<tr>\n",
              "  <th>Model:</th>           <td>SARIMAX(2, 1, 2)x(0, 1, 2, 12)</td> <th>  Log Likelihood     </th> <td>-1146.932</td>\n",
              "</tr>\n",
              "<tr>\n",
              "  <th>Date:</th>                   <td>Mon, 27 Mar 2023</td>        <th>  AIC                </th> <td>2307.864</td> \n",
              "</tr>\n",
              "<tr>\n",
              "  <th>Time:</th>                       <td>16:05:34</td>            <th>  BIC                </th> <td>2338.560</td> \n",
              "</tr>\n",
              "<tr>\n",
              "  <th>Sample:</th>                         <td>0</td>               <th>  HQIC               </th> <td>2319.819</td> \n",
              "</tr>\n",
              "<tr>\n",
              "  <th></th>                             <td> - 606</td>             <th>                     </th>     <td> </td>    \n",
              "</tr>\n",
              "<tr>\n",
              "  <th>Covariance Type:</th>               <td>opg</td>              <th>                     </th>     <td> </td>    \n",
              "</tr>\n",
              "</table>\n",
              "<table class=\"simpletable\">\n",
              "<tr>\n",
              "      <td></td>        <th>coef</th>     <th>std err</th>      <th>z</th>      <th>P>|z|</th>  <th>[0.025</th>    <th>0.975]</th>  \n",
              "</tr>\n",
              "<tr>\n",
              "  <th>ar.L1</th>    <td>    0.4318</td> <td>    0.034</td> <td>   12.660</td> <td> 0.000</td> <td>    0.365</td> <td>    0.499</td>\n",
              "</tr>\n",
              "<tr>\n",
              "  <th>ar.L2</th>    <td>   -0.9019</td> <td>    0.034</td> <td>  -26.891</td> <td> 0.000</td> <td>   -0.968</td> <td>   -0.836</td>\n",
              "</tr>\n",
              "<tr>\n",
              "  <th>ma.L1</th>    <td>   -0.4709</td> <td>    0.019</td> <td>  -24.352</td> <td> 0.000</td> <td>   -0.509</td> <td>   -0.433</td>\n",
              "</tr>\n",
              "<tr>\n",
              "  <th>ma.L2</th>    <td>    0.9788</td> <td>    0.021</td> <td>   45.669</td> <td> 0.000</td> <td>    0.937</td> <td>    1.021</td>\n",
              "</tr>\n",
              "<tr>\n",
              "  <th>ma.S.L12</th> <td>   -1.0597</td> <td>   12.390</td> <td>   -0.086</td> <td> 0.932</td> <td>  -25.344</td> <td>   23.225</td>\n",
              "</tr>\n",
              "<tr>\n",
              "  <th>ma.S.L24</th> <td>    0.0598</td> <td>    0.724</td> <td>    0.083</td> <td> 0.934</td> <td>   -1.359</td> <td>    1.479</td>\n",
              "</tr>\n",
              "<tr>\n",
              "  <th>sigma2</th>   <td>    2.5810</td> <td>   32.001</td> <td>    0.081</td> <td> 0.936</td> <td>  -60.141</td> <td>   65.303</td>\n",
              "</tr>\n",
              "</table>\n",
              "<table class=\"simpletable\">\n",
              "<tr>\n",
              "  <th>Ljung-Box (L1) (Q):</th>     <td>1.78</td> <th>  Jarque-Bera (JB):  </th> <td>247.54</td>\n",
              "</tr>\n",
              "<tr>\n",
              "  <th>Prob(Q):</th>                <td>0.18</td> <th>  Prob(JB):          </th>  <td>0.00</td> \n",
              "</tr>\n",
              "<tr>\n",
              "  <th>Heteroskedasticity (H):</th> <td>0.78</td> <th>  Skew:              </th>  <td>-0.22</td>\n",
              "</tr>\n",
              "<tr>\n",
              "  <th>Prob(H) (two-sided):</th>    <td>0.08</td> <th>  Kurtosis:          </th>  <td>6.13</td> \n",
              "</tr>\n",
              "</table><br/><br/>Warnings:<br/>[1] Covariance matrix calculated using the outer product of gradients (complex-step)."
            ]
          },
          "metadata": {},
          "execution_count": 18
        }
      ]
    },
    {
      "cell_type": "code",
      "source": [
        "forecast = model_opt_fit.forecast(152) #df_test의 152개 관측치 예측"
      ],
      "metadata": {
        "id": "57tXHLvcycoa"
      },
      "execution_count": 19,
      "outputs": []
    },
    {
      "cell_type": "code",
      "source": [
        "list(forecast)"
      ],
      "metadata": {
        "colab": {
          "base_uri": "https://localhost:8080/"
        },
        "id": "-D2xQ58hyg5M",
        "outputId": "479b4916-e088-428e-fb9c-19fe82e0069b"
      },
      "execution_count": 20,
      "outputs": [
        {
          "output_type": "execute_result",
          "data": {
            "text/plain": [
              "[177.96205295889274,\n",
              " 177.71707064564814,\n",
              " 177.36292785514703,\n",
              " 177.48858880575872,\n",
              " 178.40073889321383,\n",
              " 178.1829325333293,\n",
              " 177.69088757945278,\n",
              " 177.85687534810907,\n",
              " 178.31577781574092,\n",
              " 178.82904584278916,\n",
              " 178.32956302785695,\n",
              " 178.47118476424308,\n",
              " 178.01972639828512,\n",
              " 178.63843339518627,\n",
              " 178.85397906677227,\n",
              " 178.45423828915415,\n",
              " 178.66874173964962,\n",
              " 178.60938021872244,\n",
              " 178.84270310248598,\n",
              " 179.1161004362064,\n",
              " 179.01747765804393,\n",
              " 179.12759001692996,\n",
              " 178.95579639201026,\n",
              " 179.58864371825842,\n",
              " 179.05674393198453,\n",
              " 179.14890800824628,\n",
              " 179.20965944823868,\n",
              " 179.21797046244765,\n",
              " 179.74826560989814,\n",
              " 179.4572323964579,\n",
              " 179.30571579539728,\n",
              " 179.62189576360856,\n",
              " 179.88883026550744,\n",
              " 180.11819282350837,\n",
              " 179.66819293828965,\n",
              " 180.07336863788373,\n",
              " 179.6940807618911,\n",
              " 180.05747376779473,\n",
              " 180.0976929407344,\n",
              " 179.85251854513913,\n",
              " 180.29188494811345,\n",
              " 180.19020911737263,\n",
              " 180.2024591002991,\n",
              " 180.41856748519126,\n",
              " 180.49459394588882,\n",
              " 180.73178280083408,\n",
              " 180.45734122638933,\n",
              " 180.93125875909624,\n",
              " 180.4233160454421,\n",
              " 180.66916212482593,\n",
              " 180.77466164386036,\n",
              " 180.66368825325077,\n",
              " 181.1021221880947,\n",
              " 180.87900841753427,\n",
              " 180.83966645815866,\n",
              " 181.14302350435875,\n",
              " 181.30325164309852,\n",
              " 181.49810682299133,\n",
              " 181.12944580726588,\n",
              " 181.60086303235727,\n",
              " 181.17681689149327,\n",
              " 181.46114178470958,\n",
              " 181.50758922579416,\n",
              " 181.33641519607616,\n",
              " 181.80211528801274,\n",
              " 181.6450688595706,\n",
              " 181.60966138399587,\n",
              " 181.8551313494219,\n",
              " 181.9868172449211,\n",
              " 182.22155693589892,\n",
              " 181.89585887881836,\n",
              " 182.34985442922607,\n",
              " 181.87953806445393,\n",
              " 182.15959752424402,\n",
              " 182.24593421395693,\n",
              " 182.0958300341766,\n",
              " 182.53465145021397,\n",
              " 182.34699687804635,\n",
              " 182.322615573353,\n",
              " 182.60045163687002,\n",
              " 182.73616769731717,\n",
              " 182.9434566319183,\n",
              " 182.60227144678726,\n",
              " 183.07433788520754,\n",
              " 182.62579171561438,\n",
              " 182.89895277475316,\n",
              " 182.96267651177385,\n",
              " 182.80903043743075,\n",
              " 183.2667171075907,\n",
              " 183.0904023553043,\n",
              " 183.05390271947016,\n",
              " 183.31627914728034,\n",
              " 183.4562497152176,\n",
              " 183.6793185884468,\n",
              " 183.34110954213398,\n",
              " 183.80022911868517,\n",
              " 183.34340875021982,\n",
              " 183.62467400194558,\n",
              " 183.69935933001514,\n",
              " 183.5431369745189,\n",
              " 183.9898250771532,\n",
              " 183.81108504035925,\n",
              " 183.78345780847883,\n",
              " 184.05185240424493,\n",
              " 184.1864194359354,\n",
              " 184.40172747815262,\n",
              " 184.06504098574564,\n",
              " 184.5318174126329,\n",
              " 184.07692983670538,\n",
              " 184.35212392344195,\n",
              " 184.42244474340887,\n",
              " 184.26981349458995,\n",
              " 184.72198845144106,\n",
              " 184.54237865464134,\n",
              " 184.5094273177381,\n",
              " 184.77630757199816,\n",
              " 184.9150225488137,\n",
              " 185.13348731643225,\n",
              " 184.79442278030137,\n",
              " 185.2573254081045,\n",
              " 184.80291000018934,\n",
              " 185.08180171698373,\n",
              " 185.15329320632398,\n",
              " 184.9978325370256,\n",
              " 185.44773002077525,\n",
              " 185.26968872817446,\n",
              " 185.23946866365245,\n",
              " 185.5061135645746,\n",
              " 185.64226360026635,\n",
              " 185.85983317438078,\n",
              " 185.5226954327435,\n",
              " 185.98723735871735,\n",
              " 185.53179197817445,\n",
              " 185.80876051023722,\n",
              " 185.88035055934472,\n",
              " 185.72666695727509,\n",
              " 186.17724282989894,\n",
              " 185.99789171385748,\n",
              " 185.9664942742885,\n",
              " 186.2338121475012,\n",
              " 186.3713146203006,\n",
              " 186.58886118161246,\n",
              " 186.25049374637354,\n",
              " 186.714525486012,\n",
              " 186.2599688792586,\n",
              " 186.53778128972397,\n",
              " 186.60893411653157,\n",
              " 186.45430064573364,\n",
              " 186.9048607250823,\n",
              " 186.72635947269302,\n",
              " 186.69534322034835,\n",
              " 186.96205918923192]"
            ]
          },
          "metadata": {},
          "execution_count": 20
        }
      ]
    },
    {
      "cell_type": "code",
      "source": [
        "fcast = list(forecast)"
      ],
      "metadata": {
        "id": "JmLdxT5ayi6O"
      },
      "execution_count": 21,
      "outputs": []
    },
    {
      "cell_type": "code",
      "source": [
        "print(f\"MSE : {mean_squared_error(df_test['Close'], fcast)}\")\n",
        "print(f\"RMSE : {np.sqrt(mean_squared_error(df_test['Close'],fcast))}\")\n",
        "print(f\"MAE : {mean_absolute_error(df_test['Close'],fcast)}\")\n",
        "print(f\"MAPE : {mean_absolute_percentage_error(df_test['Close'],fcast)}\")\n",
        "print(f\"R2 : {r2_score(df_test['Close'], fcast)}\")"
      ],
      "metadata": {
        "colab": {
          "base_uri": "https://localhost:8080/"
        },
        "id": "bILulcr3yllF",
        "outputId": "1b678e9b-611a-48ed-ae12-7dfdbb3de21d"
      },
      "execution_count": 22,
      "outputs": [
        {
          "output_type": "stream",
          "name": "stdout",
          "text": [
            "MSE : 244.19480472339097\n",
            "RMSE : 15.626733654970606\n",
            "MAE : 13.166386302114658\n",
            "MAPE : 0.0652312409949085\n",
            "R2 : -0.8005285943618075\n"
          ]
        }
      ]
    },
    {
      "cell_type": "markdown",
      "source": [
        "동일한 Test Set에 대해 예측해본 결과, SARIMA의 성능이 ARIMA보다 좋은 것을 알 수 있다. "
      ],
      "metadata": {
        "id": "3r5xp5dn0bUC"
      }
    },
    {
      "cell_type": "markdown",
      "source": [
        "## 4. Forecasting a Time Series to Future"
      ],
      "metadata": {
        "id": "uAdoF39Kh66A"
      }
    },
    {
      "cell_type": "code",
      "source": [
        "df_train['Close'].plot(legend = True, label ='Train')\n",
        "df_test['Close'].plot(legend = True, label = 'Test', figsize = (12, 8))\n",
        "plt.title('Train and Test Data')"
      ],
      "metadata": {
        "colab": {
          "base_uri": "https://localhost:8080/",
          "height": 507
        },
        "id": "-bqkEVRPfyd7",
        "outputId": "c3c05986-df6a-4862-e37e-9dc52f634718"
      },
      "execution_count": null,
      "outputs": [
        {
          "output_type": "execute_result",
          "data": {
            "text/plain": [
              "Text(0.5, 1.0, 'Train and Test Data')"
            ]
          },
          "metadata": {},
          "execution_count": 47
        },
        {
          "output_type": "display_data",
          "data": {
            "text/plain": [
              "<Figure size 864x576 with 1 Axes>"
            ],
            "image/png": "[encoded data removed]"
          },
          "metadata": {
            "needs_background": "light"
          }
        }
      ]
    },
    {
      "cell_type": "code",
      "source": [
        "df_train['Close'].plot(legend = True, label ='Train').autoscale(axis = 'x', tight = True)\n",
        "df_test['Close'].plot(legend = True, label = 'Test', figsize = (12, 8)).autoscale(axis = 'x', tight = True)\n",
        "forecast.plot(legend = True, label = 'Predicted', figsize = (12, 8))\n",
        "plt.title('Train and Test Data')"
      ],
      "metadata": {
        "colab": {
          "base_uri": "https://localhost:8080/",
          "height": 488
        },
        "id": "Cn7o2k9Tvd69",
        "outputId": "03cfd3b2-73f1-4724-8c11-37cb7e25c7ff"
      },
      "execution_count": null,
      "outputs": [
        {
          "output_type": "execute_result",
          "data": {
            "text/plain": [
              "Text(0.5, 1.0, 'Train and Test Data')"
            ]
          },
          "metadata": {},
          "execution_count": 57
        },
        {
          "output_type": "display_data",
          "data": {
            "text/plain": [
              "<Figure size 864x576 with 1 Axes>"
            ],
            "image/png": "[encoded data removed]"
          },
          "metadata": {
            "needs_background": "light"
          }
        }
      ]
    },
    {
      "cell_type": "markdown",
      "source": [
        "### ARIMA"
      ],
      "metadata": {
        "id": "HoTCO4sjxhxn"
      }
    },
    {
      "cell_type": "code",
      "source": [
        "#Final model \n",
        "fin_model= ARIMA(df['Close'], order = optimal[0][0]).fit()"
      ],
      "metadata": {
        "colab": {
          "base_uri": "https://localhost:8080/"
        },
        "id": "D8V4vmbThwTy",
        "outputId": "83b3a12c-6341-4255-adcc-b1c650b53c3b"
      },
      "execution_count": null,
      "outputs": [
        {
          "output_type": "stream",
          "name": "stderr",
          "text": [
            "/usr/local/lib/python3.9/dist-packages/statsmodels/tsa/base/tsa_model.py:471: ValueWarning: A date index has been provided, but it has no associated frequency information and so will be ignored when e.g. forecasting.\n",
            "  self._init_dates(dates, freq)\n",
            "/usr/local/lib/python3.9/dist-packages/statsmodels/tsa/base/tsa_model.py:471: ValueWarning: A date index has been provided, but it has no associated frequency information and so will be ignored when e.g. forecasting.\n",
            "  self._init_dates(dates, freq)\n",
            "/usr/local/lib/python3.9/dist-packages/statsmodels/tsa/base/tsa_model.py:471: ValueWarning: A date index has been provided, but it has no associated frequency information and so will be ignored when e.g. forecasting.\n",
            "  self._init_dates(dates, freq)\n"
          ]
        }
      ]
    },
    {
      "cell_type": "code",
      "source": [
        "forecast_predictions = fin_model.forecast(50)"
      ],
      "metadata": {
        "colab": {
          "base_uri": "https://localhost:8080/"
        },
        "id": "4pCYDPulihuz",
        "outputId": "3eba1332-5278-4d49-b096-df3b5543390a"
      },
      "execution_count": null,
      "outputs": [
        {
          "output_type": "stream",
          "name": "stderr",
          "text": [
            "/usr/local/lib/python3.9/dist-packages/statsmodels/tsa/base/tsa_model.py:834: ValueWarning: No supported index is available. Prediction results will be given with an integer index beginning at `start`.\n",
            "  return get_prediction_index(\n"
          ]
        }
      ]
    },
    {
      "cell_type": "code",
      "source": [
        "forecast_predictions"
      ],
      "metadata": {
        "colab": {
          "base_uri": "https://localhost:8080/"
        },
        "id": "k90Hgz-tk1dV",
        "outputId": "fa9453dc-2ba0-40c9-ed74-2bfcf7a3a09e"
      },
      "execution_count": null,
      "outputs": [
        {
          "output_type": "execute_result",
          "data": {
            "text/plain": [
              "758   206.08\n",
              "759   206.08\n",
              "760   206.03\n",
              "761   206.02\n",
              "762   206.04\n",
              "763   206.05\n",
              "764   206.05\n",
              "765   206.04\n",
              "766   206.04\n",
              "767   206.04\n",
              "768   206.04\n",
              "769   206.04\n",
              "770   206.04\n",
              "771   206.04\n",
              "772   206.04\n",
              "773   206.04\n",
              "774   206.04\n",
              "775   206.04\n",
              "776   206.04\n",
              "777   206.04\n",
              "778   206.04\n",
              "779   206.04\n",
              "780   206.04\n",
              "781   206.04\n",
              "782   206.04\n",
              "783   206.04\n",
              "784   206.04\n",
              "785   206.04\n",
              "786   206.04\n",
              "787   206.04\n",
              "788   206.04\n",
              "789   206.04\n",
              "790   206.04\n",
              "791   206.04\n",
              "792   206.04\n",
              "793   206.04\n",
              "794   206.04\n",
              "795   206.04\n",
              "796   206.04\n",
              "797   206.04\n",
              "798   206.04\n",
              "799   206.04\n",
              "800   206.04\n",
              "801   206.04\n",
              "802   206.04\n",
              "803   206.04\n",
              "804   206.04\n",
              "805   206.04\n",
              "806   206.04\n",
              "807   206.04\n",
              "Name: predicted_mean, dtype: float64"
            ]
          },
          "metadata": {},
          "execution_count": 50
        }
      ]
    },
    {
      "cell_type": "code",
      "source": [
        "forecast_pred = list(forecast_predictions)"
      ],
      "metadata": {
        "id": "UdjsfCEUjmbf"
      },
      "execution_count": null,
      "outputs": []
    },
    {
      "cell_type": "code",
      "source": [
        "df['Close'].plot(legend = True, label ='Current Stock Price')\n",
        "forecast_predictions.plot(legend = True, label = 'Forecasted Stock Price')\n",
        "plt.title('Stock Price Forecast')"
      ],
      "metadata": {
        "colab": {
          "base_uri": "https://localhost:8080/",
          "height": 292
        },
        "id": "XWvYfCOFhGaB",
        "outputId": "1fd35beb-3c4c-4ce1-bdea-8ff7eac39e48"
      },
      "execution_count": null,
      "outputs": [
        {
          "output_type": "execute_result",
          "data": {
            "text/plain": [
              "Text(0.5, 1.0, 'Stock Price Forecast')"
            ]
          },
          "metadata": {},
          "execution_count": 53
        },
        {
          "output_type": "display_data",
          "data": {
            "text/plain": [
              "<Figure size 432x288 with 1 Axes>"
            ],
            "image/png": "[encoded data removed]"
          },
          "metadata": {
            "needs_background": "light"
          }
        }
      ]
    },
    {
      "cell_type": "markdown",
      "source": [
        "### SARIMA"
      ],
      "metadata": {
        "id": "r2ZWqrbEw8-y"
      }
    },
    {
      "cell_type": "code",
      "source": [
        "#Final model \n",
        "fin_model = SARIMAX(df['Close'].values, order=optimal[0][0][0], seasonal_order = optimal[0][0][1]).fit()"
      ],
      "metadata": {
        "id": "G3Ilgyo108XT"
      },
      "execution_count": 26,
      "outputs": []
    },
    {
      "cell_type": "code",
      "source": [
        "forecast_predictions = fin_model.forecast(50)"
      ],
      "metadata": {
        "id": "ZKXKp2UJ1QvK"
      },
      "execution_count": 27,
      "outputs": []
    },
    {
      "cell_type": "code",
      "source": [
        "forecast_predictions"
      ],
      "metadata": {
        "colab": {
          "base_uri": "https://localhost:8080/"
        },
        "id": "Jxd8i_oc1dNw",
        "outputId": "e5ae762e-b507-4b57-e82f-19c1db6d3cdc"
      },
      "execution_count": 28,
      "outputs": [
        {
          "output_type": "execute_result",
          "data": {
            "text/plain": [
              "array([206.84181253, 207.77459902, 207.19130749, 206.77407834,\n",
              "       206.24679484, 207.20567208, 207.72057251, 207.22360894,\n",
              "       207.1218279 , 207.13782775, 207.60252079, 207.84107385,\n",
              "       207.56011312, 207.49485095, 207.61667233, 208.46566498,\n",
              "       208.03714727, 207.97145659, 207.98390266, 208.26828298,\n",
              "       208.92622577, 208.61045379, 208.12683741, 208.228795  ,\n",
              "       208.77133073, 209.21522352, 208.81675675, 208.95320627,\n",
              "       208.6704712 , 209.32939797, 209.54670208, 209.25945667,\n",
              "       209.46114242, 209.45839711, 209.54158803, 209.62047902,\n",
              "       209.63008341, 209.84579084, 209.831453  , 210.35789208,\n",
              "       209.90383394, 210.12332127, 210.29276999, 210.38793193,\n",
              "       210.81268395, 210.56207442, 210.32376896, 210.48051548,\n",
              "       210.8227176 , 211.12237512])"
            ]
          },
          "metadata": {},
          "execution_count": 28
        }
      ]
    },
    {
      "cell_type": "code",
      "source": [
        "forecast_pred = list(forecast_predictions)"
      ],
      "metadata": {
        "id": "qF0xxkpp3n0d"
      },
      "execution_count": 43,
      "outputs": []
    },
    {
      "cell_type": "code",
      "source": [
        "df['Close'].plot(legend = True, label ='Current Stock Price')\n",
        "plt.plot(forecast_pred)\n",
        "#forecast_pred.plot(legend = True, label = 'Forecasted Stock Price')\n",
        "plt.title('Stock Price Forecast')"
      ],
      "metadata": {
        "colab": {
          "base_uri": "https://localhost:8080/",
          "height": 303
        },
        "id": "iYiFv2SL1pW3",
        "outputId": "797e26d9-ac63-4c09-9d84-49399f9ad162"
      },
      "execution_count": 46,
      "outputs": [
        {
          "output_type": "execute_result",
          "data": {
            "text/plain": [
              "Text(0.5, 1.0, 'Stock Price Forecast')"
            ]
          },
          "metadata": {},
          "execution_count": 46
        },
        {
          "output_type": "display_data",
          "data": {
            "text/plain": [
              "<Figure size 432x288 with 1 Axes>"
            ],
            "image/png": "[encoded data removed]"
          },
          "metadata": {
            "needs_background": "light"
          }
        }
      ]
    },
    {
      "cell_type": "markdown",
      "source": [
        "### Auto Arima"
      ],
      "metadata": {
        "id": "NtGKd3wax8vI"
      }
    },
    {
      "cell_type": "code",
      "source": [
        "#auto_arima ram 부족 \n",
        "auto_arima_model = auto_arima(df_train['Close'], start_p = 1, start_q =1,\n",
        "                              max_p =3, max_q =3, seasonal = False,\n",
        "                              d =1,\n",
        "                              trace = True, #stepwise로 모델을 적합할 때마다 결과를 프린트하고 싶을 때 사용\n",
        "                              error_action = 'ignore',\n",
        "                              suppress_warnings = True,\n",
        "                              stepwise = False)"
      ],
      "metadata": {
        "colab": {
          "base_uri": "https://localhost:8080/"
        },
        "id": "6R8MQtm9SAEC",
        "outputId": "a8469458-4aac-4d92-974a-e7a5a2255598"
      },
      "execution_count": 49,
      "outputs": [
        {
          "output_type": "stream",
          "name": "stdout",
          "text": [
            " ARIMA(0,1,0)(0,0,0)[0] intercept   : AIC=2322.126, Time=0.04 sec\n",
            " ARIMA(0,1,1)(0,0,0)[0] intercept   : AIC=2317.137, Time=0.11 sec\n",
            " ARIMA(0,1,2)(0,0,0)[0] intercept   : AIC=2315.980, Time=0.16 sec\n",
            " ARIMA(0,1,3)(0,0,0)[0] intercept   : AIC=2316.667, Time=0.21 sec\n",
            " ARIMA(1,1,0)(0,0,0)[0] intercept   : AIC=2316.335, Time=0.09 sec\n",
            " ARIMA(1,1,1)(0,0,0)[0] intercept   : AIC=2317.798, Time=0.25 sec\n",
            " ARIMA(1,1,2)(0,0,0)[0] intercept   : AIC=2317.386, Time=0.34 sec\n",
            " ARIMA(1,1,3)(0,0,0)[0] intercept   : AIC=2317.449, Time=0.52 sec\n",
            " ARIMA(2,1,0)(0,0,0)[0] intercept   : AIC=2317.086, Time=0.15 sec\n",
            " ARIMA(2,1,1)(0,0,0)[0] intercept   : AIC=2318.076, Time=1.39 sec\n",
            " ARIMA(2,1,2)(0,0,0)[0] intercept   : AIC=2312.334, Time=2.74 sec\n",
            " ARIMA(2,1,3)(0,0,0)[0] intercept   : AIC=2319.408, Time=1.25 sec\n",
            " ARIMA(3,1,0)(0,0,0)[0] intercept   : AIC=2316.282, Time=0.17 sec\n",
            " ARIMA(3,1,1)(0,0,0)[0] intercept   : AIC=2317.516, Time=0.46 sec\n",
            " ARIMA(3,1,2)(0,0,0)[0] intercept   : AIC=2319.512, Time=0.65 sec\n",
            "\n",
            "Best model:  ARIMA(2,1,2)(0,0,0)[0] intercept\n",
            "Total fit time: 8.553 seconds\n"
          ]
        }
      ]
    },
    {
      "cell_type": "code",
      "source": [
        "auto_arima_model.summary()"
      ],
      "metadata": {
        "id": "G045B5EEVzGy",
        "colab": {
          "base_uri": "https://localhost:8080/",
          "height": 494
        },
        "outputId": "04e719b9-d410-4bf4-bd7d-59598e285b6f"
      },
      "execution_count": 50,
      "outputs": [
        {
          "output_type": "execute_result",
          "data": {
            "text/plain": [
              "<class 'statsmodels.iolib.summary.Summary'>\n",
              "\"\"\"\n",
              "                               SARIMAX Results                                \n",
              "==============================================================================\n",
              "Dep. Variable:                      y   No. Observations:                  606\n",
              "Model:               SARIMAX(2, 1, 2)   Log Likelihood               -1150.167\n",
              "Date:                Mon, 27 Mar 2023   AIC                           2312.334\n",
              "Time:                        16:26:21   BIC                           2338.766\n",
              "Sample:                             0   HQIC                          2322.620\n",
              "                                - 606                                         \n",
              "Covariance Type:                  opg                                         \n",
              "==============================================================================\n",
              "                 coef    std err          z      P>|z|      [0.025      0.975]\n",
              "------------------------------------------------------------------------------\n",
              "intercept      0.0911      0.100      0.914      0.361      -0.104       0.287\n",
              "ar.L1          0.4323      0.035     12.291      0.000       0.363       0.501\n",
              "ar.L2         -0.9045      0.033    -27.549      0.000      -0.969      -0.840\n",
              "ma.L1         -0.4712      0.020    -23.231      0.000      -0.511      -0.431\n",
              "ma.L2          0.9772      0.022     45.209      0.000       0.935       1.020\n",
              "sigma2         2.6183      0.095     27.469      0.000       2.431       2.805\n",
              "===================================================================================\n",
              "Ljung-Box (L1) (Q):                   3.64   Jarque-Bera (JB):               291.76\n",
              "Prob(Q):                              0.06   Prob(JB):                         0.00\n",
              "Heteroskedasticity (H):               0.71   Skew:                            -0.21\n",
              "Prob(H) (two-sided):                  0.01   Kurtosis:                         6.38\n",
              "===================================================================================\n",
              "\n",
              "Warnings:\n",
              "[1] Covariance matrix calculated using the outer product of gradients (complex-step).\n",
              "\"\"\""
            ],
            "text/html": [
              "<table class=\"simpletable\">\n",
              "<caption>SARIMAX Results</caption>\n",
              "<tr>\n",
              "  <th>Dep. Variable:</th>           <td>y</td>        <th>  No. Observations:  </th>    <td>606</td>   \n",
              "</tr>\n",
              "<tr>\n",
              "  <th>Model:</th>           <td>SARIMAX(2, 1, 2)</td> <th>  Log Likelihood     </th> <td>-1150.167</td>\n",
              "</tr>\n",
              "<tr>\n",
              "  <th>Date:</th>            <td>Mon, 27 Mar 2023</td> <th>  AIC                </th> <td>2312.334</td> \n",
              "</tr>\n",
              "<tr>\n",
              "  <th>Time:</th>                <td>16:26:21</td>     <th>  BIC                </th> <td>2338.766</td> \n",
              "</tr>\n",
              "<tr>\n",
              "  <th>Sample:</th>                  <td>0</td>        <th>  HQIC               </th> <td>2322.620</td> \n",
              "</tr>\n",
              "<tr>\n",
              "  <th></th>                      <td> - 606</td>      <th>                     </th>     <td> </td>    \n",
              "</tr>\n",
              "<tr>\n",
              "  <th>Covariance Type:</th>        <td>opg</td>       <th>                     </th>     <td> </td>    \n",
              "</tr>\n",
              "</table>\n",
              "<table class=\"simpletable\">\n",
              "<tr>\n",
              "      <td></td>         <th>coef</th>     <th>std err</th>      <th>z</th>      <th>P>|z|</th>  <th>[0.025</th>    <th>0.975]</th>  \n",
              "</tr>\n",
              "<tr>\n",
              "  <th>intercept</th> <td>    0.0911</td> <td>    0.100</td> <td>    0.914</td> <td> 0.361</td> <td>   -0.104</td> <td>    0.287</td>\n",
              "</tr>\n",
              "<tr>\n",
              "  <th>ar.L1</th>     <td>    0.4323</td> <td>    0.035</td> <td>   12.291</td> <td> 0.000</td> <td>    0.363</td> <td>    0.501</td>\n",
              "</tr>\n",
              "<tr>\n",
              "  <th>ar.L2</th>     <td>   -0.9045</td> <td>    0.033</td> <td>  -27.549</td> <td> 0.000</td> <td>   -0.969</td> <td>   -0.840</td>\n",
              "</tr>\n",
              "<tr>\n",
              "  <th>ma.L1</th>     <td>   -0.4712</td> <td>    0.020</td> <td>  -23.231</td> <td> 0.000</td> <td>   -0.511</td> <td>   -0.431</td>\n",
              "</tr>\n",
              "<tr>\n",
              "  <th>ma.L2</th>     <td>    0.9772</td> <td>    0.022</td> <td>   45.209</td> <td> 0.000</td> <td>    0.935</td> <td>    1.020</td>\n",
              "</tr>\n",
              "<tr>\n",
              "  <th>sigma2</th>    <td>    2.6183</td> <td>    0.095</td> <td>   27.469</td> <td> 0.000</td> <td>    2.431</td> <td>    2.805</td>\n",
              "</tr>\n",
              "</table>\n",
              "<table class=\"simpletable\">\n",
              "<tr>\n",
              "  <th>Ljung-Box (L1) (Q):</th>     <td>3.64</td> <th>  Jarque-Bera (JB):  </th> <td>291.76</td>\n",
              "</tr>\n",
              "<tr>\n",
              "  <th>Prob(Q):</th>                <td>0.06</td> <th>  Prob(JB):          </th>  <td>0.00</td> \n",
              "</tr>\n",
              "<tr>\n",
              "  <th>Heteroskedasticity (H):</th> <td>0.71</td> <th>  Skew:              </th>  <td>-0.21</td>\n",
              "</tr>\n",
              "<tr>\n",
              "  <th>Prob(H) (two-sided):</th>    <td>0.01</td> <th>  Kurtosis:          </th>  <td>6.38</td> \n",
              "</tr>\n",
              "</table><br/><br/>Warnings:<br/>[1] Covariance matrix calculated using the outer product of gradients (complex-step)."
            ]
          },
          "metadata": {},
          "execution_count": 50
        }
      ]
    },
    {
      "cell_type": "code",
      "source": [
        "prediction = auto_arima_model.predict(len(df_test['Close']), return_conf_int = True) #return_conf_int:\n",
        "predicted_value = prediction[0]\n",
        "predicted_ub = prediction[1][:,0]\n",
        "predicted_lb = prediction[1][:,1]\n",
        "predict_index = list(df_test.index)\n",
        "predict_index[0]"
      ],
      "metadata": {
        "id": "wicR6CpTV2tp",
        "colab": {
          "base_uri": "https://localhost:8080/"
        },
        "outputId": "eb024273-40ee-4082-f8bd-4c47771da0dd"
      },
      "execution_count": 51,
      "outputs": [
        {
          "output_type": "stream",
          "name": "stderr",
          "text": [
            "/usr/local/lib/python3.9/dist-packages/statsmodels/tsa/base/tsa_model.py:834: ValueWarning: No supported index is available. Prediction results will be given with an integer index beginning at `start`.\n",
            "  return get_prediction_index(\n"
          ]
        },
        {
          "output_type": "execute_result",
          "data": {
            "text/plain": [
              "Timestamp('2017-01-05 00:00:00')"
            ]
          },
          "metadata": {},
          "execution_count": 51
        }
      ]
    },
    {
      "cell_type": "code",
      "source": [
        "fig, ax = plt.subplots(figsize = (12,6))\n",
        "df.Close.plot(ax = ax);\n",
        "#ax.vline\n",
        "ax.plot(predict_index, predicted_value, label = 'Prediction')\n",
        "ax.fill_between(predict_index, predicted_lb, predicted_ub, color = 'k', alpha = 0.1, label = '0.95 Prediction Interval')\n",
        "ax.legend(loc = 'upper left')\n",
        "plt.suptitle(f'ARIMA {auto_arima_model.order}, Prediction Results')\n",
        "plt.show()"
      ],
      "metadata": {
        "id": "47kTc3LIWVJb",
        "colab": {
          "base_uri": "https://localhost:8080/",
          "height": 418
        },
        "outputId": "0a07f018-a6d2-4b31-9ea5-b77d8d4b1b5a"
      },
      "execution_count": 53,
      "outputs": [
        {
          "output_type": "display_data",
          "data": {
            "text/plain": [
              "<Figure size 864x432 with 1 Axes>"
            ],
            "image/png": "[encoded data removed]"
          },
          "metadata": {
            "needs_background": "light"
          }
        }
      ]
    }
  ]
}